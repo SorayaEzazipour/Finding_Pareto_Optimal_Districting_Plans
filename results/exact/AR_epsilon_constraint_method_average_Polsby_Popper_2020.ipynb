{
 "cells": [
  {
   "cell_type": "code",
   "execution_count": 1,
   "id": "43d991cb",
   "metadata": {},
   "outputs": [],
   "source": [
    "state = 'AR' \n",
    "year = 2020\n",
    "obj_type = 'average_Polsby_Popper'\n",
    "starting_deviation = 0.01 "
   ]
  },
  {
   "cell_type": "code",
   "execution_count": 2,
   "id": "aa44ff69",
   "metadata": {},
   "outputs": [],
   "source": [
    "import sys, os\n",
    "src_path = os.path.abspath(os.path.join('..', '..', 'src'))\n",
    "sys.path.append(src_path)"
   ]
  },
  {
   "cell_type": "code",
   "execution_count": 3,
   "id": "7a33a9f2",
   "metadata": {},
   "outputs": [],
   "source": [
    "filepath = '../../dat/' + str(year) + '/'\n",
    "filename = state + '_county.json'\n",
    "filename2 = state + '_county.shp'"
   ]
  },
  {
   "cell_type": "code",
   "execution_count": 4,
   "id": "14860fda",
   "metadata": {},
   "outputs": [
    {
     "name": "stdout",
     "output_type": "stream",
     "text": [
      "The state of AR has 4 districts.\n"
     ]
    }
   ],
   "source": [
    "from read import read_graph_from_json\n",
    "\n",
    "G = read_graph_from_json(state, filepath + filename, year=year)\n",
    "print(f\"The state of {state} has {G._k} districts.\")\n",
    "G._ideal_population = sum(G.nodes[i]['TOTPOP'] for i in G.nodes) / G._k"
   ]
  },
  {
   "cell_type": "code",
   "execution_count": 5,
   "id": "44678338",
   "metadata": {},
   "outputs": [
    {
     "name": "stdout",
     "output_type": "stream",
     "text": [
      "Loaded 4993 plans from file.\n"
     ]
    }
   ],
   "source": [
    "#import warm starts\n",
    "sys.path.append(os.path.abspath('../heuristic'))\n",
    "\n",
    "from AR_plans_2020 import plans\n",
    "print(f\"Loaded {len(plans)} plans from file.\")\n",
    "warm_starts = plans"
   ]
  },
  {
   "cell_type": "code",
   "execution_count": 6,
   "id": "e9527208",
   "metadata": {},
   "outputs": [
    {
     "name": "stdout",
     "output_type": "stream",
     "text": [
      "Selected 5 nondominated warm start plans\n"
     ]
    }
   ],
   "source": [
    "from pareto import filter_and_sort_pareto\n",
    "from metrics import scores\n",
    "\n",
    "plans_scores = [scores(G, plan, G._ideal_population, obj_type) for plan in warm_starts]\n",
    "_,_,nondominated_warm_starts_plans = filter_and_sort_pareto(plans=warm_starts, upper_bounds=plans_scores, obj_type=obj_type)\n",
    "print(f\"Selected {len(nondominated_warm_starts_plans)} nondominated warm start plans\")"
   ]
  },
  {
   "cell_type": "code",
   "execution_count": null,
   "id": "79f334ee",
   "metadata": {},
   "outputs": [
    {
     "name": "stdout",
     "output_type": "stream",
     "text": [
      "Initially, L = 745353 and U = 760409 and k = 4.\n",
      "\n",
      "****************************************\n",
      "Trying deviation = 7528.81\n",
      "****************************************\n",
      "Using user-provided warm starts.\n",
      "Selected warm_start = [[4, 17, 20, 28, 30, 51, 61], [6, 8, 11, 18, 19, 21, 24, 25, 27, 29, 33, 34, 35, 36, 37, 40, 42, 45, 47, 48, 54, 55, 56, 57, 60, 64, 65, 66, 67, 72], [2, 3, 5, 9, 10, 12, 13, 14, 15, 16, 26, 32, 38, 39, 41, 43, 44, 46, 49, 58, 59, 62, 63, 68, 69, 73, 74], [0, 1, 7, 22, 23, 31, 50, 52, 53, 70, 71]]\n",
      "Objective value: 0.3444692480335857\n",
      "Deviation: 7373.0\n",
      "\n",
      "****************************************\n",
      "Running labeling model!\n",
      "****************************************\n",
      "L = 745353 and U = 760409\n",
      "Set parameter Username\n",
      "Set parameter LicenseID to value 2608266\n",
      "Academic license - for non-commercial use only - expires 2026-01-09\n",
      "sizes =  [1, 1, 1, 1]\n",
      "Solving the max B problem (as MIP) for use in the vertex ordering...\n",
      "Set parameter LogToConsole to value 0\n",
      "Set parameter LazyConstraints to value 1\n",
      "Applying warm start!\n",
      "Set parameter MIPGap to value 0\n",
      "Set parameter FeasibilityTol to value 1e-07\n",
      "Set parameter TimeLimit to value 7200\n",
      "Set parameter IntFeasTol to value 1e-07\n",
      "Gurobi Optimizer version 12.0.0 build v12.0.0rc1 (win64 - Windows 10.0 (19045.2))\n",
      "\n",
      "CPU model: Intel(R) Xeon(R) CPU E5-2630 v4 @ 2.20GHz, instruction set [SSE2|AVX|AVX2]\n",
      "Thread count: 10 physical cores, 20 logical processors, using up to 20 threads\n",
      "\n",
      "Non-default parameters:\n",
      "TimeLimit  7200\n",
      "FeasibilityTol  1e-07\n",
      "IntFeasTol  1e-07\n",
      "MIPGap  0\n",
      "LazyConstraints  1\n",
      "\n",
      "Optimize a model with 4139 rows, 3592 columns and 15987 nonzeros\n",
      "Model fingerprint: 0xde4bc4bf\n",
      "Model has 4 quadratic constraints\n",
      "Variable types: 992 continuous, 2600 integer (2600 binary)\n",
      "Coefficient statistics:\n",
      "  Matrix range     [1e-06, 4e+05]\n",
      "  QMatrix range    [1e+00, 1e+01]\n",
      "  Objective range  [2e-07, 1e-01]\n",
      "  Bounds range     [1e+00, 1e+00]\n",
      "  RHS range        [1e+00, 8e+05]\n",
      "\n",
      "User MIP start produced solution with objective 0.296225 (0.09s)\n",
      "User MIP start produced solution with objective 0.327475 (0.10s)\n",
      "User MIP start produced solution with objective 0.344469 (0.11s)\n",
      "Loaded user MIP start with objective 0.344469\n",
      "\n",
      "Presolve removed 1742 rows and 1397 columns\n",
      "Presolve time: 0.09s\n",
      "Presolved: 2397 rows, 2195 columns, 10280 nonzeros\n",
      "Presolved model has 4 quadratic constraint(s)\n",
      "Variable types: 92 continuous, 2103 integer (2085 binary)\n",
      "\n",
      "Root relaxation: objective 9.999990e-01, 586 iterations, 0.01 seconds (0.00 work units)\n",
      "\n",
      "    Nodes    |    Current Node    |     Objective Bounds      |     Work\n",
      " Expl Unexpl |  Obj  Depth IntInf | Incumbent    BestBd   Gap | It/Node Time\n",
      "\n",
      "     0     0    1.00000    0   14    0.34447    1.00000   190%     -    0s\n",
      "     0     0    0.99904    0  424    0.34447    0.99904   190%     -    1s\n",
      "     0     0    0.99721    0  416    0.34447    0.99721   189%     -    2s\n",
      "     0     0    0.99246    0  444    0.34447    0.99246   188%     -    4s\n",
      "     0     0    0.99244    0  444    0.34447    0.99244   188%     -    4s\n",
      "     0     0    0.99088    0  453    0.34447    0.99088   188%     -    7s\n",
      "     0     0    0.99075    0  478    0.34447    0.99075   188%     -    7s\n",
      "     0     0    0.99069    0  485    0.34447    0.99069   188%     -    9s\n",
      "     0     0    0.99067    0  485    0.34447    0.99067   188%     -    9s\n",
      "     0     0    0.99054    0  476    0.34447    0.99054   188%     -    9s\n",
      "     0     0    0.99049    0  488    0.34447    0.99049   188%     -    9s\n",
      "     0     0    0.99042    0  491    0.34447    0.99042   188%     -   10s\n",
      "     0     0    0.99039    0  488    0.34447    0.99039   188%     -   10s\n",
      "     0     0    0.99036    0  488    0.34447    0.99036   188%     -   10s\n",
      "     0     0    0.99034    0  490    0.34447    0.99034   187%     -   10s\n",
      "     0     0    0.99033    0  494    0.34447    0.99033   187%     -   10s\n",
      "     0     0    0.99032    0  495    0.34447    0.99032   187%     -   12s\n",
      "     0     0    0.99032    0  496    0.34447    0.99032   187%     -   12s\n",
      "     0     0    0.99031    0  496    0.34447    0.99031   187%     -   12s\n",
      "     0     0    0.99031    0  500    0.34447    0.99031   187%     -   13s\n",
      "     0     0    0.99029    0  500    0.34447    0.99029   187%     -   13s\n",
      "     0     2    0.99024    0  500    0.34447    0.99024   187%     -   14s\n",
      "     1     4    0.98252    1  512    0.34447    0.99024   187%   903   15s\n"
     ]
    }
   ],
   "source": [
    "from epsilon_constraint import epsilon_constraint_method\n",
    "\n",
    "(plans, obj_bounds, deviations) = epsilon_constraint_method(\n",
    "            G,                 \n",
    "            obj_type,          \n",
    "            contiguity = 'lcut',                                             # {'lcut', 'scf', 'shir'} \n",
    "            cutoff=None,       \n",
    "            verbose= True,\n",
    "            warm_start_mode = 'user',                                        # {'None', 'user', 'refinement'}\n",
    "            warm_starts=warm_starts,                                         # if you have user define warm starts else it is None\n",
    "            starting_deviation=starting_deviation, \n",
    "            time_limit=7200, \n",
    "            sizes=None,      \n",
    "            max_B=True,                                                      # If symmetry_breaking is 'orbitope' or you have warm_start, max_B should be True   \n",
    "            symmetry_breaking='orbitope',                                    # {None, 'orbitope', 'rsum'} \n",
    "            state=state,\n",
    "            year=year\n",
    "        )"
   ]
  },
  {
   "cell_type": "code",
   "execution_count": null,
   "id": "6a4c605e",
   "metadata": {},
   "outputs": [],
   "source": [
    "result = list(zip(plans, obj_bounds , deviations))\n"
   ]
  },
  {
   "cell_type": "code",
   "execution_count": null,
   "id": "304d16c7",
   "metadata": {},
   "outputs": [],
   "source": [
    "epsilon = 1 / (2 * G._k)\n",
    "min_deviation = min(round(r[2], 1) for r in result)\n",
    "\n",
    "if min_deviation < epsilon:\n",
    "    no_solution_region = None\n",
    "else:\n",
    "    no_solution_region = [0, min_deviation]\n",
    "\n",
    "if no_solution_region is not None:\n",
    "    print(f\"No feasible solution was found within the region: {no_solution_region}\")"
   ]
  },
  {
   "cell_type": "code",
   "execution_count": null,
   "id": "2a4ab6e1",
   "metadata": {},
   "outputs": [],
   "source": [
    "from pareto import plot_pareto_frontiers\n",
    "\n",
    "plot_pareto_frontiers(\n",
    "                G,\n",
    "                method='epsilon_constraint_method',\n",
    "                plans=None,                                   #if method ='epsilon_constraint_method' is None \n",
    "                obj_types=obj_type,                               \n",
    "                ideal_population=G._ideal_population,\n",
    "                state=state,\n",
    "                filepath=filepath,\n",
    "                filename2=filename2,\n",
    "                no_solution_region=no_solution_region,\n",
    "                year=year,\n",
    "                result=result                               #if method ='heuristic' is None \n",
    "             )"
   ]
  },
  {
   "cell_type": "code",
   "execution_count": null,
   "id": "87f2e465",
   "metadata": {},
   "outputs": [],
   "source": [
    "from draw import draw_plan\n",
    "from metrics import observed_deviation_persons, compute_obj\n",
    "\n",
    "print(f\"\\n{'#' * 100}\\nPareto maps for state {state}, objective {obj_type}\\n{'#' * 100}\\n\")\n",
    "\n",
    "format_obj = {\n",
    "    'bottleneck_Polsby_Popper': lambda x: round(1 /x, 4),\n",
    "    'cut_edges': lambda x: int(x)}\n",
    "G._L = 0\n",
    "G._U = G._k * G._ideal_population\n",
    "\n",
    "for plan, obj_bound, dev in result:\n",
    "    obs_dev = observed_deviation_persons(G, plan, G._ideal_population)\n",
    "    obj = compute_obj(G, plan, obj_type)\n",
    "    obj_val = format_obj.get(obj_type, lambda x: round(x, 4))(obj)\n",
    "    deviation_percentage = round(100 * dev / G._ideal_population, 4)\n",
    "    title = f\"{round(obs_dev, 2)}-person deviation ({deviation_percentage}%), with {obj_val} {obj_type}\"\n",
    "    draw_plan(filepath, filename2, G, plan, title=title, year=year)"
   ]
  }
 ],
 "metadata": {
  "kernelspec": {
   "display_name": "Python 3 (ipykernel)",
   "language": "python",
   "name": "python3"
  },
  "language_info": {
   "codemirror_mode": {
    "name": "ipython",
    "version": 3
   },
   "file_extension": ".py",
   "mimetype": "text/x-python",
   "name": "python",
   "nbconvert_exporter": "python",
   "pygments_lexer": "ipython3",
   "version": "3.11.5"
  }
 },
 "nbformat": 4,
 "nbformat_minor": 5
}
