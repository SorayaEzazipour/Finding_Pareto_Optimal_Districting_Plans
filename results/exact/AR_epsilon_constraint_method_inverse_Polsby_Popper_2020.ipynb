{
 "cells": [
  {
   "cell_type": "code",
   "execution_count": 1,
   "id": "43d991cb",
   "metadata": {},
   "outputs": [],
   "source": [
    "state = 'AR' \n",
    "year = 2020\n",
    "obj_type = 'inverse_Polsby_Popper'\n",
    "starting_deviation = 0.01 "
   ]
  },
  {
   "cell_type": "code",
   "execution_count": 2,
   "id": "a5aec63e",
   "metadata": {},
   "outputs": [],
   "source": [
    "import sys, os\n",
    "src_path = os.path.abspath(os.path.join('..', '..', 'src'))\n",
    "sys.path.append(src_path)"
   ]
  },
  {
   "cell_type": "code",
   "execution_count": 3,
   "id": "56987027",
   "metadata": {},
   "outputs": [],
   "source": [
    "filepath = '../../dat/' + str(year) + '/'\n",
    "filename = state + '_county.json'\n",
    "filename2 = state + '_county.shp'"
   ]
  },
  {
   "cell_type": "code",
   "execution_count": 4,
   "id": "14860fda",
   "metadata": {},
   "outputs": [
    {
     "name": "stdout",
     "output_type": "stream",
     "text": [
      "The state of AR has 4 districts.\n"
     ]
    }
   ],
   "source": [
    "from read import read_graph_from_json\n",
    "\n",
    "G = read_graph_from_json(state, filepath + filename, year=year)\n",
    "print(f\"The state of {state} has {G._k} districts.\")\n",
    "G._ideal_population = sum(G.nodes[i]['TOTPOP'] for i in G.nodes) / G._k"
   ]
  },
  {
   "cell_type": "code",
   "execution_count": 5,
   "id": "44678338",
   "metadata": {},
   "outputs": [
    {
     "name": "stdout",
     "output_type": "stream",
     "text": [
      "Loaded 4993 plans from file.\n"
     ]
    }
   ],
   "source": [
    "#import warm starts\n",
    "sys.path.append(os.path.abspath('../heuristic'))\n",
    "\n",
    "from AR_plans_2020 import plans\n",
    "print(f\"Loaded {len(plans)} plans from file.\")\n",
    "warm_starts = plans"
   ]
  },
  {
   "cell_type": "code",
   "execution_count": 6,
   "id": "9e976a8e",
   "metadata": {},
   "outputs": [
    {
     "name": "stdout",
     "output_type": "stream",
     "text": [
      "Selected 10 nondominated warm start plans\n"
     ]
    }
   ],
   "source": [
    "from pareto import filter_and_sort_pareto\n",
    "from metrics import scores\n",
    "\n",
    "plans_scores = [scores(G, plan, G._ideal_population, obj_type) for plan in warm_starts]\n",
    "_,_,nondominated_warm_starts_plans = filter_and_sort_pareto(plans=warm_starts, upper_bounds=plans_scores, obj_type=obj_type)\n",
    "print(f\"Selected {len(nondominated_warm_starts_plans)} nondominated warm start plans\")"
   ]
  },
  {
   "cell_type": "code",
   "execution_count": null,
   "id": "79f334ee",
   "metadata": {},
   "outputs": [
    {
     "name": "stdout",
     "output_type": "stream",
     "text": [
      "Initially, L = 745353 and U = 760409 and k = 4.\n",
      "\n",
      "****************************************\n",
      "Trying deviation = 7528.81\n",
      "****************************************\n",
      "Using user-provided warm starts.\n",
      "Selected warm_start = [[4, 17, 20, 28, 30, 51, 61], [6, 8, 11, 18, 19, 21, 24, 25, 27, 29, 33, 34, 35, 36, 37, 40, 42, 45, 47, 48, 54, 55, 56, 57, 60, 64, 65, 66, 67, 72], [2, 3, 5, 9, 10, 12, 13, 14, 15, 16, 26, 32, 38, 39, 41, 43, 44, 46, 49, 58, 59, 62, 63, 68, 69, 73, 74], [0, 1, 7, 22, 23, 31, 50, 52, 53, 70, 71]]\n",
      "Objective value: 3.102086481847082\n",
      "Deviation: 7373.0\n",
      "\n",
      "****************************************\n",
      "Running labeling model!\n",
      "****************************************\n",
      "L = 745353 and U = 760409\n",
      "Set parameter Username\n",
      "Set parameter LicenseID to value 2608266\n",
      "Academic license - for non-commercial use only - expires 2026-01-09\n",
      "sizes =  [1, 1, 1, 1]\n",
      "Solving the max B problem (as MIP) for use in the vertex ordering...\n",
      "Set parameter LogToConsole to value 0\n",
      "Set parameter LazyConstraints to value 1\n",
      "Applying warm start!\n",
      "Set parameter MIPGap to value 0\n",
      "Set parameter FeasibilityTol to value 1e-07\n",
      "Set parameter TimeLimit to value 7200\n",
      "Set parameter IntFeasTol to value 1e-07\n",
      "Gurobi Optimizer version 12.0.0 build v12.0.0rc1 (win64 - Windows 10.0 (19045.2))\n",
      "\n",
      "CPU model: Intel(R) Xeon(R) CPU E5-2630 v4 @ 2.20GHz, instruction set [SSE2|AVX|AVX2]\n",
      "Thread count: 10 physical cores, 20 logical processors, using up to 20 threads\n",
      "\n",
      "Non-default parameters:\n",
      "TimeLimit  7200\n",
      "FeasibilityTol  1e-07\n",
      "IntFeasTol  1e-07\n",
      "MIPGap  0\n",
      "LazyConstraints  1\n",
      "\n",
      "Optimize a model with 3895 rows, 3432 columns and 15347 nonzeros\n",
      "Model fingerprint: 0x88887877\n",
      "Model has 4 quadratic constraints\n",
      "Variable types: 912 continuous, 2520 integer (2520 binary)\n",
      "Coefficient statistics:\n",
      "  Matrix range     [2e-03, 4e+05]\n",
      "  QMatrix range    [1e+00, 1e+01]\n",
      "  Objective range  [3e-01, 3e-01]\n",
      "  Bounds range     [1e+00, 1e+00]\n",
      "  RHS range        [1e+00, 8e+05]\n",
      "\n",
      "User MIP start produced solution with objective 3.10209 (0.07s)\n",
      "Loaded user MIP start with objective 3.10209\n",
      "\n",
      "Presolve removed 1742 rows and 1397 columns\n",
      "Presolve time: 0.10s\n",
      "Presolved: 2153 rows, 2035 columns, 9640 nonzeros\n",
      "Presolved model has 4 quadratic constraint(s)\n",
      "Variable types: 12 continuous, 2023 integer (2005 binary)\n",
      "\n",
      "Root relaxation: objective 0.000000e+00, 615 iterations, 0.02 seconds (0.01 work units)\n",
      "\n",
      "    Nodes    |    Current Node    |     Objective Bounds      |     Work\n",
      " Expl Unexpl |  Obj  Depth IntInf | Incumbent    BestBd   Gap | It/Node Time\n",
      "\n",
      "     0     0    0.00000    0    2    3.10209    0.00000   100%     -    0s\n",
      "     0     0    1.08823    0  383    3.10209    1.08823  64.9%     -    0s\n",
      "     0     0    1.29246    0  384    3.10209    1.29246  58.3%     -    1s\n",
      "     0     0    1.29673    0  387    3.10209    1.29673  58.2%     -    1s\n",
      "     0     0    1.32054    0  407    3.10209    1.32054  57.4%     -    3s\n",
      "     0     0    1.32356    0  409    3.10209    1.32356  57.3%     -    3s\n",
      "     0     0    1.33133    0  418    3.10209    1.33133  57.1%     -    4s\n",
      "     0     0    1.33193    0  418    3.10209    1.33193  57.1%     -    4s\n",
      "     0     0    1.33318    0  421    3.10209    1.33318  57.0%     -    4s\n",
      "     0     0    1.33692    0  420    3.10209    1.33692  56.9%     -    4s\n",
      "     0     0    1.33943    0  431    3.10209    1.33943  56.8%     -    4s\n",
      "     0     0    1.33959    0  433    3.10209    1.33959  56.8%     -    4s\n",
      "     0     0    1.34065    0  436    3.10209    1.34065  56.8%     -    5s\n",
      "     0     0    1.34088    0  436    3.10209    1.34088  56.8%     -    5s\n",
      "     0     0    1.34245    0  433    3.10209    1.34245  56.7%     -    5s\n",
      "     0     0    1.34266    0  433    3.10209    1.34266  56.7%     -    5s\n",
      "     0     2    1.34532    0  433    3.10209    1.34532  56.6%     -    6s\n",
      "   161   180    2.45674   11  437    3.10209    1.63246  47.4%   246   10s\n",
      "   556   411    2.13274    9  433    3.10209    1.80497  41.8%   198   31s\n",
      "   561   414    2.89873   17  443    3.10209    1.80497  41.8%   196   35s\n",
      "   567   418    3.06339   23  477    3.10209    1.80497  41.8%   194   40s\n",
      "   573   422    2.48161   13  490    3.10209    1.80497  41.8%   192   45s\n",
      "   744   535    2.39006   18  495    3.10209    1.93616  37.6%   239   50s\n",
      "  1026   544    2.63488   22  481    3.10209    2.17457  29.9%   241   55s\n",
      "  1502   563    3.08084   32  490    3.10209    2.25309  27.4%   231   60s\n",
      "  1822   512    2.92769   28  413    3.10209    2.33600  24.7%   228   65s\n",
      "  2418   643     cutoff   28         3.10209    2.43125  21.6%   224   70s\n",
      "  3111   733    2.90080   24  400    3.10209    2.49878  19.4%   216   75s\n",
      "  3869   724 infeasible   24         3.10209    2.59729  16.3%   212   80s\n",
      "  4462   707     cutoff   25         3.10209    2.65060  14.6%   209   85s\n",
      "  5362   621     cutoff   28         3.10209    2.72334  12.2%   208   90s\n",
      "  6476   396     cutoff   25         3.10209    2.80658  9.53%   202   95s\n",
      "\n",
      "Cutting planes:\n",
      "  Gomory: 12\n",
      "  Cover: 5\n",
      "  Clique: 2\n",
      "  Zero half: 32\n",
      "  RLT: 6\n",
      "\n",
      "Explored 7623 nodes (1475144 simplex iterations) in 98.63 seconds (27.43 work units)\n",
      "Thread count was 20 (of 20 available processors)\n",
      "\n",
      "Solution count 1: 3.10209 \n",
      "\n",
      "Optimal solution found (tolerance 0.00e+00)\n",
      "Best objective 3.102086481847e+00, best bound 3.102086481847e+00, gap 0.0000%\n",
      "\n",
      "User-callback calls 17293, time in user-callback 0.38 sec\n",
      "\n",
      "****************************************\n",
      "Optimal solution found! Gurobi status: 2\n",
      "****************************************\n",
      "plan = [[4, 17, 20, 28, 30, 51, 61], [6, 8, 11, 18, 19, 21, 24, 25, 27, 29, 33, 34, 35, 36, 37, 40, 42, 45, 47, 48, 54, 55, 56, 57, 60, 64, 65, 66, 67, 72], [2, 3, 5, 9, 10, 12, 13, 14, 15, 16, 26, 32, 38, 39, 41, 43, 44, 46, 49, 58, 59, 62, 63, 68, 69, 73, 74], [0, 1, 7, 22, 23, 31, 50, 52, 53, 70, 71]]\n",
      "\n",
      "****************************************\n",
      "Trying deviation = 7372.875\n",
      "****************************************\n",
      "Using user-provided warm starts.\n",
      "Selected warm_start = [[4, 17, 20, 28, 30, 51, 61], [6, 8, 9, 11, 18, 19, 21, 24, 25, 27, 29, 33, 34, 35, 36, 37, 40, 42, 45, 47, 48, 54, 55, 56, 57, 60, 64, 65, 66, 67, 72], [2, 3, 5, 10, 12, 13, 14, 15, 16, 26, 32, 38, 39, 41, 43, 44, 46, 49, 58, 59, 62, 63, 68, 69, 73, 74], [0, 1, 7, 22, 23, 31, 50, 52, 53, 70, 71]]\n",
      "Objective value: 3.113860461540436\n",
      "Deviation: 6618.0\n",
      "\n",
      "****************************************\n",
      "Running labeling model!\n",
      "****************************************\n",
      "L = 745509 and U = 760253\n",
      "sizes =  [1, 1, 1, 1]\n",
      "Solving the max B problem (as MIP) for use in the vertex ordering...\n",
      "Set parameter LogToConsole to value 0\n"
     ]
    }
   ],
   "source": [
    "from epsilon_constraint import epsilon_constraint_method\n",
    "\n",
    "(plans, obj_bounds, deviations) = epsilon_constraint_method(\n",
    "            G,                 \n",
    "            obj_type,          \n",
    "            contiguity = 'lcut',                                             # {'lcut', 'scf', 'shir'} \n",
    "            cutoff=None,       \n",
    "            verbose= True,\n",
    "            warm_start_mode = 'user',                                        # {'None', 'user', 'refinement'}\n",
    "            warm_starts=warm_starts,                                         # if you have user define warm starts else it is None\n",
    "            starting_deviation=starting_deviation, \n",
    "            time_limit=7200, \n",
    "            sizes=None,      \n",
    "            max_B=True,                                                      # If symmetry_breaking is 'orbitope' or you have warm_start, max_B should be True   \n",
    "            symmetry_breaking='orbitope',                                    # {None, 'orbitope', 'rsum'} \n",
    "            state=state,\n",
    "            year=year\n",
    "        )"
   ]
  },
  {
   "cell_type": "code",
   "execution_count": null,
   "id": "6a4c605e",
   "metadata": {},
   "outputs": [],
   "source": [
    "result = list(zip(plans, obj_bounds , deviations))"
   ]
  },
  {
   "cell_type": "code",
   "execution_count": null,
   "id": "304d16c7",
   "metadata": {},
   "outputs": [],
   "source": [
    "epsilon = 1 / (2 * G._k)\n",
    "min_deviation = min(round(r[2], 1) for r in result)\n",
    "\n",
    "if min_deviation < epsilon:\n",
    "    no_solution_region = None\n",
    "else:\n",
    "    no_solution_region = [0, min_deviation]\n",
    "\n",
    "if no_solution_region is not None:\n",
    "    print(f\"No feasible solution was found within the region: {no_solution_region}\")"
   ]
  },
  {
   "cell_type": "code",
   "execution_count": null,
   "id": "2a4ab6e1",
   "metadata": {},
   "outputs": [],
   "source": [
    "from pareto import plot_pareto_frontiers\n",
    "\n",
    "plot_pareto_frontiers(\n",
    "                G,\n",
    "                method='epsilon_constraint_method',\n",
    "                plans=None,                                   #if method ='epsilon_constraint_method' is None \n",
    "                obj_types=obj_type,                               \n",
    "                ideal_population=G._ideal_population,\n",
    "                state=state,\n",
    "                filepath=filepath,\n",
    "                filename2=filename2,\n",
    "                no_solution_region=no_solution_region,\n",
    "                year=year,\n",
    "                result=result                               #if method ='heuristic' is None \n",
    "             )"
   ]
  },
  {
   "cell_type": "code",
   "execution_count": null,
   "id": "87f2e465",
   "metadata": {},
   "outputs": [],
   "source": [
    "from draw import draw_plan\n",
    "from metrics import observed_deviation_persons, compute_obj\n",
    "\n",
    "print(f\"\\n{'#' * 100}\\nPareto maps for state {state}, objective {obj_type}\\n{'#' * 100}\\n\")\n",
    "\n",
    "format_obj = {\n",
    "    'bottleneck_Polsby_Popper': lambda x: round(1 /x, 4),\n",
    "    'cut_edges': lambda x: int(x)}\n",
    "G._L = 0\n",
    "G._U = G._k * G._ideal_population\n",
    "\n",
    "for plan, obj_bound, dev in result:\n",
    "    obs_dev = observed_deviation_persons(G, plan, G._ideal_population)\n",
    "    obj = compute_obj(G, plan, obj_type)\n",
    "    obj_val = format_obj.get(obj_type, lambda x: round(x, 4))(obj)\n",
    "    deviation_percentage = round(100 * dev / G._ideal_population, 4)\n",
    "    title = f\"{round(obs_dev, 2)}-person deviation ({deviation_percentage}%), with {obj_val} {obj_type}\"\n",
    "    draw_plan(filepath, filename2, G, plan, title=title, year=year)"
   ]
  }
 ],
 "metadata": {
  "kernelspec": {
   "display_name": "Python 3 (ipykernel)",
   "language": "python",
   "name": "python3"
  },
  "language_info": {
   "codemirror_mode": {
    "name": "ipython",
    "version": 3
   },
   "file_extension": ".py",
   "mimetype": "text/x-python",
   "name": "python",
   "nbconvert_exporter": "python",
   "pygments_lexer": "ipython3",
   "version": "3.11.5"
  }
 },
 "nbformat": 4,
 "nbformat_minor": 5
}
