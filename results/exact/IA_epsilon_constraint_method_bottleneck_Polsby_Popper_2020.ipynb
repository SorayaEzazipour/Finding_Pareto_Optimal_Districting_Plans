{
 "cells": [
  {
   "cell_type": "code",
   "execution_count": 1,
   "id": "43d991cb",
   "metadata": {},
   "outputs": [],
   "source": [
    "state = 'IA' \n",
    "year = 2020"
   ]
  },
  {
   "cell_type": "code",
   "execution_count": 2,
   "id": "ce3440f2",
   "metadata": {},
   "outputs": [],
   "source": [
    "import sys, os\n",
    "src_path = os.path.abspath(os.path.join('..', '..', 'src'))\n",
    "sys.path.append(src_path)"
   ]
  },
  {
   "cell_type": "code",
   "execution_count": 3,
   "id": "501cdfa3",
   "metadata": {},
   "outputs": [],
   "source": [
    "filepath = '../../dat/' + str(year) + '/'\n",
    "filename = state + '_county.json'\n",
    "filename2 = state + '_county.shp'"
   ]
  },
  {
   "cell_type": "code",
   "execution_count": 4,
   "id": "14860fda",
   "metadata": {},
   "outputs": [
    {
     "name": "stdout",
     "output_type": "stream",
     "text": [
      "The state of IA has 4 districts.\n"
     ]
    }
   ],
   "source": [
    "from read import read_graph_from_json\n",
    "from epsilon_constraint import*\n",
    "import networkx as nx\n",
    "\n",
    "G = read_graph_from_json(state, filepath + filename, year=year)\n",
    "print(f\"The state of {state} has {G._k} districts.\")\n",
    "G._ideal_population = sum(G.nodes[i]['TOTPOP'] for i in G.nodes) / G._k"
   ]
  },
  {
   "cell_type": "code",
   "execution_count": 5,
   "id": "44678338",
   "metadata": {},
   "outputs": [
    {
     "name": "stdout",
     "output_type": "stream",
     "text": [
      "Loaded 0 plans from file.\n"
     ]
    }
   ],
   "source": [
    "#import warm starts\n",
    "sys.path.append(os.path.abspath('../heuristic'))\n",
    "\n",
    "from IA_plans_2020 import plans\n",
    "print(f\"Loaded {len(plans)} plans from file.\")\n",
    "warm_starts = plans"
   ]
  },
  {
   "cell_type": "code",
   "execution_count": 6,
   "id": "7b130363",
   "metadata": {},
   "outputs": [],
   "source": [
    "obj_type = 'bottleneck_Polsby_Popper'\n",
    "starting_deviation = 0.01 \n",
    "verbose = True\n",
    "contiguity = 'lcut'               # {'lcut', 'scf', 'shir'}\n",
    "warm_start_mode = 'user'          # {'None', 'user', 'refinement'}\n",
    "warm_starts = warm_starts         # if you have user define warm starts else it is None\n",
    "time_limit = 7200                 # Time limit in seconds, adjust as needed\n",
    "multiplier = 0                    # Adjust multiplier as needed\n",
    "max_B = True                      # If symmetry_breaking is 'orbitope' or you have warm_start, max_B should be True\n",
    "symmetry_breaking = 'orbitope'    # {None, 'orbitope', 'rsum'}              \n",
    "sizes = None"
   ]
  },
  {
   "cell_type": "code",
   "execution_count": null,
   "id": "79f334ee",
   "metadata": {},
   "outputs": [
    {
     "name": "stdout",
     "output_type": "stream",
     "text": [
      "Running epsilon constraint method for state IA, objective bottleneck_Polsby_Popper\n",
      "####################################################################################################\n",
      "\n",
      "L = 789617 and U = 805568\n",
      "\n",
      "****************************************\n",
      "Trying deviation = 7975.922500000001\n",
      "****************************************\n",
      "No valid warm start used.\n",
      "\n",
      "****************************************\n",
      "Running labeling model!\n",
      "****************************************\n",
      "L = 789617 and U = 805568\n",
      "Set parameter Username\n",
      "Set parameter LicenseID to value 2608266\n",
      "Academic license - for non-commercial use only - expires 2026-01-09\n",
      "sizes =  [1, 1, 1, 1]\n",
      "Solving the max B problem (as MIP) for use in the vertex ordering...\n",
      "Set parameter LogToConsole to value 0\n",
      "Set parameter LazyConstraints to value 1\n",
      "Set parameter MIPGap to value 0\n",
      "Set parameter FeasibilityTol to value 1e-07\n",
      "Set parameter TimeLimit to value 7200\n",
      "Set parameter IntFeasTol to value 1e-07\n",
      "Gurobi Optimizer version 12.0.0 build v12.0.0rc1 (win64 - Windows 10.0 (19045.2))\n",
      "\n",
      "CPU model: Intel(R) Xeon(R) CPU E5-2630 v4 @ 2.20GHz, instruction set [SSE2|AVX|AVX2]\n",
      "Thread count: 10 physical cores, 20 logical processors, using up to 20 threads\n",
      "\n",
      "Non-default parameters:\n",
      "TimeLimit  7200\n",
      "FeasibilityTol  1e-07\n",
      "IntFeasTol  1e-07\n",
      "MIPGap  0\n",
      "LazyConstraints  1\n",
      "\n",
      "Optimize a model with 4763 rows, 4213 columns and 18623 nonzeros\n",
      "Model fingerprint: 0xd36194be\n",
      "Model has 4 quadratic constraints\n",
      "Variable types: 1201 continuous, 3012 integer (3012 binary)\n",
      "Coefficient statistics:\n",
      "  Matrix range     [2e-02, 5e+05]\n",
      "  QMatrix range    [1e+00, 1e+01]\n",
      "  Objective range  [1e+00, 1e+00]\n",
      "  Bounds range     [1e+00, 1e+00]\n",
      "  RHS range        [1e+00, 8e+05]\n",
      "Presolve removed 2265 rows and 1826 columns\n",
      "Presolve time: 0.05s\n",
      "Presolved: 2498 rows, 2387 columns, 11345 nonzeros\n",
      "Presolved model has 4 quadratic constraint(s)\n",
      "Variable types: 13 continuous, 2374 integer (2360 binary)\n",
      "\n",
      "Root relaxation: objective 0.000000e+00, 686 iterations, 0.01 seconds (0.01 work units)\n",
      "\n",
      "    Nodes    |    Current Node    |     Objective Bounds      |     Work\n",
      " Expl Unexpl |  Obj  Depth IntInf | Incumbent    BestBd   Gap | It/Node Time\n",
      "\n",
      "     0     0    0.00000    0    -          -    0.00000      -     -    0s\n",
      "     0     0    0.55334    0  491          -    0.55334      -     -    0s\n",
      "     0     0    0.94698    0  489          -    0.94698      -     -    1s\n",
      "     0     0    0.94897    0  492          -    0.94897      -     -    2s\n",
      "     0     0    1.04359    0  509          -    1.04359      -     -    2s\n",
      "     0     0    1.04508    0  511          -    1.04508      -     -    3s\n",
      "     0     0    1.04508    0  520          -    1.04508      -     -    4s\n"
     ]
    }
   ],
   "source": [
    "print(f\"Running epsilon constraint method for state {state}, objective {obj_type}\")\n",
    "print(f\"{'#' * 100}\\n\")\n",
    "(plans, obj_bounds, deviations) = epsilon_constraint_method(\n",
    "            G,                 \n",
    "            obj_type,          \n",
    "            contiguity,        \n",
    "            cutoff=None,       \n",
    "            verbose=verbose,\n",
    "            warm_start_mode = warm_start_mode,\n",
    "            warm_starts=warm_starts,  \n",
    "            starting_deviation=starting_deviation, \n",
    "            time_limit=time_limit, \n",
    "            sizes=sizes,      \n",
    "            max_B=max_B,      \n",
    "            symmetry_breaking=symmetry_breaking, \n",
    "        )"
   ]
  },
  {
   "cell_type": "code",
   "execution_count": null,
   "id": "6a4c605e",
   "metadata": {},
   "outputs": [],
   "source": [
    "result = list(zip(plans, obj_bounds , deviations))"
   ]
  },
  {
   "cell_type": "code",
   "execution_count": null,
   "id": "304d16c7",
   "metadata": {},
   "outputs": [],
   "source": [
    "# Determine the senses for the Pareto frontier\n",
    "# Minimize the first objective ('deviation').\n",
    "# Maximize the second objective for compactness types, otherwise minimize it.\n",
    "senses = ['min', 'max' if obj_type in ['average_Polsby_Popper','bottleneck_Polsby_Popper'] else 'min']\n",
    "obj_names = ['deviation_persons', obj_type]\n",
    "infeasible_region = [0, min(round(r[2],1) for r in result)]"
   ]
  },
  {
   "cell_type": "code",
   "execution_count": null,
   "id": "2a4ab6e1",
   "metadata": {},
   "outputs": [],
   "source": [
    "from pareto import ParetoFrontier\n",
    "\n",
    "print(f\"\\n{'#' * 100}\\nPareto Frontier for state {state},  objective {obj_type}\\n{'#' * 100}\\n\")\n",
    "pareto = ParetoFrontier(senses, obj_names, state=state, level='county')\n",
    "\n",
    "if not  plans:\n",
    "    print(\"No plan found!\")\n",
    "else:\n",
    "    for plan, obj_bound, dev in result:\n",
    "        upper_bound = [dev,  1/obj_bound[0] if  obj_type == 'bottleneck_Polsby_Popper' else obj_bound[0]]\n",
    "        lower_bound = [dev,  1/obj_bound[1] if  obj_type == 'bottleneck_Polsby_Popper' else obj_bound[1]]\n",
    "        \n",
    "        pareto.add_plan(plan, upper_bound, lower_bound)\n",
    "            \n",
    "print(\"Pareto front plans:\", pareto.plans)\n",
    "print(\"Pareto front upper bounds:\", pareto.upper_bounds)\n",
    "print(\"Pareto front lower bounds:\", pareto.lower_bounds) \n",
    "\n",
    "extra_points = None\n",
    "extra_colors = None\n",
    "        \n",
    "pareto.tighten_lower_bounds()\n",
    "\n",
    "if infeasible_region[1] > 0.5:\n",
    "    max_dev = max(upper_bound[0] for upper_bound in pareto.upper_bounds)\n",
    "    max_obj = max(upper_bound[1] for upper_bound in pareto.upper_bounds)\n",
    "    min_obj = min(upper_bound[1] for upper_bound in pareto.upper_bounds)\n",
    "    o1lim=[-1, max_dev+100]\n",
    "    o2lim=[min_obj*0.9, max_obj*(1.1)]\n",
    "else:\n",
    "    o1lim = None\n",
    "    o2lim = None\n",
    "\n",
    "pareto.plot_with_custom_x_ranges(method = 'epsilon_constraint_method', \n",
    "                                 o1lim=o1lim, o2lim=o2lim, infeasible_region = infeasible_region,\n",
    "                                 extra_points=extra_points, extra_colors=extra_colors)  "
   ]
  },
  {
   "cell_type": "code",
   "execution_count": null,
   "id": "87f2e465",
   "metadata": {},
   "outputs": [],
   "source": [
    "from draw import *\n",
    "\n",
    "print(f\"\\n{'#' * 100}\\nPareto maps for state {state}, objective {obj_type}\\n{'#' * 100}\\n\")\n",
    "\n",
    "format_obj = {\n",
    "    'bottleneck_Polsby_Popper': lambda x: round(1 /x, 4),\n",
    "    'cut_edges': lambda x: round(x, 0)}\n",
    "\n",
    "for plan, obj_bound, dev in result:\n",
    "    ub = format_obj.get(obj_type, lambda x: round(x, 4))(obj_bound[0])\n",
    "    lb = format_obj.get(obj_type, lambda x: round(x, 4))(obj_bound[1])\n",
    "    deviation_percentage = round(100 * dev / G._ideal_population, 4)\n",
    "    if ub != lb:\n",
    "        title = f\"{round(dev, 2)}-person deviation ({deviation_percentage}%), obj_bounds [{ub}, {lb}] {obj_type}\"\n",
    "    else:\n",
    "        title = f\"{round(dev, 2)}-person deviation ({deviation_percentage}%), with {ub} {obj_type}\"\n",
    "\n",
    "    draw_plan(filepath, filename2, G, plan, title=title, year=year)"
   ]
  }
 ],
 "metadata": {
  "kernelspec": {
   "display_name": "Python 3 (ipykernel)",
   "language": "python",
   "name": "python3"
  },
  "language_info": {
   "codemirror_mode": {
    "name": "ipython",
    "version": 3
   },
   "file_extension": ".py",
   "mimetype": "text/x-python",
   "name": "python",
   "nbconvert_exporter": "python",
   "pygments_lexer": "ipython3",
   "version": "3.11.5"
  }
 },
 "nbformat": 4,
 "nbformat_minor": 5
}
