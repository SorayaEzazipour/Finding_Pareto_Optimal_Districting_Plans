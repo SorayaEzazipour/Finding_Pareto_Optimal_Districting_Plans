{
 "cells": [
  {
   "cell_type": "code",
   "execution_count": 1,
   "id": "43d991cb",
   "metadata": {},
   "outputs": [],
   "source": [
    "state = 'IA' \n",
    "year = 2020\n",
    "obj_type = 'perimeter'\n",
    "starting_deviation = 0.01 "
   ]
  },
  {
   "cell_type": "code",
   "execution_count": 2,
   "id": "a5aec63e",
   "metadata": {},
   "outputs": [],
   "source": [
    "import sys, os\n",
    "src_path = os.path.abspath(os.path.join('..', '..', 'src'))\n",
    "sys.path.append(src_path)"
   ]
  },
  {
   "cell_type": "code",
   "execution_count": 3,
   "id": "4ea95422",
   "metadata": {},
   "outputs": [],
   "source": [
    "filepath = '../../dat/' + str(year) + '/'\n",
    "filename = state + '_county.json'\n",
    "filename2 = state + '_county.shp'"
   ]
  },
  {
   "cell_type": "code",
   "execution_count": 4,
   "id": "14860fda",
   "metadata": {},
   "outputs": [
    {
     "name": "stdout",
     "output_type": "stream",
     "text": [
      "The state of IA has 4 districts.\n"
     ]
    }
   ],
   "source": [
    "from read import read_graph_from_json\n",
    "\n",
    "G = read_graph_from_json(state, filepath + filename, year=year)\n",
    "print(f\"The state of {state} has {G._k} districts.\")\n",
    "G._ideal_population = sum(G.nodes[i]['TOTPOP'] for i in G.nodes) / G._k"
   ]
  },
  {
   "cell_type": "code",
   "execution_count": 5,
   "id": "44678338",
   "metadata": {},
   "outputs": [
    {
     "name": "stdout",
     "output_type": "stream",
     "text": [
      "Loaded 5000 plans from file.\n"
     ]
    }
   ],
   "source": [
    "#import warm starts\n",
    "sys.path.append(os.path.abspath('../heuristic'))\n",
    "\n",
    "from IA_plans_2020 import plans\n",
    "print(f\"Loaded {len(plans)} plans from file.\")\n",
    "warm_starts = plans"
   ]
  },
  {
   "cell_type": "code",
   "execution_count": null,
   "id": "79f334ee",
   "metadata": {},
   "outputs": [
    {
     "name": "stdout",
     "output_type": "stream",
     "text": [
      "Initially, L = 789617 and U = 805568 and k = 4.\n",
      "\n",
      "****************************************\n",
      "Trying deviation = 7975.922500000001\n",
      "****************************************\n",
      "Using user-provided warm starts.\n",
      "Selected warm_start = [[4, 8, 18, 46, 48, 78, 83, 86, 94, 95, 96], [1, 2, 9, 14, 17, 19, 20, 21, 22, 23, 27, 30, 31, 32, 33, 35, 37, 40, 41, 42, 52, 53, 55, 58, 59, 60, 62, 63, 65, 66, 68, 70, 71, 73, 76, 79, 84, 89, 91, 92, 93], [0, 5, 6, 7, 10, 11, 13, 16, 29, 34, 36, 43, 45, 49, 50, 51, 56, 57, 64, 69, 74, 75, 77, 80, 81, 85, 88, 90], [3, 12, 15, 24, 25, 26, 28, 38, 39, 44, 47, 54, 61, 67, 72, 82, 87, 97, 98]]\n",
      "Objective value: 37.72107176153799\n",
      "Deviation: 7147.25\n",
      "\n",
      "****************************************\n",
      "Running labeling model!\n",
      "****************************************\n",
      "L = 789617 and U = 805568\n",
      "Set parameter Username\n",
      "Set parameter LicenseID to value 2608266\n",
      "Academic license - for non-commercial use only - expires 2026-01-09\n",
      "sizes =  [1, 1, 1, 1]\n",
      "Solving the max B problem (as MIP) for use in the vertex ordering...\n",
      "Set parameter LogToConsole to value 0\n",
      "Set parameter LazyConstraints to value 1\n",
      "Applying warm start!\n",
      "Set parameter MIPGap to value 0\n",
      "Set parameter FeasibilityTol to value 1e-07\n",
      "Set parameter TimeLimit to value 7200\n",
      "Set parameter IntFeasTol to value 1e-07\n",
      "Gurobi Optimizer version 12.0.0 build v12.0.0rc1 (win64 - Windows 10.0 (19045.2))\n",
      "\n",
      "CPU model: Intel(R) Xeon(R) CPU E5-2630 v4 @ 2.20GHz, instruction set [SSE2|AVX|AVX2]\n",
      "Thread count: 10 physical cores, 20 logical processors, using up to 20 threads\n",
      "\n",
      "Non-default parameters:\n",
      "TimeLimit  7200\n",
      "FeasibilityTol  1e-07\n",
      "IntFeasTol  1e-07\n",
      "MIPGap  0\n",
      "LazyConstraints  1\n",
      "\n",
      "Optimize a model with 4751 rows, 4200 columns and 16291 nonzeros\n",
      "Model fingerprint: 0x2009cb59\n",
      "Variable types: 1188 continuous, 3012 integer (3012 binary)\n",
      "Coefficient statistics:\n",
      "  Matrix range     [1e+00, 5e+05]\n",
      "  Objective range  [2e-02, 7e-01]\n",
      "  Bounds range     [1e+00, 1e+00]\n",
      "  RHS range        [1e+00, 8e+05]\n",
      "\n",
      "User MIP start produced solution with objective 37.7211 (0.03s)\n",
      "Loaded user MIP start with objective 37.7211\n",
      "\n",
      "Presolve removed 2265 rows and 1826 columns\n",
      "Presolve time: 0.07s\n",
      "Presolved: 2486 rows, 2374 columns, 9054 nonzeros\n",
      "Variable types: 0 continuous, 2374 integer (2360 binary)\n",
      "\n",
      "Root relaxation: objective 2.541963e+01, 1370 iterations, 0.13 seconds (0.07 work units)\n",
      "\n",
      "    Nodes    |    Current Node    |     Objective Bounds      |     Work\n",
      " Expl Unexpl |  Obj  Depth IntInf | Incumbent    BestBd   Gap | It/Node Time\n",
      "\n",
      "     0     0   25.41963    0  470   37.72107   25.41963  32.6%     -    0s\n",
      "     0     0   25.69080    0  480   37.72107   25.69080  31.9%     -    0s\n",
      "     0     0   25.93576    0  491   37.72107   25.93576  31.2%     -    0s\n",
      "     0     0   25.93774    0  494   37.72107   25.93774  31.2%     -    0s\n",
      "     0     0   25.93774    0  493   37.72107   25.93774  31.2%     -    1s\n",
      "     0     0   25.93813    0  487   37.72107   25.93813  31.2%     -    1s\n",
      "     0     2   25.96742    0  487   37.72107   25.96742  31.2%     -    1s\n"
     ]
    }
   ],
   "source": [
    "from epsilon_constraint import epsilon_constraint_method\n",
    "\n",
    "(plans, obj_bounds, deviations) = epsilon_constraint_method(\n",
    "            G,                 \n",
    "            obj_type,          \n",
    "            contiguity = 'lcut',                                             # {'lcut', 'scf', 'shir'} \n",
    "            cutoff=None,       \n",
    "            verbose= True,\n",
    "            warm_start_mode = 'user',                                        # {'None', 'user', 'refinement'}\n",
    "            warm_starts=warm_starts,                                         # if you have user define warm starts else it is None\n",
    "            starting_deviation=starting_deviation, \n",
    "            time_limit=7200, \n",
    "            sizes=None,      \n",
    "            max_B=True,                                                      # If symmetry_breaking is 'orbitope' or you have warm_start, max_B should be True   \n",
    "            symmetry_breaking='orbitope',                                    # {None, 'orbitope', 'rsum'} \n",
    "            state=state,\n",
    "            year=year\n",
    "        )"
   ]
  },
  {
   "cell_type": "code",
   "execution_count": null,
   "id": "6a4c605e",
   "metadata": {},
   "outputs": [],
   "source": [
    "result = list(zip(plans, obj_bounds , deviations))"
   ]
  },
  {
   "cell_type": "code",
   "execution_count": null,
   "id": "304d16c7",
   "metadata": {},
   "outputs": [],
   "source": [
    "no_solution_region = [0, min(round(r[2],1) for r in result)]\n",
    "print(f\"No feasible solution was found within the region: {no_solution_region}\")"
   ]
  },
  {
   "cell_type": "code",
   "execution_count": null,
   "id": "2a4ab6e1",
   "metadata": {},
   "outputs": [],
   "source": [
    "from pareto import plot_pareto_frontiers\n",
    "\n",
    "plot_pareto_frontiers(\n",
    "                G,\n",
    "                method='epsilon_constraint_method',\n",
    "                plans=None,                                   #if method ='epsilon_constraint_method' is None \n",
    "                obj_types=obj_type,                               \n",
    "                ideal_population=G._ideal_population,\n",
    "                state=state,\n",
    "                filepath=filepath,\n",
    "                filename2=filename2,\n",
    "                no_solution_region=no_solution_region,\n",
    "                year=year,\n",
    "                result=result                               #if method ='heuristic' is None \n",
    "             )"
   ]
  },
  {
   "cell_type": "code",
   "execution_count": null,
   "id": "87f2e465",
   "metadata": {},
   "outputs": [],
   "source": [
    "from draw import draw_plan\n",
    "from metrics import observed_deviation_persons, compute_obj\n",
    "\n",
    "print(f\"\\n{'#' * 100}\\nPareto maps for state {state}, objective {obj_type}\\n{'#' * 100}\\n\")\n",
    "\n",
    "format_obj = {\n",
    "    'bottleneck_Polsby_Popper': lambda x: round(1 /x, 4),\n",
    "    'cut_edges': lambda x: int(x)}\n",
    "G._L = 0\n",
    "G._U = G._k * G._ideal_population\n",
    "\n",
    "for plan, obj_bound, dev in result:\n",
    "    obs_dev = observed_deviation_persons(G, plan, G._ideal_population)\n",
    "    obj = compute_obj(G, plan, obj_type)\n",
    "    obj_val = format_obj.get(obj_type, lambda x: round(x, 4))(obj)\n",
    "    deviation_percentage = round(100 * dev / G._ideal_population, 4)\n",
    "    title = f\"{round(obs_dev, 2)}-person deviation ({deviation_percentage}%), with {obj_val} {obj_type}\"\n",
    "    draw_plan(filepath, filename2, G, plan, title=title, year=year)"
   ]
  }
 ],
 "metadata": {
  "kernelspec": {
   "display_name": "Python 3 (ipykernel)",
   "language": "python",
   "name": "python3"
  },
  "language_info": {
   "codemirror_mode": {
    "name": "ipython",
    "version": 3
   },
   "file_extension": ".py",
   "mimetype": "text/x-python",
   "name": "python",
   "nbconvert_exporter": "python",
   "pygments_lexer": "ipython3",
   "version": "3.11.5"
  }
 },
 "nbformat": 4,
 "nbformat_minor": 5
}
