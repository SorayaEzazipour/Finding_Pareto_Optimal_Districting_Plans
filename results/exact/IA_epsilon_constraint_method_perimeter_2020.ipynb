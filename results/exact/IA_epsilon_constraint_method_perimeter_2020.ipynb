{
 "cells": [
  {
   "cell_type": "code",
   "execution_count": 1,
   "id": "43d991cb",
   "metadata": {},
   "outputs": [],
   "source": [
    "state = 'IA' \n",
    "year = 2020"
   ]
  },
  {
   "cell_type": "code",
   "execution_count": 2,
   "id": "a5aec63e",
   "metadata": {},
   "outputs": [],
   "source": [
    "import sys, os\n",
    "src_path = os.path.abspath(os.path.join('..', '..', 'src'))\n",
    "sys.path.append(src_path)"
   ]
  },
  {
   "cell_type": "code",
   "execution_count": 3,
   "id": "4ea95422",
   "metadata": {},
   "outputs": [],
   "source": [
    "filepath = '../../dat/' + str(year) + '/'\n",
    "filename = state + '_county.json'\n",
    "filename2 = state + '_county.shp'"
   ]
  },
  {
   "cell_type": "code",
   "execution_count": 4,
   "id": "14860fda",
   "metadata": {},
   "outputs": [
    {
     "name": "stdout",
     "output_type": "stream",
     "text": [
      "The state of IA has 4 districts.\n"
     ]
    }
   ],
   "source": [
    "from read import read_graph_from_json\n",
    "from epsilon_constraint import*\n",
    "import networkx as nx\n",
    "\n",
    "G = read_graph_from_json(state, filepath + filename, year=year)\n",
    "print(f\"The state of {state} has {G._k} districts.\")\n",
    "G._ideal_population = sum(G.nodes[i]['TOTPOP'] for i in G.nodes) / G._k"
   ]
  },
  {
   "cell_type": "code",
   "execution_count": 5,
   "id": "44678338",
   "metadata": {},
   "outputs": [
    {
     "name": "stdout",
     "output_type": "stream",
     "text": [
      "Loaded 0 plans from file.\n"
     ]
    }
   ],
   "source": [
    "#import warm starts\n",
    "sys.path.append(os.path.abspath('../heuristic'))\n",
    "\n",
    "from IA_plans_2020 import plans\n",
    "print(f\"Loaded {len(plans)} plans from file.\")\n",
    "warm_starts = plans"
   ]
  },
  {
   "cell_type": "code",
   "execution_count": 6,
   "id": "7b130363",
   "metadata": {},
   "outputs": [],
   "source": [
    "obj_type = 'perimeter'\n",
    "starting_deviation = 0.01 \n",
    "verbose = True\n",
    "contiguity = 'lcut'               # {'lcut', 'scf', 'shir'}\n",
    "warm_start_mode = 'user'          # {'None', 'user', 'refinement'}\n",
    "warm_starts = warm_starts         # if you have user define warm starts else it is None\n",
    "time_limit = 7200                 # Time limit in seconds, adjust as needed\n",
    "multiplier = 0                    # Adjust multiplier as needed\n",
    "max_B = True                      # If symmetry_breaking is 'orbitope' or you have warm_start, max_B should be True\n",
    "symmetry_breaking = 'orbitope'    # {None, 'orbitope', 'rsum'}              \n",
    "sizes = None"
   ]
  },
  {
   "cell_type": "code",
   "execution_count": null,
   "id": "79f334ee",
   "metadata": {},
   "outputs": [
    {
     "name": "stdout",
     "output_type": "stream",
     "text": [
      "Running epsilon constraint method for state IA, objective perimeter\n",
      "####################################################################################################\n",
      "\n",
      "L = 789617 and U = 805568\n",
      "\n",
      "****************************************\n",
      "Trying deviation = 7975.922500000001\n",
      "****************************************\n",
      "No valid warm start used.\n",
      "\n",
      "****************************************\n",
      "Running labeling model!\n",
      "****************************************\n",
      "L = 789617 and U = 805568\n",
      "Set parameter Username\n",
      "Set parameter LicenseID to value 2608266\n",
      "Academic license - for non-commercial use only - expires 2026-01-09\n",
      "sizes =  [1, 1, 1, 1]\n",
      "Solving the max B problem (as MIP) for use in the vertex ordering...\n",
      "Set parameter LogToConsole to value 0\n",
      "Set parameter LazyConstraints to value 1\n",
      "Set parameter MIPGap to value 0\n",
      "Set parameter FeasibilityTol to value 1e-07\n",
      "Set parameter TimeLimit to value 7200\n",
      "Set parameter IntFeasTol to value 1e-07\n",
      "Gurobi Optimizer version 12.0.0 build v12.0.0rc1 (win64 - Windows 10.0 (19045.2))\n",
      "\n",
      "CPU model: Intel(R) Xeon(R) CPU E5-2630 v4 @ 2.20GHz, instruction set [SSE2|AVX|AVX2]\n",
      "Thread count: 10 physical cores, 20 logical processors, using up to 20 threads\n",
      "\n",
      "Non-default parameters:\n",
      "TimeLimit  7200\n",
      "FeasibilityTol  1e-07\n",
      "IntFeasTol  1e-07\n",
      "MIPGap  0\n",
      "LazyConstraints  1\n",
      "\n",
      "Optimize a model with 4751 rows, 4200 columns and 16291 nonzeros\n",
      "Model fingerprint: 0x6bd5fd94\n",
      "Variable types: 1188 continuous, 3012 integer (3012 binary)\n",
      "Coefficient statistics:\n",
      "  Matrix range     [1e+00, 5e+05]\n",
      "  Objective range  [2e-02, 7e-01]\n",
      "  Bounds range     [1e+00, 1e+00]\n",
      "  RHS range        [1e+00, 8e+05]\n",
      "Presolve removed 2265 rows and 1826 columns\n",
      "Presolve time: 0.12s\n",
      "Presolved: 2486 rows, 2374 columns, 9054 nonzeros\n",
      "Variable types: 0 continuous, 2374 integer (2360 binary)\n",
      "\n",
      "Root relaxation: objective 2.541963e+01, 1567 iterations, 0.21 seconds (0.08 work units)\n",
      "\n",
      "    Nodes    |    Current Node    |     Objective Bounds      |     Work\n",
      " Expl Unexpl |  Obj  Depth IntInf | Incumbent    BestBd   Gap | It/Node Time\n",
      "\n",
      "     0     0   25.41963    0  470          -   25.41963      -     -    0s\n",
      "     0     0   25.71856    0  480          -   25.71856      -     -    1s\n",
      "     0     0   25.75757    0  477          -   25.75757      -     -    1s\n",
      "     0     0   25.88418    0  489          -   25.88418      -     -    2s\n",
      "     0     0   25.88812    0  495          -   25.88812      -     -    2s\n",
      "     0     0   25.88812    0  486          -   25.88812      -     -    3s\n",
      "     0     0   25.89024    0  486          -   25.89024      -     -    3s\n",
      "     0     2   25.89765    0  486          -   25.89765      -     -    4s\n",
      "    15    26   27.50312    4  534          -   27.18919      -   310    5s\n",
      "   451   488   39.78236   27  428          -   27.50706      -   240   10s\n",
      "  1112  1137   32.27988    5  519          -   28.64443      -   197   15s\n",
      "  1853  1740   29.51426   18  506          -   29.51426      -   189   20s\n",
      "  2263  2042   33.60677   31  541          -   29.51426      -   210   25s\n",
      "  2784  2413   37.98791   42  513          -   29.51426      -   212   30s\n",
      "* 3769  2930              72      46.8921354   29.51426  37.1%   192   33s\n",
      "H 3895  2765                      46.1739349   29.51426  36.1%   189   34s\n",
      "* 4115  2642              85      46.1149349   29.51426  36.0%   185   34s\n",
      "* 4137  2553              91      46.0411782   29.51426  35.9%   185   34s\n",
      "H 4209  2292                      44.3345793   29.51426  33.4%   184   35s\n",
      "H 4218  2170                      43.8830161   29.51426  32.7%   184   35s\n",
      "H 4669  2104                      43.0555804   30.03143  30.2%   182   37s\n",
      "H 4921  1959                      42.1561166   30.27706  28.2%   181   38s\n",
      "H 4925  1888                      42.1012064   30.27706  28.1%   181   38s\n",
      "H 4978  1825                      42.0978742   30.52049  27.5%   181   38s\n",
      "H 5002  1647                      41.2017426   30.52049  25.9%   181   38s\n",
      "H 5036  1538                      40.6688788   30.52049  25.0%   181   38s\n",
      "H 5247  1664                      40.4732171   30.78567  23.9%   180   39s\n",
      "H 5259  1647                      40.3670767   30.78567  23.7%   180   39s\n",
      "H 5267  1530                      39.7965057   30.78567  22.6%   180   40s\n",
      "H 5529  1580                      39.7418586   30.87257  22.3%   180   41s\n",
      "H 5534  1439                      39.2136669   30.87257  21.3%   180   41s\n",
      "H 5557  1338                      38.7775782   30.87257  20.4%   180   41s\n",
      "H 5926  1382                      38.4155594   31.42854  18.2%   183   44s\n",
      "  5931  1388   37.97150   31  361   38.41556   31.42854  18.2%   183   45s\n",
      "H 6566  1349                      37.7288155   32.19084  14.7%   185   47s\n",
      "  7112  1452     cutoff   27        37.72882   32.61279  13.6%   189   50s\n",
      "  7906  1599   37.22566   29  452   37.72882   32.99945  12.5%   193   56s\n",
      "  8405  1654   36.13776   27  527   37.72882   33.28077  11.8%   196   61s\n",
      "* 8823  1628              35      37.5976044   33.45531  11.0%   198   63s\n",
      "  8936  1641     cutoff   26        37.59760   33.45574  11.0%   198   66s\n",
      "H 9107  1633                      37.5843556   33.47954  10.9%   198   66s\n",
      "  9380  1654     cutoff   28        37.58436   33.54879  10.7%   199   73s\n",
      "  9439  1663     cutoff   27        37.58436   33.61884  10.6%   199   76s\n"
     ]
    }
   ],
   "source": [
    "print(f\"Running epsilon constraint method for state {state}, objective {obj_type}\")\n",
    "print(f\"{'#' * 100}\\n\")\n",
    "(plans, obj_bounds, deviations) = epsilon_constraint_method(\n",
    "            G,                 \n",
    "            obj_type,          \n",
    "            contiguity,        \n",
    "            cutoff=None,       \n",
    "            verbose=verbose,\n",
    "            warm_start_mode = warm_start_mode,\n",
    "            warm_starts=warm_starts,  \n",
    "            starting_deviation=starting_deviation, \n",
    "            time_limit=time_limit, \n",
    "            sizes=sizes,      \n",
    "            max_B=max_B,      \n",
    "            symmetry_breaking=symmetry_breaking, \n",
    "        )"
   ]
  },
  {
   "cell_type": "code",
   "execution_count": null,
   "id": "6a4c605e",
   "metadata": {},
   "outputs": [],
   "source": [
    "result = list(zip(plans, obj_bounds , deviations))"
   ]
  },
  {
   "cell_type": "code",
   "execution_count": null,
   "id": "304d16c7",
   "metadata": {},
   "outputs": [],
   "source": [
    "# Determine the senses for the Pareto frontier\n",
    "# Minimize the first objective ('deviation').\n",
    "# Maximize the second objective for compactness types, otherwise minimize it.\n",
    "senses = ['min', 'max' if obj_type in ['average_Polsby_Popper','bottleneck_Polsby_Popper'] else 'min']\n",
    "obj_names = ['deviation_persons', obj_type]\n",
    "infeasible_region = [0, min(round(r[2],1) for r in result)]"
   ]
  },
  {
   "cell_type": "code",
   "execution_count": null,
   "id": "2a4ab6e1",
   "metadata": {},
   "outputs": [],
   "source": [
    "from pareto import ParetoFrontier\n",
    "\n",
    "print(f\"\\n{'#' * 100}\\nPareto Frontier for state {state},  objective {obj_type}\\n{'#' * 100}\\n\")\n",
    "pareto = ParetoFrontier(senses, obj_names, state=state, level='county')\n",
    "\n",
    "if not  plans:\n",
    "    print(\"No plan found!\")\n",
    "else:\n",
    "    for plan, obj_bound, dev in result:\n",
    "        upper_bound = [dev,  1/obj_bound[0] if  obj_type == 'bottleneck_Polsby_Popper' else obj_bound[0]]\n",
    "        lower_bound = [dev,  1/obj_bound[1] if  obj_type == 'bottleneck_Polsby_Popper' else obj_bound[1]]\n",
    "        \n",
    "        pareto.add_plan(plan, upper_bound, lower_bound)\n",
    "            \n",
    "print(\"Pareto front plans:\", pareto.plans)\n",
    "print(\"Pareto front upper bounds:\", pareto.upper_bounds)\n",
    "print(\"Pareto front lower bounds:\", pareto.lower_bounds) \n",
    "\n",
    "extra_points = None\n",
    "extra_colors = None\n",
    "        \n",
    "pareto.tighten_lower_bounds()\n",
    "\n",
    "if infeasible_region[1] > 0.5:\n",
    "    max_dev = max(upper_bound[0] for upper_bound in pareto.upper_bounds)\n",
    "    max_obj = max(upper_bound[1] for upper_bound in pareto.upper_bounds)\n",
    "    min_obj = min(upper_bound[1] for upper_bound in pareto.upper_bounds)\n",
    "    o1lim=[-1, max_dev+100]\n",
    "    o2lim=[min_obj*0.9, max_obj*(1.1)]\n",
    "else:\n",
    "    o1lim = None\n",
    "    o2lim = None\n",
    "\n",
    "pareto.plot_with_custom_x_ranges(method = 'epsilon_constraint_method', \n",
    "                                 o1lim=o1lim, o2lim=o2lim, infeasible_region = infeasible_region,\n",
    "                                 extra_points=extra_points, extra_colors=extra_colors) "
   ]
  },
  {
   "cell_type": "code",
   "execution_count": null,
   "id": "87f2e465",
   "metadata": {},
   "outputs": [],
   "source": [
    "from draw import *\n",
    "\n",
    "print(f\"\\n{'#' * 100}\\nPareto maps for state {state}, objective {obj_type}\\n{'#' * 100}\\n\")\n",
    "\n",
    "format_obj = {\n",
    "    'bottleneck_Polsby_Popper': lambda x: round(1 /x, 4),\n",
    "    'cut_edges': lambda x: round(x, 0)}\n",
    "\n",
    "for plan, obj_bound, dev in result:\n",
    "    ub = format_obj.get(obj_type, lambda x: round(x, 4))(obj_bound[0])\n",
    "    lb = format_obj.get(obj_type, lambda x: round(x, 4))(obj_bound[1])\n",
    "    deviation_percentage = round(100 * dev / G._ideal_population, 4)\n",
    "    if ub != lb:\n",
    "        title = f\"{round(dev, 2)}-person deviation ({deviation_percentage}%), obj_bounds [{ub}, {lb}] {obj_type}\"\n",
    "    else:\n",
    "        title = f\"{round(dev, 2)}-person deviation ({deviation_percentage}%), with {ub} {obj_type}\"\n",
    "\n",
    "    draw_plan(filepath, filename2, G, plan, title=title, year=year)"
   ]
  }
 ],
 "metadata": {
  "kernelspec": {
   "display_name": "Python 3 (ipykernel)",
   "language": "python",
   "name": "python3"
  },
  "language_info": {
   "codemirror_mode": {
    "name": "ipython",
    "version": 3
   },
   "file_extension": ".py",
   "mimetype": "text/x-python",
   "name": "python",
   "nbconvert_exporter": "python",
   "pygments_lexer": "ipython3",
   "version": "3.11.5"
  }
 },
 "nbformat": 4,
 "nbformat_minor": 5
}
