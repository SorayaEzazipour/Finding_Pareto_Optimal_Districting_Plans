{
 "cells": [
  {
   "cell_type": "code",
   "execution_count": 1,
   "id": "43d991cb",
   "metadata": {},
   "outputs": [],
   "source": [
    "state = 'KS' \n",
    "year = 2020"
   ]
  },
  {
   "cell_type": "code",
   "execution_count": 2,
   "id": "a5aec63e",
   "metadata": {},
   "outputs": [],
   "source": [
    "import sys, os\n",
    "src_path = os.path.abspath(os.path.join('..', '..', 'src'))\n",
    "sys.path.append(src_path)"
   ]
  },
  {
   "cell_type": "code",
   "execution_count": 3,
   "id": "eb77d7ad",
   "metadata": {},
   "outputs": [],
   "source": [
    "filepath = '../../dat/' + str(year) + '/'\n",
    "filename = state + '_county.json'\n",
    "filename2 = state + '_county.shp'"
   ]
  },
  {
   "cell_type": "code",
   "execution_count": 4,
   "id": "14860fda",
   "metadata": {},
   "outputs": [
    {
     "name": "stdout",
     "output_type": "stream",
     "text": [
      "The state of KS has 4 districts.\n"
     ]
    }
   ],
   "source": [
    "from read import read_graph_from_json\n",
    "from epsilon_constraint import*\n",
    "import networkx as nx\n",
    "\n",
    "G = read_graph_from_json(state, filepath + filename, year=year)\n",
    "print(f\"The state of {state} has {G._k} districts.\")\n",
    "G._ideal_population = sum(G.nodes[i]['TOTPOP'] for i in G.nodes) / G._k"
   ]
  },
  {
   "cell_type": "code",
   "execution_count": 5,
   "id": "44678338",
   "metadata": {},
   "outputs": [
    {
     "name": "stdout",
     "output_type": "stream",
     "text": [
      "Loaded 0 plans from file.\n"
     ]
    }
   ],
   "source": [
    "#import warm starts\n",
    "sys.path.append(os.path.abspath('../heuristic'))\n",
    "\n",
    "from KS_plans_2020 import plans\n",
    "print(f\"Loaded {len(plans)} plans from file.\")\n",
    "warm_starts = plans"
   ]
  },
  {
   "cell_type": "code",
   "execution_count": 6,
   "id": "7b130363",
   "metadata": {},
   "outputs": [],
   "source": [
    "obj_type = 'cut_edges'\n",
    "starting_deviation = 0.01 \n",
    "verbose = True\n",
    "contiguity = 'lcut'               # {'lcut', 'scf', 'shir'}\n",
    "warm_start_mode = 'user'          # {'None', 'user', 'refinement'}\n",
    "warm_starts = warm_starts         # if you have user define warm starts else it is None\n",
    "time_limit = 7200                 # Time limit in seconds, adjust as needed\n",
    "multiplier = 0                    # Adjust multiplier as needed\n",
    "max_B = True                      # If symmetry_breaking is 'orbitope' or you have warm_start, max_B should be True\n",
    "symmetry_breaking = 'orbitope'    # {None, 'orbitope', 'rsum'}              \n",
    "sizes = None"
   ]
  },
  {
   "cell_type": "code",
   "execution_count": null,
   "id": "79f334ee",
   "metadata": {},
   "outputs": [
    {
     "name": "stdout",
     "output_type": "stream",
     "text": [
      "Running epsilon constraint method for state KS, objective cut_edges\n",
      "####################################################################################################\n",
      "\n",
      "L = 727126 and U = 741814\n",
      "\n",
      "****************************************\n",
      "Trying deviation = 7344.7\n",
      "****************************************\n",
      "No valid warm start used.\n",
      "\n",
      "****************************************\n",
      "Running labeling model!\n",
      "****************************************\n",
      "L = 727126 and U = 741814\n",
      "Set parameter Username\n",
      "Set parameter LicenseID to value 2608266\n",
      "Academic license - for non-commercial use only - expires 2026-01-09\n",
      "sizes =  [1, 1, 1, 1]\n",
      "Solving the max B problem (as MIP) for use in the vertex ordering...\n",
      "Set parameter LogToConsole to value 0\n",
      "Set parameter LazyConstraints to value 1\n",
      "Set parameter MIPGap to value 0\n",
      "Set parameter FeasibilityTol to value 1e-07\n",
      "Set parameter TimeLimit to value 7200\n",
      "Set parameter IntFeasTol to value 1e-07\n",
      "Gurobi Optimizer version 12.0.0 build v12.0.0rc1 (win64 - Windows 10.0 (19045.2))\n",
      "\n",
      "CPU model: Intel(R) Xeon(R) CPU E5-2630 v4 @ 2.20GHz, instruction set [SSE2|AVX|AVX2]\n",
      "Thread count: 10 physical cores, 20 logical processors, using up to 20 threads\n",
      "\n",
      "Non-default parameters:\n",
      "TimeLimit  7200\n",
      "FeasibilityTol  1e-07\n",
      "IntFeasTol  1e-07\n",
      "MIPGap  0\n",
      "LazyConstraints  1\n",
      "\n",
      "Optimize a model with 5369 rows, 4730 columns and 18491 nonzeros\n",
      "Model fingerprint: 0x81b8dacb\n",
      "Variable types: 1260 continuous, 3470 integer (3470 binary)\n",
      "Coefficient statistics:\n",
      "  Matrix range     [1e+00, 6e+05]\n",
      "  Objective range  [1e+00, 1e+00]\n",
      "  Bounds range     [1e+00, 1e+00]\n",
      "  RHS range        [1e+00, 7e+05]\n",
      "Presolve removed 2630 rows and 1988 columns\n",
      "Presolve time: 0.04s\n",
      "Presolved: 2739 rows, 2742 columns, 9930 nonzeros\n",
      "Variable types: 0 continuous, 2742 integer (2737 binary)\n",
      "\n",
      "Root relaxation: objective 1.177515e+01, 3081 iterations, 0.11 seconds (0.12 work units)\n",
      "\n",
      "    Nodes    |    Current Node    |     Objective Bounds      |     Work\n",
      " Expl Unexpl |  Obj  Depth IntInf | Incumbent    BestBd   Gap | It/Node Time\n",
      "\n",
      "     0     0   11.77515    0  385          -   11.77515      -     -    0s\n",
      "     0     0   12.96794    0  440          -   12.96794      -     -    0s\n",
      "     0     0   13.06990    0  443          -   13.06990      -     -    0s\n",
      "     0     0   13.08244    0  446          -   13.08244      -     -    0s\n",
      "     0     0   13.31662    0  476          -   13.31662      -     -    0s\n",
      "     0     0   13.34222    0  475          -   13.34222      -     -    1s\n",
      "     0     0   13.34783    0  478          -   13.34783      -     -    1s\n",
      "     0     0   13.68101    0  485          -   13.68101      -     -    1s\n",
      "     0     0   13.68617    0  453          -   13.68617      -     -    1s\n",
      "     0     0   13.75339    0  437          -   13.75339      -     -    1s\n",
      "     0     0   13.82522    0  511          -   13.82522      -     -    1s\n",
      "     0     0   13.82760    0  511          -   13.82760      -     -    1s\n",
      "     0     0   13.93181    0  507          -   13.93181      -     -    2s\n",
      "     0     0   13.96219    0  492          -   13.96219      -     -    2s\n",
      "     0     0   13.96219    0  514          -   13.96219      -     -    2s\n",
      "     0     0   14.08408    0  532          -   14.08408      -     -    2s\n",
      "     0     0   14.08612    0  527          -   14.08612      -     -    2s\n",
      "     0     0   14.24191    0  525          -   14.24191      -     -    2s\n",
      "     0     0   14.24891    0  524          -   14.24891      -     -    2s\n",
      "     0     0   14.30541    0  536          -   14.30541      -     -    2s\n",
      "     0     0   14.34842    0  524          -   14.34842      -     -    2s\n",
      "     0     0   14.34854    0  525          -   14.34854      -     -    2s\n",
      "     0     0   14.38564    0  540          -   14.38564      -     -    2s\n",
      "     0     0   14.39908    0  560          -   14.39908      -     -    2s\n",
      "     0     0   14.39908    0  556          -   14.39908      -     -    2s\n",
      "     0     0   14.39908    0  556          -   14.39908      -     -    2s\n",
      "     0     2   14.41841    0  556          -   14.41841      -     -    3s\n",
      "   261   271   31.22124   13  420          -   16.88644      -   251    5s\n",
      "H 1238   602                      39.0000000   18.43089  52.7%   160    8s\n",
      "  1547   685   34.02952   12  501   39.00000   21.14447  45.8%   170   10s\n",
      "H 1706   583                      35.0000000   21.88706  37.5%   174   10s\n",
      "H 2056   546                      33.0000000   22.92843  30.5%   179   12s\n",
      "H 2206   528                      32.0000000   23.20674  27.5%   184   13s\n",
      "  2498   508     cutoff   11        32.00000   23.83958  25.5%   192   15s\n"
     ]
    }
   ],
   "source": [
    "print(f\"Running epsilon constraint method for state {state}, objective {obj_type}\")\n",
    "print(f\"{'#' * 100}\\n\")\n",
    "(plans, obj_bounds, deviations) = epsilon_constraint_method(\n",
    "            G,                 \n",
    "            obj_type,          \n",
    "            contiguity,        \n",
    "            cutoff=None,       \n",
    "            verbose=verbose,\n",
    "            warm_start_mode = warm_start_mode,\n",
    "            warm_starts=warm_starts,  \n",
    "            starting_deviation=starting_deviation, \n",
    "            time_limit=time_limit, \n",
    "            sizes=sizes,      \n",
    "            max_B=max_B,      \n",
    "            symmetry_breaking=symmetry_breaking, \n",
    "        )"
   ]
  },
  {
   "cell_type": "code",
   "execution_count": null,
   "id": "6a4c605e",
   "metadata": {},
   "outputs": [],
   "source": [
    "result = list(zip(plans, obj_bounds , deviations))"
   ]
  },
  {
   "cell_type": "code",
   "execution_count": null,
   "id": "304d16c7",
   "metadata": {},
   "outputs": [],
   "source": [
    "# Determine the senses for the Pareto frontier\n",
    "# Minimize the first objective ('deviation').\n",
    "# Maximize the second objective for compactness types, otherwise minimize it.\n",
    "senses = ['min', 'max' if obj_type in ['average_Polsby_Popper','bottleneck_Polsby_Popper'] else 'min']\n",
    "obj_names = ['deviation_persons', obj_type]\n",
    "infeasible_region = [0, min(round(r[2],1) for r in result)]"
   ]
  },
  {
   "cell_type": "code",
   "execution_count": null,
   "id": "2a4ab6e1",
   "metadata": {},
   "outputs": [],
   "source": [
    "from pareto import ParetoFrontier\n",
    "\n",
    "print(f\"\\n{'#' * 100}\\nPareto Frontier for state {state},  objective {obj_type}\\n{'#' * 100}\\n\")\n",
    "pareto = ParetoFrontier(senses, obj_names, state=state, level='county')\n",
    "\n",
    "if not  plans:\n",
    "    print(\"No plan found!\")\n",
    "else:\n",
    "    for plan, obj_bound, dev in result:\n",
    "        upper_bound = [dev,  1/obj_bound[0] if  obj_type == 'bottleneck_Polsby_Popper' else obj_bound[0]]\n",
    "        lower_bound = [dev,  1/obj_bound[1] if  obj_type == 'bottleneck_Polsby_Popper' else obj_bound[1]]\n",
    "        \n",
    "        pareto.add_plan(plan, upper_bound, lower_bound)\n",
    "            \n",
    "print(\"Pareto front plans:\", pareto.plans)\n",
    "print(\"Pareto front upper bounds:\", pareto.upper_bounds)\n",
    "print(\"Pareto front lower bounds:\", pareto.lower_bounds) \n",
    "\n",
    "extra_points = None\n",
    "extra_colors = None\n",
    "        \n",
    "pareto.tighten_lower_bounds()\n",
    "\n",
    "if infeasible_region[1] > 0.5:\n",
    "    max_dev = max(upper_bound[0] for upper_bound in pareto.upper_bounds)\n",
    "    max_obj = max(upper_bound[1] for upper_bound in pareto.upper_bounds)\n",
    "    min_obj = min(upper_bound[1] for upper_bound in pareto.upper_bounds)\n",
    "    o1lim=[-1, max_dev+100]\n",
    "    o2lim=[min_obj*0.9, max_obj*(1.1)]\n",
    "else:\n",
    "    o1lim = None\n",
    "    o2lim = None\n",
    "\n",
    "pareto.plot_with_custom_x_ranges(method = 'epsilon_constraint_method', \n",
    "                                 o1lim=o1lim, o2lim=o2lim, infeasible_region = infeasible_region,\n",
    "                                 extra_points=extra_points, extra_colors=extra_colors)"
   ]
  },
  {
   "cell_type": "code",
   "execution_count": null,
   "id": "87f2e465",
   "metadata": {},
   "outputs": [],
   "source": [
    "from draw import *\n",
    "\n",
    "print(f\"\\n{'#' * 100}\\nPareto maps for state {state}, objective {obj_type}\\n{'#' * 100}\\n\")\n",
    "\n",
    "format_obj = {\n",
    "    'bottleneck_Polsby_Popper': lambda x: round(1 /x, 4),\n",
    "    'cut_edges': lambda x: round(x, 0)}\n",
    "\n",
    "for plan, obj_bound, dev in result:\n",
    "    ub = format_obj.get(obj_type, lambda x: round(x, 4))(obj_bound[0])\n",
    "    lb = format_obj.get(obj_type, lambda x: round(x, 4))(obj_bound[1])\n",
    "    deviation_percentage = round(100 * dev / G._ideal_population, 4)\n",
    "    if ub != lb:\n",
    "        title = f\"{round(dev, 2)}-person deviation ({deviation_percentage}%), obj_bounds [{ub}, {lb}] {obj_type}\"\n",
    "    else:\n",
    "        title = f\"{round(dev, 2)}-person deviation ({deviation_percentage}%), with {ub} {obj_type}\"\n",
    "\n",
    "    draw_plan(filepath, filename2, G, plan, title=title, year=year)"
   ]
  }
 ],
 "metadata": {
  "kernelspec": {
   "display_name": "Python 3 (ipykernel)",
   "language": "python",
   "name": "python3"
  },
  "language_info": {
   "codemirror_mode": {
    "name": "ipython",
    "version": 3
   },
   "file_extension": ".py",
   "mimetype": "text/x-python",
   "name": "python",
   "nbconvert_exporter": "python",
   "pygments_lexer": "ipython3",
   "version": "3.11.5"
  }
 },
 "nbformat": 4,
 "nbformat_minor": 5
}
