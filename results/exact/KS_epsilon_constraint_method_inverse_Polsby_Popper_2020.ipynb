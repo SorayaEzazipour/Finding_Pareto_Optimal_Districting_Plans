{
 "cells": [
  {
   "cell_type": "code",
   "execution_count": 1,
   "id": "43d991cb",
   "metadata": {},
   "outputs": [],
   "source": [
    "state = 'KS' \n",
    "year = 2020\n",
    "obj_type = 'inverse_Polsby_Popper'\n",
    "starting_deviation = 0.01 "
   ]
  },
  {
   "cell_type": "code",
   "execution_count": 2,
   "id": "a5aec63e",
   "metadata": {},
   "outputs": [],
   "source": [
    "import sys, os\n",
    "src_path = os.path.abspath(os.path.join('..', '..', 'src'))\n",
    "sys.path.append(src_path)"
   ]
  },
  {
   "cell_type": "code",
   "execution_count": 3,
   "id": "2b5713eb",
   "metadata": {},
   "outputs": [],
   "source": [
    "filepath = '../../dat/' + str(year) + '/'\n",
    "filename = state + '_county.json'\n",
    "filename2 = state + '_county.shp'"
   ]
  },
  {
   "cell_type": "code",
   "execution_count": 4,
   "id": "14860fda",
   "metadata": {},
   "outputs": [
    {
     "name": "stdout",
     "output_type": "stream",
     "text": [
      "The state of KS has 4 districts.\n"
     ]
    }
   ],
   "source": [
    "from read import read_graph_from_json\n",
    "\n",
    "G = read_graph_from_json(state, filepath + filename, year=year)\n",
    "print(f\"The state of {state} has {G._k} districts.\")\n",
    "G._ideal_population = sum(G.nodes[i]['TOTPOP'] for i in G.nodes) / G._k"
   ]
  },
  {
   "cell_type": "code",
   "execution_count": 5,
   "id": "44678338",
   "metadata": {},
   "outputs": [
    {
     "name": "stdout",
     "output_type": "stream",
     "text": [
      "Loaded 0 plans from file.\n"
     ]
    }
   ],
   "source": [
    "#import warm starts\n",
    "sys.path.append(os.path.abspath('../heuristic'))\n",
    "\n",
    "from KS_plans_2020 import plans\n",
    "print(f\"Loaded {len(plans)} plans from file.\")\n",
    "warm_starts = plans"
   ]
  },
  {
   "cell_type": "code",
   "execution_count": 6,
   "id": "862390b5",
   "metadata": {},
   "outputs": [
    {
     "name": "stdout",
     "output_type": "stream",
     "text": [
      "Selected 0 nondominated warm start plans\n"
     ]
    }
   ],
   "source": [
    "from pareto import filter_and_sort_pareto\n",
    "from metrics import scores\n",
    "\n",
    "plans_scores = [scores(G, plan, G._ideal_population, obj_type) for plan in warm_starts]\n",
    "_,_,nondominated_warm_starts_plans = filter_and_sort_pareto(plans=warm_starts, upper_bounds=plans_scores, obj_type=obj_type)\n",
    "print(f\"Selected {len(nondominated_warm_starts_plans)} nondominated warm start plans\")"
   ]
  },
  {
   "cell_type": "code",
   "execution_count": null,
   "id": "79f334ee",
   "metadata": {},
   "outputs": [
    {
     "name": "stdout",
     "output_type": "stream",
     "text": [
      "Initially, L = 727126 and U = 741814 and k = 4.\n",
      "\n",
      "****************************************\n",
      "Trying deviation = 7344.7\n",
      "****************************************\n",
      "No valid warm start used.\n",
      "\n",
      "****************************************\n",
      "Running labeling model!\n",
      "****************************************\n",
      "L = 727126 and U = 741814\n",
      "Set parameter Username\n",
      "Set parameter LicenseID to value 2608266\n",
      "Academic license - for non-commercial use only - expires 2026-01-09\n",
      "sizes =  [1, 1, 1, 1]\n",
      "Solving the max B problem (as MIP) for use in the vertex ordering...\n",
      "Set parameter LogToConsole to value 0\n",
      "Set parameter LazyConstraints to value 1\n",
      "Set parameter MIPGap to value 0\n",
      "Set parameter FeasibilityTol to value 1e-07\n",
      "Set parameter TimeLimit to value 7200\n",
      "Set parameter IntFeasTol to value 1e-07\n",
      "Gurobi Optimizer version 12.0.0 build v12.0.0rc1 (win64 - Windows 10.0 (19045.2))\n",
      "\n",
      "CPU model: Intel(R) Xeon(R) CPU E5-2630 v4 @ 2.20GHz, instruction set [SSE2|AVX|AVX2]\n",
      "Thread count: 10 physical cores, 20 logical processors, using up to 20 threads\n",
      "\n",
      "Non-default parameters:\n",
      "TimeLimit  7200\n",
      "FeasibilityTol  1e-07\n",
      "IntFeasTol  1e-07\n",
      "MIPGap  0\n",
      "LazyConstraints  1\n",
      "\n",
      "Optimize a model with 5377 rows, 4742 columns and 21183 nonzeros\n",
      "Model fingerprint: 0x6589e915\n",
      "Model has 4 quadratic constraints\n",
      "Variable types: 1272 continuous, 3470 integer (3470 binary)\n",
      "Coefficient statistics:\n",
      "  Matrix range     [4e-03, 6e+05]\n",
      "  QMatrix range    [1e+00, 1e+01]\n",
      "  Objective range  [3e-01, 3e-01]\n",
      "  Bounds range     [1e+00, 1e+00]\n",
      "  RHS range        [1e+00, 7e+05]\n",
      "Presolve removed 2629 rows and 1987 columns\n",
      "Presolve time: 0.05s\n",
      "Presolved: 2748 rows, 2755 columns, 12566 nonzeros\n",
      "Presolved model has 4 quadratic constraint(s)\n",
      "Variable types: 12 continuous, 2743 integer (2738 binary)\n",
      "\n",
      "Root relaxation: objective 2.351225e-03, 759 iterations, 0.01 seconds (0.01 work units)\n",
      "\n",
      "    Nodes    |    Current Node    |     Objective Bounds      |     Work\n",
      " Expl Unexpl |  Obj  Depth IntInf | Incumbent    BestBd   Gap | It/Node Time\n",
      "\n",
      "     0     0    0.00235    0    -          -    0.00235      -     -    0s\n",
      "     0     0    0.01860    0  390          -    0.01860      -     -    0s\n",
      "     0     0    0.79470    0  428          -    0.79470      -     -    1s\n",
      "     0     0    0.88384    0  396          -    0.88384      -     -    2s\n",
      "     0     0    0.89726    0  436          -    0.89726      -     -    2s\n",
      "     0     0    0.89899    0  439          -    0.89899      -     -    2s\n",
      "     0     0    0.91256    0  419          -    0.91256      -     -    3s\n",
      "     0     0    0.91361    0  419          -    0.91361      -     -    3s\n",
      "     0     0    0.91614    0  449          -    0.91614      -     -    3s\n",
      "     0     0    0.91738    0  436          -    0.91738      -     -    3s\n",
      "     0     0    0.91940    0  429          -    0.91940      -     -    3s\n",
      "     0     0    0.91992    0  449          -    0.91992      -     -    3s\n",
      "     0     0    0.92295    0  449          -    0.92295      -     -    4s\n",
      "     0     0    0.92348    0  449          -    0.92348      -     -    4s\n",
      "     0     0    0.92348    0  452          -    0.92348      -     -    4s\n",
      "     0     0    0.92408    0  450          -    0.92408      -     -    4s\n",
      "     0     0    0.92408    0  450          -    0.92408      -     -    4s\n",
      "     0     2    0.92452    0  450          -    0.92452      -     -    5s\n",
      "   372   400    1.78247   29  254          -    1.03026      -   274   10s\n",
      "   725   693    2.74542   67  166          -    1.04028      -   258   15s\n",
      "  1241  1236    1.36095    7  582          -    1.04028      -   235   20s\n",
      "  1492  1397    1.41329   14  658          -    1.04028      -   220   26s\n",
      "  1497  1400    1.62339   11  690          -    1.04028      -   220   30s\n",
      "  1504  1405    1.37881   15  647          -    1.04028      -   219   35s\n",
      "  1511  1409    1.68464   19  665          -    1.04028      -   218   40s\n",
      "  1515  1412    2.64500   60  668          -    1.04028      -   217   45s\n",
      "  1518  1414    2.69698   57  687          -    1.04028      -   217   50s\n",
      "  1522  1417    1.30396    8  718          -    1.04028      -   216   55s\n",
      "  1527  1420    2.06974   29  665          -    1.04028      -   215   60s\n",
      "  1533  1424    3.88372  117  666          -    1.04028      -   214   65s\n",
      "  1538  1427    2.02023   22  668          -    1.04028      -   214   70s\n",
      "  1542  1430    2.01621   24  727          -    1.04028      -   213   76s\n",
      "  1545  1432    1.35550   10  727          -    1.04028      -   213   84s\n",
      "  1546  1436    1.04028   15  644          -    1.04028      -   219   86s\n",
      "  1596  1504    1.27101   20  664          -    1.23401      -   228   90s\n",
      "  1765  1612    1.48098   24  712          -    1.23401      -   251   95s\n",
      "  2015  1790    1.78959   28  701          -    1.23401      -   261  100s\n",
      "  2249  1961    2.06820   32  608          -    1.23401      -   258  105s\n",
      "H 2666  2124                       2.5802544    1.23401  52.2%   243  109s\n",
      "H 2719  1998                       2.5445914    1.23401  51.5%   240  110s\n",
      "  3217  1908    2.20606   55   94    2.54459    1.33272  47.6%   232  115s\n"
     ]
    }
   ],
   "source": [
    "from epsilon_constraint import epsilon_constraint_method\n",
    "\n",
    "(plans, obj_bounds, deviations) = epsilon_constraint_method(\n",
    "            G,                 \n",
    "            obj_type,          \n",
    "            contiguity = 'lcut',                                             # {'lcut', 'scf', 'shir'} \n",
    "            cutoff=None,       \n",
    "            verbose= True,\n",
    "            warm_start_mode = 'user',                                        # {'None', 'user', 'refinement'}\n",
    "            warm_starts=warm_starts,                                         # if you have user define warm starts else it is None\n",
    "            starting_deviation=starting_deviation, \n",
    "            time_limit=7200, \n",
    "            sizes=None,      \n",
    "            max_B=True,                                                      # If symmetry_breaking is 'orbitope' or you have warm_start, max_B should be True   \n",
    "            symmetry_breaking='orbitope',                                    # {None, 'orbitope', 'rsum'} \n",
    "            state=state,\n",
    "            year=year\n",
    "        )"
   ]
  },
  {
   "cell_type": "code",
   "execution_count": null,
   "id": "6a4c605e",
   "metadata": {},
   "outputs": [],
   "source": [
    "result = list(zip(plans, obj_bounds , deviations))"
   ]
  },
  {
   "cell_type": "code",
   "execution_count": null,
   "id": "304d16c7",
   "metadata": {},
   "outputs": [],
   "source": [
    "epsilon = 1 / (2 * G._k)\n",
    "min_deviation = min(round(r[2], 1) for r in result)\n",
    "\n",
    "if min_deviation < epsilon:\n",
    "    no_solution_region = None\n",
    "else:\n",
    "    no_solution_region = [0, min_deviation]\n",
    "\n",
    "if no_solution_region is not None:\n",
    "    print(f\"No feasible solution was found within the region: {no_solution_region}\")"
   ]
  },
  {
   "cell_type": "code",
   "execution_count": null,
   "id": "2a4ab6e1",
   "metadata": {},
   "outputs": [],
   "source": [
    "from pareto import plot_pareto_frontiers\n",
    "\n",
    "plot_pareto_frontiers(\n",
    "                G,\n",
    "                method='epsilon_constraint_method',\n",
    "                plans=None,                                   #if method ='epsilon_constraint_method' is None \n",
    "                obj_types=obj_type,                               \n",
    "                ideal_population=G._ideal_population,\n",
    "                state=state,\n",
    "                filepath=filepath,\n",
    "                filename2=filename2,\n",
    "                no_solution_region=no_solution_region,\n",
    "                year=year,\n",
    "                result=result                               #if method ='heuristic' is None \n",
    "             )"
   ]
  },
  {
   "cell_type": "code",
   "execution_count": null,
   "id": "87f2e465",
   "metadata": {},
   "outputs": [],
   "source": [
    "from draw import draw_plan\n",
    "from metrics import observed_deviation_persons, compute_obj\n",
    "\n",
    "print(f\"\\n{'#' * 100}\\nPareto maps for state {state}, objective {obj_type}\\n{'#' * 100}\\n\")\n",
    "\n",
    "format_obj = {\n",
    "    'bottleneck_Polsby_Popper': lambda x: round(1 /x, 4),\n",
    "    'cut_edges': lambda x: int(x)}\n",
    "G._L = 0\n",
    "G._U = G._k * G._ideal_population\n",
    "\n",
    "for plan, obj_bound, dev in result:\n",
    "    obs_dev = observed_deviation_persons(G, plan, G._ideal_population)\n",
    "    obj = compute_obj(G, plan, obj_type)\n",
    "    obj_val = format_obj.get(obj_type, lambda x: round(x, 4))(obj)\n",
    "    deviation_percentage = round(100 * dev / G._ideal_population, 4)\n",
    "    title = f\"{round(obs_dev, 2)}-person deviation ({deviation_percentage}%), with {obj_val} {obj_type}\"\n",
    "    draw_plan(filepath, filename2, G, plan, title=title, year=year)"
   ]
  }
 ],
 "metadata": {
  "kernelspec": {
   "display_name": "Python 3 (ipykernel)",
   "language": "python",
   "name": "python3"
  },
  "language_info": {
   "codemirror_mode": {
    "name": "ipython",
    "version": 3
   },
   "file_extension": ".py",
   "mimetype": "text/x-python",
   "name": "python",
   "nbconvert_exporter": "python",
   "pygments_lexer": "ipython3",
   "version": "3.11.5"
  }
 },
 "nbformat": 4,
 "nbformat_minor": 5
}
