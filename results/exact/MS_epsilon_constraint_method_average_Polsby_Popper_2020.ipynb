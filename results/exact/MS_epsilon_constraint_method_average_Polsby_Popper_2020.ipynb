{
 "cells": [
  {
   "cell_type": "code",
   "execution_count": 1,
   "id": "43d991cb",
   "metadata": {},
   "outputs": [],
   "source": [
    "state = 'MS' \n",
    "year = 2020\n",
    "obj_type = 'average_Polsby_Popper'\n",
    "starting_deviation = 0.01 "
   ]
  },
  {
   "cell_type": "code",
   "execution_count": 2,
   "id": "aa44ff69",
   "metadata": {},
   "outputs": [],
   "source": [
    "import sys, os\n",
    "src_path = os.path.abspath(os.path.join('..', '..', 'src'))\n",
    "sys.path.append(src_path)"
   ]
  },
  {
   "cell_type": "code",
   "execution_count": 3,
   "id": "d2c13a84",
   "metadata": {},
   "outputs": [],
   "source": [
    "filepath = '../../dat/' + str(year) + '/'\n",
    "filename = state + '_county.json'\n",
    "filename2 = state + '_county.shp'"
   ]
  },
  {
   "cell_type": "code",
   "execution_count": 4,
   "id": "14860fda",
   "metadata": {},
   "outputs": [
    {
     "name": "stdout",
     "output_type": "stream",
     "text": [
      "The state of MS has 4 districts.\n"
     ]
    }
   ],
   "source": [
    "from read import read_graph_from_json\n",
    "\n",
    "G = read_graph_from_json(state, filepath + filename, year=year)\n",
    "print(f\"The state of {state} has {G._k} districts.\")\n",
    "G._ideal_population = sum(G.nodes[i]['TOTPOP'] for i in G.nodes) / G._k"
   ]
  },
  {
   "cell_type": "code",
   "execution_count": 5,
   "id": "44678338",
   "metadata": {},
   "outputs": [
    {
     "name": "stdout",
     "output_type": "stream",
     "text": [
      "Loaded 0 plans from file.\n"
     ]
    }
   ],
   "source": [
    "#import warm starts\n",
    "sys.path.append(os.path.abspath('../heuristic'))\n",
    "\n",
    "from MS_plans_2020 import plans\n",
    "print(f\"Loaded {len(plans)} plans from file.\")\n",
    "warm_starts = plans"
   ]
  },
  {
   "cell_type": "code",
   "execution_count": 6,
   "id": "ac5fde68",
   "metadata": {},
   "outputs": [
    {
     "name": "stdout",
     "output_type": "stream",
     "text": [
      "Selected 0 nondominated warm start plans\n"
     ]
    }
   ],
   "source": [
    "from pareto import filter_and_sort_pareto\n",
    "from metrics import scores\n",
    "\n",
    "plans_scores = [scores(G, plan, G._ideal_population, obj_type) for plan in warm_starts]\n",
    "_,_,nondominated_warm_starts_plans = filter_and_sort_pareto(plans=warm_starts, upper_bounds=plans_scores, obj_type=obj_type)\n",
    "print(f\"Selected {len(nondominated_warm_starts_plans)} nondominated warm start plans\")"
   ]
  },
  {
   "cell_type": "code",
   "execution_count": null,
   "id": "79f334ee",
   "metadata": {},
   "outputs": [
    {
     "name": "stdout",
     "output_type": "stream",
     "text": [
      "Initially, L = 732917 and U = 747722 and k = 4.\n",
      "\n",
      "****************************************\n",
      "Trying deviation = 7403.1975\n",
      "****************************************\n",
      "No valid warm start used.\n",
      "\n",
      "****************************************\n",
      "Running labeling model!\n",
      "****************************************\n",
      "L = 732917 and U = 747722\n",
      "Set parameter Username\n",
      "Set parameter LicenseID to value 2608266\n",
      "Academic license - for non-commercial use only - expires 2026-01-09\n",
      "sizes =  [1, 1, 1, 1]\n",
      "Solving the max B problem (as MIP) for use in the vertex ordering...\n",
      "Set parameter LogToConsole to value 0\n",
      "Set parameter LazyConstraints to value 1\n",
      "Set parameter MIPGap to value 0\n",
      "Set parameter FeasibilityTol to value 1e-07\n",
      "Set parameter TimeLimit to value 7200\n",
      "Set parameter IntFeasTol to value 1e-07\n",
      "Gurobi Optimizer version 12.0.0 build v12.0.0rc1 (win64 - Windows 10.0 (19045.2))\n",
      "\n",
      "CPU model: Intel(R) Xeon(R) CPU E5-2630 v4 @ 2.20GHz, instruction set [SSE2|AVX|AVX2]\n",
      "Thread count: 10 physical cores, 20 logical processors, using up to 20 threads\n",
      "\n",
      "Non-default parameters:\n",
      "TimeLimit  7200\n",
      "FeasibilityTol  1e-07\n",
      "IntFeasTol  1e-07\n",
      "MIPGap  0\n",
      "LazyConstraints  1\n",
      "\n",
      "Optimize a model with 4406 rows, 3832 columns and 17017 nonzeros\n",
      "Model fingerprint: 0x3bff029c\n",
      "Model has 4 quadratic constraints\n",
      "Variable types: 1076 continuous, 2756 integer (2756 binary)\n",
      "Coefficient statistics:\n",
      "  Matrix range     [1e-06, 2e+05]\n",
      "  QMatrix range    [1e+00, 1e+01]\n",
      "  Objective range  [2e-07, 1e-01]\n",
      "  Bounds range     [1e+00, 1e+00]\n",
      "  RHS range        [1e+00, 7e+05]\n",
      "Presolve removed 1795 rows and 1503 columns\n",
      "Presolve time: 0.07s\n",
      "Presolved: 2611 rows, 2329 columns, 11105 nonzeros\n",
      "Presolved model has 4 quadratic constraint(s)\n",
      "Variable types: 92 continuous, 2237 integer (2213 binary)\n",
      "\n",
      "Root relaxation: objective 9.999990e-01, 751 iterations, 0.02 seconds (0.01 work units)\n",
      "\n",
      "    Nodes    |    Current Node    |     Objective Bounds      |     Work\n",
      " Expl Unexpl |  Obj  Depth IntInf | Incumbent    BestBd   Gap | It/Node Time\n",
      "\n",
      "     0     0    1.00000    0    4          -    1.00000      -     -    0s\n",
      "     0     0    1.00000    0  583          -    1.00000      -     -    0s\n",
      "     0     0    0.99484    0  413          -    0.99484      -     -    2s\n",
      "     0     0    0.99484    0  413          -    0.99484      -     -    2s\n",
      "     0     0    0.98819    0  449          -    0.98819      -     -    4s\n",
      "     0     0    0.98462    0  450          -    0.98462      -     -    5s\n",
      "     0     0    0.98462    0  467          -    0.98462      -     -    6s\n",
      "     0     0    0.98458    0  480          -    0.98458      -     -    6s\n",
      "     0     0    0.98454    0  483          -    0.98454      -     -    6s\n",
      "     0     0    0.98392    0  458          -    0.98392      -     -    6s\n",
      "     0     0    0.98390    0  472          -    0.98390      -     -    6s\n",
      "     0     0    0.98384    0  475          -    0.98384      -     -    6s\n",
      "     0     0    0.98382    0  474          -    0.98382      -     -    6s\n",
      "     0     0    0.98382    0  475          -    0.98382      -     -    7s\n",
      "     0     0    0.98372    0  481          -    0.98372      -     -    7s\n",
      "     0     0    0.98362    0  486          -    0.98362      -     -    7s\n",
      "     0     0    0.98361    0  481          -    0.98361      -     -    7s\n",
      "     0     0    0.98361    0  484          -    0.98361      -     -    7s\n",
      "     0     0    0.98361    0  486          -    0.98361      -     -    7s\n",
      "     0     0    0.98361    0  482          -    0.98361      -     -    7s\n",
      "     0     2    0.98351    0  482          -    0.98351      -     -    9s\n",
      "     3     8    0.97407    2  471          -    0.98228      -  4801   10s\n",
      "    54    68    0.95986    7  455          -    0.97952      -  2602   15s\n",
      "   137   158    0.95713   12  479          -    0.97952      -  2447   20s\n",
      "   281   305    0.94260   20  465          -    0.97952      -  1891   25s\n",
      "   552   607    0.91881   41  336          -    0.97952      -  1313   30s\n",
      "   966   916    0.95664   12  475          -    0.97952      -   956   35s\n",
      "  1092  1008 infeasible   17               -    0.97952      -  1017   40s\n",
      "  1211  1089    0.83538   16  514          -    0.97952      -  1033   46s\n",
      "  1462  1299 infeasible   19               -    0.97952      -   953   51s\n",
      "  1527  1302    0.94608   25  463          -    0.97952      -   942   55s\n",
      "  1530  1304    0.91332   71  500          -    0.97952      -   940   62s\n",
      "  1532  1305    0.66298   43  523          -    0.97952      -   939   66s\n"
     ]
    }
   ],
   "source": [
    "from epsilon_constraint import epsilon_constraint_method\n",
    "\n",
    "(plans, obj_bounds, deviations) = epsilon_constraint_method(\n",
    "            G,                 \n",
    "            obj_type,          \n",
    "            contiguity = 'lcut',                                             # {'lcut', 'scf', 'shir'} \n",
    "            cutoff=None,       \n",
    "            verbose= True,\n",
    "            warm_start_mode = 'user',                                        # {'None', 'user', 'refinement'}\n",
    "            warm_starts=warm_starts,                                         # if you have user define warm starts else it is None\n",
    "            starting_deviation=starting_deviation, \n",
    "            time_limit=7200, \n",
    "            sizes=None,      \n",
    "            max_B=True,                                                      # If symmetry_breaking is 'orbitope' or you have warm_start, max_B should be True   \n",
    "            symmetry_breaking='orbitope',                                    # {None, 'orbitope', 'rsum'} \n",
    "            state=state,\n",
    "            year=year\n",
    "        )"
   ]
  },
  {
   "cell_type": "code",
   "execution_count": null,
   "id": "6a4c605e",
   "metadata": {},
   "outputs": [],
   "source": [
    "result = list(zip(plans, obj_bounds , deviations))"
   ]
  },
  {
   "cell_type": "code",
   "execution_count": null,
   "id": "304d16c7",
   "metadata": {},
   "outputs": [],
   "source": [
    "epsilon = 1 / (2 * G._k)\n",
    "min_deviation = min(round(r[2], 1) for r in result)\n",
    "\n",
    "if min_deviation < epsilon:\n",
    "    no_solution_region = None\n",
    "else:\n",
    "    no_solution_region = [0, min_deviation]\n",
    "\n",
    "if no_solution_region is not None:\n",
    "    print(f\"No feasible solution was found within the region: {no_solution_region}\")"
   ]
  },
  {
   "cell_type": "code",
   "execution_count": null,
   "id": "2a4ab6e1",
   "metadata": {},
   "outputs": [],
   "source": [
    "from pareto import plot_pareto_frontiers\n",
    "\n",
    "plot_pareto_frontiers(\n",
    "                G,\n",
    "                method='epsilon_constraint_method',\n",
    "                plans=None,                                   #if method ='epsilon_constraint_method' is None \n",
    "                obj_types=obj_type,                               \n",
    "                ideal_population=G._ideal_population,\n",
    "                state=state,\n",
    "                filepath=filepath,\n",
    "                filename2=filename2,\n",
    "                no_solution_region=no_solution_region,\n",
    "                year=year,\n",
    "                result=result                               #if method ='heuristic' is None \n",
    "             )"
   ]
  },
  {
   "cell_type": "code",
   "execution_count": null,
   "id": "87f2e465",
   "metadata": {},
   "outputs": [],
   "source": [
    "from draw import draw_plan\n",
    "from metrics import observed_deviation_persons, compute_obj\n",
    "\n",
    "print(f\"\\n{'#' * 100}\\nPareto maps for state {state}, objective {obj_type}\\n{'#' * 100}\\n\")\n",
    "\n",
    "format_obj = {\n",
    "    'bottleneck_Polsby_Popper': lambda x: round(1 /x, 4),\n",
    "    'cut_edges': lambda x: int(x)}\n",
    "G._L = 0\n",
    "G._U = G._k * G._ideal_population\n",
    "\n",
    "for plan, obj_bound, dev in result:\n",
    "    obs_dev = observed_deviation_persons(G, plan, G._ideal_population)\n",
    "    obj = compute_obj(G, plan, obj_type)\n",
    "    obj_val = format_obj.get(obj_type, lambda x: round(x, 4))(obj)\n",
    "    deviation_percentage = round(100 * dev / G._ideal_population, 4)\n",
    "    title = f\"{round(obs_dev, 2)}-person deviation ({deviation_percentage}%), with {obj_val} {obj_type}\"\n",
    "    draw_plan(filepath, filename2, G, plan, title=title, year=year)"
   ]
  }
 ],
 "metadata": {
  "kernelspec": {
   "display_name": "Python 3 (ipykernel)",
   "language": "python",
   "name": "python3"
  },
  "language_info": {
   "codemirror_mode": {
    "name": "ipython",
    "version": 3
   },
   "file_extension": ".py",
   "mimetype": "text/x-python",
   "name": "python",
   "nbconvert_exporter": "python",
   "pygments_lexer": "ipython3",
   "version": "3.11.5"
  }
 },
 "nbformat": 4,
 "nbformat_minor": 5
}
