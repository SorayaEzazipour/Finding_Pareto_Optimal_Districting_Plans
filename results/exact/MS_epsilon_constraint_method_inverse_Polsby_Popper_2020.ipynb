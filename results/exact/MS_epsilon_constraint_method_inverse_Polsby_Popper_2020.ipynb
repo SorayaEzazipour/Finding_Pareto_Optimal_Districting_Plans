{
 "cells": [
  {
   "cell_type": "code",
   "execution_count": 1,
   "id": "43d991cb",
   "metadata": {},
   "outputs": [],
   "source": [
    "state = 'MS' \n",
    "year = 2020\n",
    "obj_type = 'inverse_Polsby_Popper'\n",
    "starting_deviation = 0.01 "
   ]
  },
  {
   "cell_type": "code",
   "execution_count": 2,
   "id": "a5aec63e",
   "metadata": {},
   "outputs": [],
   "source": [
    "import sys, os\n",
    "src_path = os.path.abspath(os.path.join('..', '..', 'src'))\n",
    "sys.path.append(src_path)"
   ]
  },
  {
   "cell_type": "code",
   "execution_count": 3,
   "id": "be5334f3",
   "metadata": {},
   "outputs": [],
   "source": [
    "filepath = '../../dat/' + str(year) + '/'\n",
    "filename = state + '_county.json'\n",
    "filename2 = state + '_county.shp'"
   ]
  },
  {
   "cell_type": "code",
   "execution_count": 4,
   "id": "14860fda",
   "metadata": {},
   "outputs": [
    {
     "name": "stdout",
     "output_type": "stream",
     "text": [
      "The state of MS has 4 districts.\n"
     ]
    }
   ],
   "source": [
    "from read import read_graph_from_json\n",
    "\n",
    "G = read_graph_from_json(state, filepath + filename, year=year)\n",
    "print(f\"The state of {state} has {G._k} districts.\")\n",
    "G._ideal_population = sum(G.nodes[i]['TOTPOP'] for i in G.nodes) / G._k"
   ]
  },
  {
   "cell_type": "code",
   "execution_count": 5,
   "id": "44678338",
   "metadata": {},
   "outputs": [
    {
     "name": "stdout",
     "output_type": "stream",
     "text": [
      "Loaded 0 plans from file.\n"
     ]
    }
   ],
   "source": [
    "#import warm starts\n",
    "sys.path.append(os.path.abspath('../heuristic'))\n",
    "\n",
    "from MS_plans_2020 import plans\n",
    "print(f\"Loaded {len(plans)} plans from file.\")\n",
    "warm_starts = plans"
   ]
  },
  {
   "cell_type": "code",
   "execution_count": 6,
   "id": "73554877",
   "metadata": {},
   "outputs": [
    {
     "name": "stdout",
     "output_type": "stream",
     "text": [
      "Selected 0 nondominated warm start plans\n"
     ]
    }
   ],
   "source": [
    "from pareto import filter_and_sort_pareto\n",
    "from metrics import scores\n",
    "\n",
    "plans_scores = [scores(G, plan, G._ideal_population, obj_type) for plan in warm_starts]\n",
    "_,_,nondominated_warm_starts_plans = filter_and_sort_pareto(plans=warm_starts, upper_bounds=plans_scores, obj_type=obj_type)\n",
    "print(f\"Selected {len(nondominated_warm_starts_plans)} nondominated warm start plans\")"
   ]
  },
  {
   "cell_type": "code",
   "execution_count": null,
   "id": "79f334ee",
   "metadata": {},
   "outputs": [
    {
     "name": "stdout",
     "output_type": "stream",
     "text": [
      "Initially, L = 732917 and U = 747722 and k = 4.\n",
      "\n",
      "****************************************\n",
      "Trying deviation = 7403.1975\n",
      "****************************************\n",
      "No valid warm start used.\n",
      "\n",
      "****************************************\n",
      "Running labeling model!\n",
      "****************************************\n",
      "L = 732917 and U = 747722\n",
      "Set parameter Username\n",
      "Set parameter LicenseID to value 2608266\n",
      "Academic license - for non-commercial use only - expires 2026-01-09\n",
      "sizes =  [1, 1, 1, 1]\n",
      "Solving the max B problem (as MIP) for use in the vertex ordering...\n",
      "Set parameter LogToConsole to value 0\n",
      "Set parameter LazyConstraints to value 1\n",
      "Set parameter MIPGap to value 0\n",
      "Set parameter FeasibilityTol to value 1e-07\n",
      "Set parameter TimeLimit to value 7200\n",
      "Set parameter IntFeasTol to value 1e-07\n",
      "Gurobi Optimizer version 12.0.0 build v12.0.0rc1 (win64 - Windows 10.0 (19045.2))\n",
      "\n",
      "CPU model: Intel(R) Xeon(R) CPU E5-2630 v4 @ 2.20GHz, instruction set [SSE2|AVX|AVX2]\n",
      "Thread count: 10 physical cores, 20 logical processors, using up to 20 threads\n",
      "\n",
      "Non-default parameters:\n",
      "TimeLimit  7200\n",
      "FeasibilityTol  1e-07\n",
      "IntFeasTol  1e-07\n",
      "MIPGap  0\n",
      "LazyConstraints  1\n",
      "\n",
      "Optimize a model with 4162 rows, 3672 columns and 16377 nonzeros\n",
      "Model fingerprint: 0x9af5db99\n",
      "Model has 4 quadratic constraints\n",
      "Variable types: 996 continuous, 2676 integer (2676 binary)\n",
      "Coefficient statistics:\n",
      "  Matrix range     [5e-03, 2e+05]\n",
      "  QMatrix range    [1e+00, 1e+01]\n",
      "  Objective range  [3e-01, 3e-01]\n",
      "  Bounds range     [1e+00, 1e+00]\n",
      "  RHS range        [1e+00, 7e+05]\n",
      "Presolve removed 1795 rows and 1503 columns\n",
      "Presolve time: 0.05s\n",
      "Presolved: 2367 rows, 2169 columns, 10465 nonzeros\n",
      "Presolved model has 4 quadratic constraint(s)\n",
      "Variable types: 12 continuous, 2157 integer (2133 binary)\n",
      "\n",
      "Root relaxation: objective 2.342545e-03, 677 iterations, 0.00 seconds (0.01 work units)\n",
      "\n",
      "    Nodes    |    Current Node    |     Objective Bounds      |     Work\n",
      " Expl Unexpl |  Obj  Depth IntInf | Incumbent    BestBd   Gap | It/Node Time\n",
      "\n",
      "     0     0    0.00234    0    -          -    0.00234      -     -    0s\n",
      "     0     0    0.75071    0  371          -    0.75071      -     -    0s\n",
      "     0     0    1.49928    0  416          -    1.49928      -     -    1s\n",
      "     0     0    1.50109    0  419          -    1.50109      -     -    1s\n",
      "     0     0    1.58043    0  401          -    1.58043      -     -    1s\n",
      "     0     0    1.59089    0  404          -    1.59089      -     -    1s\n",
      "     0     0    1.60586    0  398          -    1.60586      -     -    2s\n",
      "     0     0    1.60884    0  403          -    1.60884      -     -    3s\n",
      "     0     0    1.60884    0  404          -    1.60884      -     -    3s\n",
      "     0     0    1.60919    0  405          -    1.60919      -     -    3s\n",
      "     0     0    1.61017    0  405          -    1.61017      -     -    3s\n",
      "     0     2    1.61381    0  404          -    1.61381      -     -    4s\n",
      "     7    16    1.69298    3  424          -    1.68929      -   415    5s\n",
      "   378   400    3.05916   20  394          -    1.82213      -   294   10s\n",
      "   760   782    4.55654   37  319          -    1.82213      -   273   15s\n",
      "   999  1013    7.40310   56  218          -    1.90633      -   270   20s\n",
      "  1287  1284    2.61053    8  432          -    1.90633      -   271   25s\n",
      "  1635  1659    3.94685   17  540          -    1.90633      -   257   30s\n",
      "  1865  1740    2.46267   10  382          -    1.90633      -   243   36s\n",
      "  1868  1742    3.25434   16  421          -    1.90633      -   243   40s\n",
      "  1871  1744    4.39217   53  432          -    1.90633      -   243   45s\n",
      "  1874  1746    7.83258   97  475          -    1.90633      -   242   51s\n",
      "  1878  1749    5.77347   76  519          -    1.90633      -   242   56s\n",
      "  1880  1750    7.84601  123  541          -    1.90633      -   242   60s\n",
      "  1886  1754    3.86389   16  540          -    1.90633      -   241   65s\n",
      "  1891  1763    1.91767   11  439          -    1.90633      -   245   70s\n",
      "  1985  1849    2.40038   16  540          -    2.16122      -   258   75s\n",
      "  2154  1973    2.72073   19  431          -    2.16122      -   277   80s\n",
      "  2543  2251    3.51073   23  491          -    2.16122      -   287   85s\n",
      "  3303  2819    3.96015   32  446          -    2.16122      -   264   90s\n",
      "  3777  3029    4.87177   37  380          -    2.16122      -   252   95s\n",
      "  4363  3318    6.04411   48  330          -    2.19035      -   241  100s\n",
      "  4941  3652    7.28716   67   55          -    2.19035      -   238  106s\n",
      "  5437  3925    9.54807   92   78          -    2.19035      -   233  110s\n",
      "  5988  4346    2.81583   18  390          -    2.19035      -   228  115s\n",
      "  6769  4778    3.20926   26  445          -    2.19035      -   216  121s\n",
      "  7212  4981    3.49377   36  369          -    2.27250      -   212  125s\n",
      "  7957  5551    3.89197   46  194          -    2.27250      -   208  133s\n",
      "  8282  5910    5.15445   88   91          -    2.27250      -   208  138s\n",
      "  8692  6207    6.89069  110   16          -    2.27250      -   207  142s\n",
      "  9582  7028    3.01938   21  388          -    2.27250      -   201  146s\n",
      " 10559  7987    3.94721   30  416          -    2.27250      -   195  151s\n",
      " 11173  8319    4.44118   35  371          -    2.27250      -   192  155s\n",
      " 12030  9337    2.75404   20  460          -    2.27250      -   192  162s\n",
      " 12711  9836    3.48426   25  457          -    2.27250      -   190  167s\n",
      " 13282 10075    4.19495   33  370          -    2.27250      -   189  171s\n",
      " 13545 10862    4.53692   39  134          -    2.27250      -   190  176s\n",
      " 14476 11304    6.18255   87  117          -    2.33934      -   186  181s\n",
      " 15056 11837    2.81956   21  403          -    2.33934      -   184  186s\n",
      " 15742 12485    3.62524   32  334          -    2.33934      -   183  191s\n",
      " 16458 13134    4.30828   46  344          -    2.33934      -   181  197s\n",
      "H16494  5791                       4.9550126    2.33934  52.8%   181  197s\n",
      "H17342  4430                       4.5807888    2.33934  48.9%   179  203s\n",
      "H17491  3699                       4.3515524    2.33934  46.2%   179  203s\n",
      " 17737  3808     cutoff   26         4.35155    2.33934  46.2%   180  209s\n",
      " 18132  3956    3.83736   28  432    4.35155    2.33934  46.2%   181  215s\n",
      " 18391  4106 infeasible   36         4.35155    2.33934  46.2%   182  220s\n",
      "H18612  2094                       3.6362790    2.53842  30.2%   182  220s\n"
     ]
    }
   ],
   "source": [
    "from epsilon_constraint import epsilon_constraint_method\n",
    "\n",
    "(plans, obj_bounds, deviations) = epsilon_constraint_method(\n",
    "            G,                 \n",
    "            obj_type,          \n",
    "            contiguity = 'lcut',                                             # {'lcut', 'scf', 'shir'} \n",
    "            cutoff=None,       \n",
    "            verbose= True,\n",
    "            warm_start_mode = 'user',                                        # {'None', 'user', 'refinement'}\n",
    "            warm_starts=warm_starts,                                         # if you have user define warm starts else it is None\n",
    "            starting_deviation=starting_deviation, \n",
    "            time_limit=7200, \n",
    "            sizes=None,      \n",
    "            max_B=True,                                                      # If symmetry_breaking is 'orbitope' or you have warm_start, max_B should be True   \n",
    "            symmetry_breaking='orbitope',                                    # {None, 'orbitope', 'rsum'} \n",
    "            state=state,\n",
    "            year=year\n",
    "        )"
   ]
  },
  {
   "cell_type": "code",
   "execution_count": null,
   "id": "6a4c605e",
   "metadata": {},
   "outputs": [],
   "source": [
    "result = list(zip(plans, obj_bounds , deviations))"
   ]
  },
  {
   "cell_type": "code",
   "execution_count": null,
   "id": "304d16c7",
   "metadata": {},
   "outputs": [],
   "source": [
    "epsilon = 1 / (2 * G._k)\n",
    "min_deviation = min(round(r[2], 1) for r in result)\n",
    "\n",
    "if min_deviation < epsilon:\n",
    "    no_solution_region = None\n",
    "else:\n",
    "    no_solution_region = [0, min_deviation]\n",
    "\n",
    "if no_solution_region is not None:\n",
    "    print(f\"No feasible solution was found within the region: {no_solution_region}\")"
   ]
  },
  {
   "cell_type": "code",
   "execution_count": null,
   "id": "2a4ab6e1",
   "metadata": {},
   "outputs": [],
   "source": [
    "from pareto import plot_pareto_frontiers\n",
    "\n",
    "plot_pareto_frontiers(\n",
    "                G,\n",
    "                method='epsilon_constraint_method',\n",
    "                plans=None,                                   #if method ='epsilon_constraint_method' is None \n",
    "                obj_types=obj_type,                               \n",
    "                ideal_population=G._ideal_population,\n",
    "                state=state,\n",
    "                filepath=filepath,\n",
    "                filename2=filename2,\n",
    "                no_solution_region=no_solution_region,\n",
    "                year=year,\n",
    "                result=result                               #if method ='heuristic' is None \n",
    "             )"
   ]
  },
  {
   "cell_type": "code",
   "execution_count": null,
   "id": "87f2e465",
   "metadata": {},
   "outputs": [],
   "source": [
    "from draw import draw_plan\n",
    "from metrics import observed_deviation_persons, compute_obj\n",
    "\n",
    "print(f\"\\n{'#' * 100}\\nPareto maps for state {state}, objective {obj_type}\\n{'#' * 100}\\n\")\n",
    "\n",
    "format_obj = {\n",
    "    'bottleneck_Polsby_Popper': lambda x: round(1 /x, 4),\n",
    "    'cut_edges': lambda x: int(x)}\n",
    "G._L = 0\n",
    "G._U = G._k * G._ideal_population\n",
    "\n",
    "for plan, obj_bound, dev in result:\n",
    "    obs_dev = observed_deviation_persons(G, plan, G._ideal_population)\n",
    "    obj = compute_obj(G, plan, obj_type)\n",
    "    obj_val = format_obj.get(obj_type, lambda x: round(x, 4))(obj)\n",
    "    deviation_percentage = round(100 * dev / G._ideal_population, 4)\n",
    "    title = f\"{round(obs_dev, 2)}-person deviation ({deviation_percentage}%), with {obj_val} {obj_type}\"\n",
    "    draw_plan(filepath, filename2, G, plan, title=title, year=year)"
   ]
  }
 ],
 "metadata": {
  "kernelspec": {
   "display_name": "Python 3 (ipykernel)",
   "language": "python",
   "name": "python3"
  },
  "language_info": {
   "codemirror_mode": {
    "name": "ipython",
    "version": 3
   },
   "file_extension": ".py",
   "mimetype": "text/x-python",
   "name": "python",
   "nbconvert_exporter": "python",
   "pygments_lexer": "ipython3",
   "version": "3.11.5"
  }
 },
 "nbformat": 4,
 "nbformat_minor": 5
}
