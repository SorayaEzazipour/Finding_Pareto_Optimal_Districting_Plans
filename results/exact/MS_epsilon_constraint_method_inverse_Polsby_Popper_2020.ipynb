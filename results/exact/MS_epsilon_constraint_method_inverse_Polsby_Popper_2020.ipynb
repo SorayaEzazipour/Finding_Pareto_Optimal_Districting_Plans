{
 "cells": [
  {
   "cell_type": "code",
   "execution_count": 1,
   "id": "43d991cb",
   "metadata": {},
   "outputs": [],
   "source": [
    "state = 'MS' \n",
    "year = 2020\n",
    "obj_type = 'inverse_Polsby_Popper'\n",
    "starting_deviation = 0.01 "
   ]
  },
  {
   "cell_type": "code",
   "execution_count": 2,
   "id": "a5aec63e",
   "metadata": {},
   "outputs": [],
   "source": [
    "import sys, os\n",
    "src_path = os.path.abspath(os.path.join('..', '..', 'src'))\n",
    "sys.path.append(src_path)"
   ]
  },
  {
   "cell_type": "code",
   "execution_count": 3,
   "id": "be5334f3",
   "metadata": {},
   "outputs": [],
   "source": [
    "filepath = '../../dat/' + str(year) + '/'\n",
    "filename = state + '_county.json'\n",
    "filename2 = state + '_county.shp'"
   ]
  },
  {
   "cell_type": "code",
   "execution_count": 4,
   "id": "14860fda",
   "metadata": {},
   "outputs": [
    {
     "name": "stdout",
     "output_type": "stream",
     "text": [
      "The state of MS has 4 districts.\n"
     ]
    }
   ],
   "source": [
    "from read import read_graph_from_json\n",
    "\n",
    "G = read_graph_from_json(state, filepath + filename, year=year)\n",
    "print(f\"The state of {state} has {G._k} districts.\")\n",
    "G._ideal_population = sum(G.nodes[i]['TOTPOP'] for i in G.nodes) / G._k"
   ]
  },
  {
   "cell_type": "code",
   "execution_count": 5,
   "id": "44678338",
   "metadata": {},
   "outputs": [
    {
     "name": "stdout",
     "output_type": "stream",
     "text": [
      "Loaded 0 plans from file.\n"
     ]
    }
   ],
   "source": [
    "#import warm starts\n",
    "sys.path.append(os.path.abspath('../heuristic'))\n",
    "\n",
    "from MS_plans_2020 import plans\n",
    "print(f\"Loaded {len(plans)} plans from file.\")\n",
    "warm_starts = plans"
   ]
  },
  {
   "cell_type": "code",
   "execution_count": null,
   "id": "79f334ee",
   "metadata": {},
   "outputs": [
    {
     "name": "stdout",
     "output_type": "stream",
     "text": [
      "Initially, L = 732917 and U = 747722 and k = 4.\n",
      "\n",
      "****************************************\n",
      "Trying deviation = 7403.1975\n",
      "****************************************\n",
      "No valid warm start used.\n",
      "\n",
      "****************************************\n",
      "Running labeling model!\n",
      "****************************************\n",
      "L = 732917 and U = 747722\n",
      "Set parameter Username\n",
      "Set parameter LicenseID to value 2608266\n",
      "Academic license - for non-commercial use only - expires 2026-01-09\n",
      "sizes =  [1, 1, 1, 1]\n",
      "Solving the max B problem (as MIP) for use in the vertex ordering...\n",
      "Set parameter LogToConsole to value 0\n"
     ]
    }
   ],
   "source": [
    "from epsilon_constraint import epsilon_constraint_method\n",
    "\n",
    "(plans, obj_bounds, deviations) = epsilon_constraint_method(\n",
    "            G,                 \n",
    "            obj_type,          \n",
    "            contiguity = 'lcut',                                             # {'lcut', 'scf', 'shir'} \n",
    "            cutoff=None,       \n",
    "            verbose= True,\n",
    "            warm_start_mode = 'user',                                        # {'None', 'user', 'refinement'}\n",
    "            warm_starts=warm_starts,                                         # if you have user define warm starts else it is None\n",
    "            starting_deviation=starting_deviation, \n",
    "            time_limit=7200, \n",
    "            sizes=None,      \n",
    "            max_B=True,                                                      # If symmetry_breaking is 'orbitope' or you have warm_start, max_B should be True   \n",
    "            symmetry_breaking='orbitope',                                    # {None, 'orbitope', 'rsum'} \n",
    "            state=state,\n",
    "            year=year\n",
    "        )"
   ]
  },
  {
   "cell_type": "code",
   "execution_count": null,
   "id": "6a4c605e",
   "metadata": {},
   "outputs": [],
   "source": [
    "result = list(zip(plans, obj_bounds , deviations))"
   ]
  },
  {
   "cell_type": "code",
   "execution_count": null,
   "id": "304d16c7",
   "metadata": {},
   "outputs": [],
   "source": [
    "no_solution_region = [0, min(round(r[2],1) for r in result)]\n",
    "print(f\"No feasible solution was found within the region: {no_solution_region}\")"
   ]
  },
  {
   "cell_type": "code",
   "execution_count": null,
   "id": "2a4ab6e1",
   "metadata": {},
   "outputs": [],
   "source": [
    "from pareto import plot_pareto_frontiers\n",
    "\n",
    "plot_pareto_frontiers(\n",
    "                G,\n",
    "                method='epsilon_constraint_method',\n",
    "                plans=None,                                   #if method ='epsilon_constraint_method' is None \n",
    "                obj_types=obj_type,                               \n",
    "                ideal_population=G._ideal_population,\n",
    "                state=state,\n",
    "                filepath=filepath,\n",
    "                filename2=filename2,\n",
    "                no_solution_region=no_solution_region,\n",
    "                year=year,\n",
    "                result=result                               #if method ='heuristic' is None \n",
    "             )"
   ]
  },
  {
   "cell_type": "code",
   "execution_count": null,
   "id": "87f2e465",
   "metadata": {},
   "outputs": [],
   "source": [
    "from draw import draw_plan\n",
    "from metrics import observed_deviation_persons, compute_obj\n",
    "\n",
    "print(f\"\\n{'#' * 100}\\nPareto maps for state {state}, objective {obj_type}\\n{'#' * 100}\\n\")\n",
    "\n",
    "format_obj = {\n",
    "    'bottleneck_Polsby_Popper': lambda x: round(1 /x, 4),\n",
    "    'cut_edges': lambda x: int(x)}\n",
    "G._L = 0\n",
    "G._U = G._k * G._ideal_population\n",
    "\n",
    "for plan, obj_bound, dev in result:\n",
    "    obs_dev = observed_deviation_persons(G, plan, G._ideal_population)\n",
    "    obj = compute_obj(G, plan, obj_type)\n",
    "    obj_val = format_obj.get(obj_type, lambda x: round(x, 4))(obj)\n",
    "    deviation_percentage = round(100 * dev / G._ideal_population, 4)\n",
    "    title = f\"{round(obs_dev, 2)}-person deviation ({deviation_percentage}%), with {obj_val} {obj_type}\"\n",
    "    draw_plan(filepath, filename2, G, plan, title=title, year=year)"
   ]
  }
 ],
 "metadata": {
  "kernelspec": {
   "display_name": "Python 3 (ipykernel)",
   "language": "python",
   "name": "python3"
  },
  "language_info": {
   "codemirror_mode": {
    "name": "ipython",
    "version": 3
   },
   "file_extension": ".py",
   "mimetype": "text/x-python",
   "name": "python",
   "nbconvert_exporter": "python",
   "pygments_lexer": "ipython3",
   "version": "3.11.5"
  }
 },
 "nbformat": 4,
 "nbformat_minor": 5
}
