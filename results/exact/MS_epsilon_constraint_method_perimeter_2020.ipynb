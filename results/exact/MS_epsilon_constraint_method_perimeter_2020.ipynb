{
 "cells": [
  {
   "cell_type": "code",
   "execution_count": 1,
   "id": "43d991cb",
   "metadata": {},
   "outputs": [],
   "source": [
    "state = 'MS' \n",
    "year = 2020\n",
    "obj_type = 'perimeter'\n",
    "starting_deviation = 0.01"
   ]
  },
  {
   "cell_type": "code",
   "execution_count": 2,
   "id": "a5aec63e",
   "metadata": {},
   "outputs": [],
   "source": [
    "import sys, os\n",
    "src_path = os.path.abspath(os.path.join('..', '..', 'src'))\n",
    "sys.path.append(src_path)"
   ]
  },
  {
   "cell_type": "code",
   "execution_count": 3,
   "id": "28971366",
   "metadata": {},
   "outputs": [],
   "source": [
    "filepath = '../../dat/' + str(year) + '/'\n",
    "filename = state + '_county.json'\n",
    "filename2 = state + '_county.shp'"
   ]
  },
  {
   "cell_type": "code",
   "execution_count": 4,
   "id": "14860fda",
   "metadata": {},
   "outputs": [
    {
     "name": "stdout",
     "output_type": "stream",
     "text": [
      "The state of MS has 4 districts.\n"
     ]
    }
   ],
   "source": [
    "from read import read_graph_from_json\n",
    "\n",
    "G = read_graph_from_json(state, filepath + filename, year=year)\n",
    "print(f\"The state of {state} has {G._k} districts.\")\n",
    "G._ideal_population = sum(G.nodes[i]['TOTPOP'] for i in G.nodes) / G._k"
   ]
  },
  {
   "cell_type": "code",
   "execution_count": 5,
   "id": "44678338",
   "metadata": {},
   "outputs": [
    {
     "name": "stdout",
     "output_type": "stream",
     "text": [
      "Loaded 0 plans from file.\n"
     ]
    }
   ],
   "source": [
    "#import warm starts\n",
    "sys.path.append(os.path.abspath('../heuristic'))\n",
    "\n",
    "from MS_plans_2020 import plans\n",
    "print(f\"Loaded {len(plans)} plans from file.\")\n",
    "warm_starts = plans"
   ]
  },
  {
   "cell_type": "code",
   "execution_count": 6,
   "id": "50abbb36",
   "metadata": {},
   "outputs": [
    {
     "name": "stdout",
     "output_type": "stream",
     "text": [
      "Selected 0 nondominated warm start plans\n"
     ]
    }
   ],
   "source": [
    "from pareto import filter_and_sort_pareto\n",
    "from metrics import scores\n",
    "\n",
    "plans_scores = [scores(G, plan, G._ideal_population, obj_type) for plan in warm_starts]\n",
    "_,_,nondominated_warm_starts_plans = filter_and_sort_pareto(plans=warm_starts, upper_bounds=plans_scores, obj_type=obj_type)\n",
    "print(f\"Selected {len(nondominated_warm_starts_plans)} nondominated warm start plans\")"
   ]
  },
  {
   "cell_type": "code",
   "execution_count": null,
   "id": "79f334ee",
   "metadata": {},
   "outputs": [
    {
     "name": "stdout",
     "output_type": "stream",
     "text": [
      "Initially, L = 732917 and U = 747722 and k = 4.\n",
      "\n",
      "****************************************\n",
      "Trying deviation = 7403.1975\n",
      "****************************************\n",
      "No valid warm start used.\n",
      "\n",
      "****************************************\n",
      "Running labeling model!\n",
      "****************************************\n",
      "L = 732917 and U = 747722\n",
      "Set parameter Username\n",
      "Set parameter LicenseID to value 2608266\n",
      "Academic license - for non-commercial use only - expires 2026-01-09\n",
      "sizes =  [1, 1, 1, 1]\n",
      "Solving the max B problem (as MIP) for use in the vertex ordering...\n",
      "Set parameter LogToConsole to value 0\n",
      "Set parameter LazyConstraints to value 1\n",
      "Set parameter MIPGap to value 0\n",
      "Set parameter FeasibilityTol to value 1e-07\n",
      "Set parameter TimeLimit to value 7200\n",
      "Set parameter IntFeasTol to value 1e-07\n",
      "Gurobi Optimizer version 12.0.0 build v12.0.0rc1 (win64 - Windows 10.0 (19045.2))\n",
      "\n",
      "CPU model: Intel(R) Xeon(R) CPU E5-2630 v4 @ 2.20GHz, instruction set [SSE2|AVX|AVX2]\n",
      "Thread count: 10 physical cores, 20 logical processors, using up to 20 threads\n",
      "\n",
      "Non-default parameters:\n",
      "TimeLimit  7200\n",
      "FeasibilityTol  1e-07\n",
      "IntFeasTol  1e-07\n",
      "MIPGap  0\n",
      "LazyConstraints  1\n",
      "\n",
      "Optimize a model with 4154 rows, 3660 columns and 14289 nonzeros\n",
      "Model fingerprint: 0x095890ed\n",
      "Variable types: 984 continuous, 2676 integer (2676 binary)\n",
      "Coefficient statistics:\n",
      "  Matrix range     [1e+00, 2e+05]\n",
      "  Objective range  [5e-03, 1e+00]\n",
      "  Bounds range     [1e+00, 1e+00]\n",
      "  RHS range        [1e+00, 7e+05]\n",
      "Presolve removed 1795 rows and 1503 columns\n",
      "Presolve time: 0.08s\n",
      "Presolved: 2359 rows, 2157 columns, 8415 nonzeros\n",
      "Variable types: 0 continuous, 2157 integer (2133 binary)\n",
      "\n",
      "Root relaxation: objective 3.148816e+01, 1529 iterations, 0.17 seconds (0.09 work units)\n",
      "\n",
      "    Nodes    |    Current Node    |     Objective Bounds      |     Work\n",
      " Expl Unexpl |  Obj  Depth IntInf | Incumbent    BestBd   Gap | It/Node Time\n",
      "\n",
      "     0     0   31.48816    0  389          -   31.48816      -     -    0s\n",
      "     0     0   31.76045    0  392          -   31.76045      -     -    1s\n",
      "     0     0   31.76669    0  393          -   31.76669      -     -    1s\n",
      "     0     0   31.92356    0  408          -   31.92356      -     -    1s\n",
      "     0     0   31.92440    0  411          -   31.92440      -     -    2s\n",
      "     0     0   31.92440    0  414          -   31.92440      -     -    2s\n",
      "     0     0   31.92635    0  411          -   31.92635      -     -    2s\n",
      "     0     2   31.94901    0  404          -   31.94901      -     -    3s\n",
      "   207   232   37.39575   12  495          -   32.78464      -   251    5s\n",
      "   865   888   52.85666   45  198          -   32.78464      -   183   10s\n",
      "  1790  1673   51.77522   58  411          -   35.01398      -   176   15s\n",
      "  1916  1794   42.78301   21  466          -   35.01398      -   184   20s\n",
      "  2206  1985   47.59785   28  540          -   35.01398      -   191   25s\n",
      "  2679  2342   57.10854   38  254          -   35.01398      -   195   30s\n",
      "* 3006  2448              40      47.9444005   35.01398  27.0%   188   32s\n",
      "H 3103  2177                      47.3720438   35.01398  26.1%   185   33s\n",
      "H 3140  2089                      46.5906196   35.01398  24.8%   184   33s\n",
      "  3304  2093   42.98285   22  378   46.59062   37.85006  18.8%   185   35s\n",
      "H 3484  1959                      45.7273291   38.26656  16.3%   190   37s\n",
      "  3670  1830   45.25052   23  405   45.72733   39.39763  13.8%   191   41s\n",
      "H 3744  1731                      45.5140495   39.39763  13.4%   192   42s\n",
      "  3951  1676   41.79122   21  381   45.51405   40.26818  11.5%   194   45s\n",
      "H 4273  1486                      45.3061376   40.48696  10.6%   197   48s\n",
      "  4501  1409     cutoff   26        45.30614   40.65267  10.3%   199   50s\n",
      "  5281  1124   44.97771   25  321   45.30614   41.59986  8.18%   204   56s\n",
      "H 5776  1051                      44.9534922   41.86472  6.87%   205   59s\n",
      "  5800  1030   44.73726   35  188   44.95349   41.90148  6.79%   205   61s\n",
      "  6746  1019     cutoff   26        44.95349   42.47580  5.51%   206   65s\n",
      "  7571   981   43.56371   32  214   44.95349   42.84896  4.68%   205   70s\n",
      "  8706   816 infeasible   24        44.95349   43.40503  3.44%   201   75s\n",
      "  9757   227 infeasible   37        44.95349   43.84741  2.46%   197   80s\n",
      "\n",
      "Cutting planes:\n",
      "  Lazy constraints: 127\n",
      "\n",
      "Explored 10745 nodes (2044322 simplex iterations) in 82.74 seconds (31.13 work units)\n",
      "Thread count was 20 (of 20 available processors)\n",
      "\n",
      "Solution count 7: 44.9535 45.3061 45.514 ... 47.9444\n",
      "\n",
      "Optimal solution found (tolerance 0.00e+00)\n",
      "Best objective 4.495349218815e+01, best bound 4.495349218815e+01, gap 0.0000%\n",
      "\n",
      "User-callback calls 22943, time in user-callback 5.63 sec\n",
      "\n",
      "****************************************\n",
      "Optimal solution found! Gurobi status: 2\n",
      "****************************************\n",
      "plan = [[2, 4, 8, 11, 14, 28, 31, 35, 36, 38, 45, 51, 58, 66, 69, 73, 75], [7, 10, 12, 21, 22, 42, 54, 63, 64, 70, 74, 76, 77], [0, 5, 13, 15, 16, 17, 18, 19, 20, 29, 30, 32, 34, 40, 41, 43, 44, 46, 49, 50, 53, 57, 60, 61, 65, 67, 72, 79, 80, 81], [1, 3, 6, 9, 23, 24, 25, 26, 27, 33, 37, 39, 47, 48, 52, 55, 56, 59, 62, 68, 71, 78]]\n",
      "\n",
      "****************************************\n",
      "Trying deviation = 6356.125\n",
      "****************************************\n",
      "No valid warm start used.\n",
      "\n",
      "****************************************\n",
      "Running labeling model!\n",
      "****************************************\n",
      "L = 733964 and U = 746675\n",
      "sizes =  [1, 1, 1, 1]\n",
      "Solving the max B problem (as MIP) for use in the vertex ordering...\n",
      "Set parameter LogToConsole to value 0\n",
      "Set parameter LazyConstraints to value 1\n",
      "Set parameter MIPGap to value 0\n",
      "Set parameter FeasibilityTol to value 1e-07\n",
      "Set parameter TimeLimit to value 7200\n",
      "Set parameter IntFeasTol to value 1e-07\n",
      "Gurobi Optimizer version 12.0.0 build v12.0.0rc1 (win64 - Windows 10.0 (19045.2))\n",
      "\n",
      "CPU model: Intel(R) Xeon(R) CPU E5-2630 v4 @ 2.20GHz, instruction set [SSE2|AVX|AVX2]\n",
      "Thread count: 10 physical cores, 20 logical processors, using up to 20 threads\n",
      "\n",
      "Non-default parameters:\n",
      "TimeLimit  7200\n",
      "FeasibilityTol  1e-07\n",
      "IntFeasTol  1e-07\n",
      "MIPGap  0\n",
      "LazyConstraints  1\n",
      "\n",
      "Optimize a model with 4154 rows, 3660 columns and 14289 nonzeros\n",
      "Model fingerprint: 0x3c1ae9d7\n",
      "Variable types: 984 continuous, 2676 integer (2676 binary)\n",
      "Coefficient statistics:\n",
      "  Matrix range     [1e+00, 2e+05]\n",
      "  Objective range  [5e-03, 1e+00]\n",
      "  Bounds range     [1e+00, 1e+00]\n",
      "  RHS range        [1e+00, 7e+05]\n",
      "Presolve removed 1784 rows and 1492 columns\n",
      "Presolve time: 0.20s\n",
      "Presolved: 2370 rows, 2168 columns, 8448 nonzeros\n",
      "Variable types: 0 continuous, 2168 integer (2140 binary)\n",
      "\n",
      "Root relaxation: objective 3.114103e+01, 1180 iterations, 0.22 seconds (0.06 work units)\n",
      "\n",
      "    Nodes    |    Current Node    |     Objective Bounds      |     Work\n",
      " Expl Unexpl |  Obj  Depth IntInf | Incumbent    BestBd   Gap | It/Node Time\n",
      "\n",
      "     0     0   31.14103    0  378          -   31.14103      -     -    1s\n",
      "     0     0   31.27425    0  395          -   31.27425      -     -    2s\n",
      "     0     0   31.40088    0  408          -   31.40088      -     -    3s\n",
      "     0     0   31.42861    0  413          -   31.42861      -     -    3s\n",
      "     0     0   31.42923    0  413          -   31.42923      -     -    3s\n",
      "     0     0   31.43351    0  403          -   31.43351      -     -    4s\n",
      "     0     0   31.43852    0  398          -   31.43852      -     -    5s\n",
      "     0     0   31.43852    0  396          -   31.43852      -     -    5s\n",
      "     0     2   31.47825    0  395          -   31.47825      -     -    6s\n",
      "    58    80   35.00226    7  433          -   34.06762      -   278   10s\n",
      "   421   472   45.23526   22  333          -   34.06762      -   218   15s\n",
      "   976   986   50.62676   51  103          -   34.06762      -   147   20s\n",
      "  1585  1615   54.87377   31  125          -   34.06762      -   144   25s\n",
      "  1734  1650   35.32599   15  454          -   35.02202      -   141   30s\n",
      "  2010  1855   40.91796   23  465          -   36.30472      -   156   35s\n",
      "  2304  2050   42.96216   28  413          -   36.30472      -   167   40s\n",
      "  2804  2441   48.90383   37  212          -   36.30472      -   172   45s\n",
      "H 3292  2429                      51.9115181   36.30472  30.1%   169   48s\n",
      "  3598  2308   40.61476   24  488   51.91152   36.32056  30.0%   166   50s\n",
      "H 3924  1989                      48.9695726   36.95980  24.5%   171   54s\n"
     ]
    },
    {
     "name": "stdout",
     "output_type": "stream",
     "text": [
      "  3968  2010     cutoff   42        48.96957   36.95980  24.5%   172   55s\n",
      "  4119  1980   42.70691   21  342   48.96957   36.95980  24.5%   173   60s\n",
      "H 4194  1673                      46.9588713   36.95980  21.3%   174   62s\n",
      "  4494  1684   45.63254   22  395   46.95887   36.95980  21.3%   176   65s\n",
      "H 4864  1393                      45.4925737   38.50989  15.3%   179   68s\n",
      "  5020  1323   43.67149   25  514   45.49257   38.71893  14.9%   180   70s\n",
      "  5711  1202   45.36565   27  356   45.49257   39.49170  13.2%   187   76s\n",
      "  6366  1292   44.24808   22  453   45.49257   40.12081  11.8%   193   81s\n",
      "  7195  1419   42.60321   21  509   45.49257   40.29427  11.4%   197   85s\n"
     ]
    }
   ],
   "source": [
    "from epsilon_constraint import epsilon_constraint_method\n",
    "\n",
    "(plans, obj_bounds, deviations) = epsilon_constraint_method(\n",
    "            G,                 \n",
    "            obj_type,          \n",
    "            contiguity = 'lcut',                                             # {'lcut', 'scf', 'shir'} \n",
    "            cutoff=None,       \n",
    "            verbose= True,\n",
    "            warm_start_mode = 'user',                                        # {'None', 'user', 'refinement'}\n",
    "            warm_starts=warm_starts,                                         # if you have user define warm starts else it is None\n",
    "            starting_deviation=starting_deviation, \n",
    "            time_limit=7200, \n",
    "            sizes=None,      \n",
    "            max_B=True,                                                      # If symmetry_breaking is 'orbitope' or you have warm_start, max_B should be True   \n",
    "            symmetry_breaking='orbitope',                                    # {None, 'orbitope', 'rsum'} \n",
    "            state=state,\n",
    "            year=year\n",
    "        )"
   ]
  },
  {
   "cell_type": "code",
   "execution_count": null,
   "id": "6a4c605e",
   "metadata": {},
   "outputs": [],
   "source": [
    "result = list(zip(plans, obj_bounds , deviations))"
   ]
  },
  {
   "cell_type": "code",
   "execution_count": null,
   "id": "304d16c7",
   "metadata": {},
   "outputs": [],
   "source": [
    "epsilon = 1 / (2 * G._k)\n",
    "min_deviation = min(round(r[2], 1) for r in result)\n",
    "\n",
    "if min_deviation < epsilon:\n",
    "    no_solution_region = None\n",
    "else:\n",
    "    no_solution_region = [0, min_deviation]\n",
    "\n",
    "if no_solution_region is not None:\n",
    "    print(f\"No feasible solution was found within the region: {no_solution_region}\")"
   ]
  },
  {
   "cell_type": "code",
   "execution_count": null,
   "id": "2a4ab6e1",
   "metadata": {},
   "outputs": [],
   "source": [
    "from pareto import plot_pareto_frontiers\n",
    "\n",
    "plot_pareto_frontiers(\n",
    "                G,\n",
    "                method='epsilon_constraint_method',\n",
    "                plans=None,                                   #if method ='epsilon_constraint_method' is None \n",
    "                obj_types=obj_type,                               \n",
    "                ideal_population=G._ideal_population,\n",
    "                state=state,\n",
    "                filepath=filepath,\n",
    "                filename2=filename2,\n",
    "                no_solution_region=no_solution_region,\n",
    "                year=year,\n",
    "                result=result                               #if method ='heuristic' is None \n",
    "             )"
   ]
  },
  {
   "cell_type": "code",
   "execution_count": null,
   "id": "87f2e465",
   "metadata": {},
   "outputs": [],
   "source": [
    "from draw import draw_plan\n",
    "from metrics import observed_deviation_persons, compute_obj\n",
    "\n",
    "print(f\"\\n{'#' * 100}\\nPareto maps for state {state}, objective {obj_type}\\n{'#' * 100}\\n\")\n",
    "\n",
    "format_obj = {\n",
    "    'bottleneck_Polsby_Popper': lambda x: round(1 /x, 4),\n",
    "    'cut_edges': lambda x: int(x)}\n",
    "G._L = 0\n",
    "G._U = G._k * G._ideal_population\n",
    "\n",
    "for plan, obj_bound, dev in result:\n",
    "    obs_dev = observed_deviation_persons(G, plan, G._ideal_population)\n",
    "    obj = compute_obj(G, plan, obj_type)\n",
    "    obj_val = format_obj.get(obj_type, lambda x: round(x, 4))(obj)\n",
    "    deviation_percentage = round(100 * dev / G._ideal_population, 4)\n",
    "    title = f\"{round(obs_dev, 2)}-person deviation ({deviation_percentage}%), with {obj_val} {obj_type}\"\n",
    "    draw_plan(filepath, filename2, G, plan, title=title, year=year)"
   ]
  }
 ],
 "metadata": {
  "kernelspec": {
   "display_name": "Python 3 (ipykernel)",
   "language": "python",
   "name": "python3"
  },
  "language_info": {
   "codemirror_mode": {
    "name": "ipython",
    "version": 3
   },
   "file_extension": ".py",
   "mimetype": "text/x-python",
   "name": "python",
   "nbconvert_exporter": "python",
   "pygments_lexer": "ipython3",
   "version": "3.11.5"
  }
 },
 "nbformat": 4,
 "nbformat_minor": 5
}
