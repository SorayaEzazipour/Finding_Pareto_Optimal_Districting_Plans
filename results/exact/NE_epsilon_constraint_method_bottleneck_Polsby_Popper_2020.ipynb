{
 "cells": [
  {
   "cell_type": "code",
   "execution_count": 1,
   "id": "43d991cb",
   "metadata": {},
   "outputs": [],
   "source": [
    "state = 'NE' \n",
    "year = 2020\n",
    "obj_type = 'bottleneck_Polsby_Popper'\n",
    "starting_deviation = 0.01 "
   ]
  },
  {
   "cell_type": "code",
   "execution_count": 2,
   "id": "fad9e959",
   "metadata": {},
   "outputs": [],
   "source": [
    "import sys, os\n",
    "src_path = os.path.abspath(os.path.join('..', '..', 'src'))\n",
    "sys.path.append(src_path)"
   ]
  },
  {
   "cell_type": "code",
   "execution_count": 3,
   "id": "e3d9c86d",
   "metadata": {},
   "outputs": [],
   "source": [
    "filepath = '../../dat/' + str(year) + '/'\n",
    "filename = state + '_county.json'\n",
    "filename2 = state + '_county.shp'"
   ]
  },
  {
   "cell_type": "code",
   "execution_count": 4,
   "id": "14860fda",
   "metadata": {},
   "outputs": [
    {
     "name": "stdout",
     "output_type": "stream",
     "text": [
      "The state of NE has 3 districts.\n"
     ]
    }
   ],
   "source": [
    "from read import read_graph_from_json\n",
    "\n",
    "G = read_graph_from_json(state, filepath + filename, year=year)\n",
    "print(f\"The state of {state} has {G._k} districts.\")\n",
    "G._ideal_population = sum(G.nodes[i]['TOTPOP'] for i in G.nodes) / G._k"
   ]
  },
  {
   "cell_type": "code",
   "execution_count": 5,
   "id": "44678338",
   "metadata": {},
   "outputs": [
    {
     "name": "stdout",
     "output_type": "stream",
     "text": [
      "Loaded 0 plans from file.\n"
     ]
    }
   ],
   "source": [
    "#import warm starts\n",
    "sys.path.append(os.path.abspath('../heuristic'))\n",
    "\n",
    "from NE_plans_2020 import plans\n",
    "print(f\"Loaded {len(plans)} plans from file.\")\n",
    "warm_starts = plans"
   ]
  },
  {
   "cell_type": "code",
   "execution_count": 6,
   "id": "e7da2d03",
   "metadata": {},
   "outputs": [
    {
     "name": "stdout",
     "output_type": "stream",
     "text": [
      "Selected 0 nondominated warm start plans\n"
     ]
    }
   ],
   "source": [
    "from pareto import filter_and_sort_pareto\n",
    "from metrics import scores\n",
    "\n",
    "plans_scores = [scores(G, plan, G._ideal_population, obj_type) for plan in warm_starts]\n",
    "_,_,nondominated_warm_starts_plans = filter_and_sort_pareto(plans=warm_starts, upper_bounds=plans_scores, obj_type=obj_type)\n",
    "print(f\"Selected {len(nondominated_warm_starts_plans)} nondominated warm start plans\")"
   ]
  },
  {
   "cell_type": "code",
   "execution_count": null,
   "id": "79f334ee",
   "metadata": {},
   "outputs": [
    {
     "name": "stdout",
     "output_type": "stream",
     "text": [
      "Initially, L = 647297 and U = 660373 and k = 3.\n",
      "\n",
      "****************************************\n",
      "Trying deviation = 6538.346666666666\n",
      "****************************************\n",
      "No valid warm start used.\n",
      "\n",
      "****************************************\n",
      "Running labeling model!\n",
      "****************************************\n",
      "L = 647297 and U = 660373\n",
      "Set parameter Username\n",
      "Set parameter LicenseID to value 2608266\n",
      "Academic license - for non-commercial use only - expires 2026-01-09\n",
      "sizes =  [1, 1, 1]\n",
      "Solving the max B problem (as MIP) for use in the vertex ordering...\n",
      "Set parameter LogToConsole to value 0\n",
      "Set parameter LazyConstraints to value 1\n",
      "Set parameter MIPGap to value 0\n",
      "Set parameter FeasibilityTol to value 1e-07\n",
      "Set parameter TimeLimit to value 7200\n",
      "Set parameter IntFeasTol to value 1e-07\n",
      "Gurobi Optimizer version 12.0.0 build v12.0.0rc1 (win64 - Windows 10.0 (19045.2))\n",
      "\n",
      "CPU model: Intel(R) Xeon(R) CPU E5-2630 v4 @ 2.20GHz, instruction set [SSE2|AVX|AVX2]\n",
      "Thread count: 10 physical cores, 20 logical processors, using up to 20 threads\n",
      "\n",
      "Non-default parameters:\n",
      "TimeLimit  7200\n",
      "FeasibilityTol  1e-07\n",
      "IntFeasTol  1e-07\n",
      "MIPGap  0\n",
      "LazyConstraints  1\n",
      "\n",
      "Optimize a model with 3813 rows, 3253 columns and 14194 nonzeros\n",
      "Model fingerprint: 0x65cf6a41\n",
      "Model has 3 quadratic constraints\n",
      "Variable types: 847 continuous, 2406 integer (2406 binary)\n",
      "Coefficient statistics:\n",
      "  Matrix range     [8e-04, 6e+05]\n",
      "  QMatrix range    [1e+00, 1e+01]\n",
      "  Objective range  [1e+00, 1e+00]\n",
      "  Bounds range     [1e+00, 1e+00]\n",
      "  RHS range        [1e+00, 7e+05]\n",
      "Presolve removed 1961 rows and 1399 columns\n",
      "Presolve time: 0.03s\n",
      "Presolved: 1852 rows, 1854 columns, 8176 nonzeros\n",
      "Presolved model has 3 quadratic constraint(s)\n",
      "Variable types: 10 continuous, 1844 integer (1844 binary)\n",
      "\n",
      "Root relaxation: objective 9.325458e-03, 591 iterations, 0.00 seconds (0.00 work units)\n",
      "\n",
      "    Nodes    |    Current Node    |     Objective Bounds      |     Work\n",
      " Expl Unexpl |  Obj  Depth IntInf | Incumbent    BestBd   Gap | It/Node Time\n",
      "\n",
      "     0     0    0.00933    0    -          -    0.00933      -     -    0s\n",
      "     0     0    0.10075    0  200          -    0.10075      -     -    0s\n",
      "     0     0    0.73447    0  308          -    0.73447      -     -    0s\n",
      "     0     0    1.17934    0  402          -    1.17934      -     -    1s\n",
      "     0     0    1.31126    0  418          -    1.31126      -     -    1s\n",
      "     0     0    1.31154    0  422          -    1.31154      -     -    1s\n",
      "     0     0    1.31289    0  420          -    1.31289      -     -    1s\n",
      "     0     0    1.31332    0  420          -    1.31332      -     -    2s\n",
      "     0     0    1.31332    0  419          -    1.31332      -     -    2s\n",
      "     0     2    1.31565    0  419          -    1.31565      -     -    3s\n",
      "    58    72    1.64075    7  397          -    1.43841      -   318    5s\n",
      "   398   430    2.27944   32  189          -    1.43841      -   259   10s\n",
      "H  504   501                       4.4087842    1.49006  66.2%   246   11s\n",
      "H  516   525                       3.6010188    1.49006  58.6%   249   11s\n",
      "H  605   563                       3.4450271    1.49006  56.7%   253   13s\n",
      "H  626   573                       3.2068364    1.49177  53.5%   254   13s\n",
      "H  630   573                       2.6124862    1.49177  42.9%   254   13s\n",
      "   688   559    2.18793   14  345    2.61249    1.49177  42.9%   256   15s\n",
      "H  704   559                       2.5334663    1.49177  41.1%   258   15s\n"
     ]
    }
   ],
   "source": [
    "from epsilon_constraint import epsilon_constraint_method\n",
    "\n",
    "(plans, obj_bounds, deviations) = epsilon_constraint_method(\n",
    "            G,                 \n",
    "            obj_type,          \n",
    "            contiguity = 'lcut',                                             # {'lcut', 'scf', 'shir'} \n",
    "            cutoff=None,       \n",
    "            verbose= True,\n",
    "            warm_start_mode = 'user',                                        # {'None', 'user', 'refinement'}\n",
    "            warm_starts=warm_starts,                                         # if you have user define warm starts else it is None\n",
    "            starting_deviation=starting_deviation, \n",
    "            time_limit=7200, \n",
    "            sizes=None,      \n",
    "            max_B=True,                                                      # If symmetry_breaking is 'orbitope' or you have warm_start, max_B should be True   \n",
    "            symmetry_breaking='orbitope',                                    # {None, 'orbitope', 'rsum'} \n",
    "            state=state,\n",
    "            year=year\n",
    "        )"
   ]
  },
  {
   "cell_type": "code",
   "execution_count": null,
   "id": "1210f46e",
   "metadata": {},
   "outputs": [],
   "source": [
    "result = list(zip(plans, obj_bounds , deviations))"
   ]
  },
  {
   "cell_type": "code",
   "execution_count": null,
   "id": "4974afcc",
   "metadata": {},
   "outputs": [],
   "source": [
    "if any(round(x[1][0], 2) != round(x[1][1], 2) for x in result):\n",
    "    min_deviation = max(x[2] for x in result if round(x[1][0], 2) != round(x[1][1], 2))\n",
    "else:\n",
    "    min_deviation = min(x[2] for x in result)\n",
    "    \n",
    "print('min_deviation:' , min_deviation)"
   ]
  },
  {
   "cell_type": "code",
   "execution_count": null,
   "id": "099b9729",
   "metadata": {},
   "outputs": [],
   "source": [
    "from enumeration import enumerate_and_solve_k2_subproblems\n",
    "from metrics import observed_deviation_persons, compute_obj\n",
    "import math\n",
    "\n",
    "epsilon = 1 / (2 * G._k)\n",
    "\n",
    "while True:\n",
    "    print(f\"\\n{'*' * 40}\\nTrying deviation = {min_deviation}\\n{'*' * 40}\")\n",
    "    L = math.ceil(G._ideal_population - min_deviation)\n",
    "    U = math.floor(G._ideal_population + min_deviation)\n",
    "    G._L = L\n",
    "    G._U = U\n",
    "    print(f'L = {L} and U = {U}')\n",
    "\n",
    "    new_plans = enumerate_and_solve_k2_subproblems(G, min_deviation, L, U, G._k, obj_type = obj_type, root='Douglas')\n",
    "    \n",
    "    if not new_plans:\n",
    "        print(\"No plans found. Reducing deviation or stopping.\")\n",
    "        break  \n",
    "\n",
    "    enumeration_plans = {}\n",
    "    for i, plan in enumerate(new_plans):\n",
    "        obj_value = compute_obj(G, plan, obj_type)\n",
    "        dev = observed_deviation_persons(G, plan, G._ideal_population, year=year)\n",
    "        enumeration_plans[i] = [obj_value, dev]\n",
    "\n",
    "    if obj_type in {\"inverse_Polsby_Popper\", \"cut_edges\", \"perimeter\"}:\n",
    "        best_obj_value = min(val[0] for val in enumeration_plans.values())\n",
    "    else:\n",
    "        best_obj_value = max(val[0] for val in enumeration_plans.values())\n",
    "    print(f\"best_obj_value {obj_type}: {best_obj_value}\")\n",
    "\n",
    "    best_plan_index = None\n",
    "    best_dev = float('inf')\n",
    "\n",
    "    for i, (val, dev) in enumeration_plans.items():\n",
    "        if val == best_obj_value and dev < best_dev:\n",
    "            best_plan_index = i\n",
    "            best_dev = dev\n",
    "\n",
    "    if best_plan_index is not None:\n",
    "        best_entry = (new_plans[best_plan_index], [best_obj_value, best_obj_value], best_dev)\n",
    "\n",
    "        # Check if an entry with the same deviation already exists\n",
    "        existing_index = next((i for i, entry in enumerate(result) if math.isclose(entry[2], best_dev)), None)\n",
    "\n",
    "        if existing_index is not None:\n",
    "            result[existing_index] = best_entry\n",
    "            print(f\"Replaced plan at index {existing_index} with new plan {best_plan_index} (dev={best_dev}, {best_obj_value} {obj_type})\")\n",
    "        else:\n",
    "            result.append(best_entry)\n",
    "            print(f\"Added plan {best_plan_index} with {best_obj_value} {obj_type} and deviation {best_dev} to result\")\n",
    "\n",
    "    if best_dev < epsilon:\n",
    "        print(\"Deviation is too small, stopping early.\")\n",
    "        break\n",
    "\n",
    "    min_deviation = best_dev - epsilon"
   ]
  },
  {
   "cell_type": "code",
   "execution_count": null,
   "id": "7318d336",
   "metadata": {},
   "outputs": [],
   "source": [
    "epsilon = 1 / (2 * G._k)\n",
    "min_deviation = min(round(r[2], 1) for r in result)\n",
    "\n",
    "if min_deviation < epsilon:\n",
    "    no_solution_region = None\n",
    "else:\n",
    "    no_solution_region = [0, min_deviation]\n",
    "\n",
    "if no_solution_region is not None:\n",
    "    print(f\"No feasible solution was found within the region: {no_solution_region}\")"
   ]
  },
  {
   "cell_type": "code",
   "execution_count": null,
   "id": "2a4ab6e1",
   "metadata": {},
   "outputs": [],
   "source": [
    "from pareto import plot_pareto_frontiers\n",
    "\n",
    "plot_pareto_frontiers(\n",
    "                G,\n",
    "                method='epsilon_constraint_method',\n",
    "                plans=None,                                   #if method ='epsilon_constraint_method' is None \n",
    "                obj_types=obj_type,                               \n",
    "                ideal_population=G._ideal_population,\n",
    "                state=state,\n",
    "                filepath=filepath,\n",
    "                filename2=filename2,\n",
    "                no_solution_region=no_solution_region,\n",
    "                year=year,\n",
    "                result=result                               #if method ='heuristic' is None \n",
    "             )"
   ]
  },
  {
   "cell_type": "code",
   "execution_count": null,
   "id": "87f2e465",
   "metadata": {},
   "outputs": [],
   "source": [
    "from draw import draw_plan\n",
    "\n",
    "print(f\"\\n{'#' * 100}\\nPareto maps for state {state}, objective {obj_type}\\n{'#' * 100}\\n\")\n",
    "\n",
    "format_obj = {\n",
    "    'bottleneck_Polsby_Popper': lambda x: round(1 /x, 4),\n",
    "    'cut_edges': lambda x: int(x)}\n",
    "G._L = 0\n",
    "G._U = G._k * G._ideal_population\n",
    "\n",
    "for plan, obj_bound, dev in result:\n",
    "    obs_dev = observed_deviation_persons(G, plan, G._ideal_population)\n",
    "    obj = compute_obj(G, plan, obj_type)\n",
    "    obj_val = format_obj.get(obj_type, lambda x: round(x, 4))(obj)\n",
    "    deviation_percentage = round(100 * dev / G._ideal_population, 4)\n",
    "    title = f\"{round(obs_dev, 2)}-person deviation ({deviation_percentage}%), with {obj_val} {obj_type}\"\n",
    "    draw_plan(filepath, filename2, G, plan, title=title, year=year)"
   ]
  }
 ],
 "metadata": {
  "kernelspec": {
   "display_name": "Python 3 (ipykernel)",
   "language": "python",
   "name": "python3"
  },
  "language_info": {
   "codemirror_mode": {
    "name": "ipython",
    "version": 3
   },
   "file_extension": ".py",
   "mimetype": "text/x-python",
   "name": "python",
   "nbconvert_exporter": "python",
   "pygments_lexer": "ipython3",
   "version": "3.11.5"
  }
 },
 "nbformat": 4,
 "nbformat_minor": 5
}
