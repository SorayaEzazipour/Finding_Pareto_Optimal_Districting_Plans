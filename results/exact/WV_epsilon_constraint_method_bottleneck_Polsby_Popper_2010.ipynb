{
 "cells": [
  {
   "cell_type": "code",
   "execution_count": 1,
   "id": "43d991cb",
   "metadata": {},
   "outputs": [],
   "source": [
    "state = 'WV' \n",
    "year = 2010\n",
    "obj_type = 'bottleneck_Polsby_Popper'\n",
    "starting_deviation = 0.01 "
   ]
  },
  {
   "cell_type": "code",
   "execution_count": 2,
   "id": "ef668276",
   "metadata": {},
   "outputs": [],
   "source": [
    "import sys, os\n",
    "src_path = os.path.abspath(os.path.join('..', '..', 'src'))\n",
    "sys.path.append(src_path)"
   ]
  },
  {
   "cell_type": "code",
   "execution_count": 3,
   "id": "fcd321c0",
   "metadata": {},
   "outputs": [],
   "source": [
    "filepath = '../../dat/' + str(year) + '/'\n",
    "filename = state + '_county.json'\n",
    "filename2 = state + '_county.shp'"
   ]
  },
  {
   "cell_type": "code",
   "execution_count": 4,
   "id": "14860fda",
   "metadata": {},
   "outputs": [
    {
     "name": "stdout",
     "output_type": "stream",
     "text": [
      "The state of WV has 3 districts.\n"
     ]
    }
   ],
   "source": [
    "from read import read_graph_from_json\n",
    "\n",
    "G = read_graph_from_json(state, filepath + filename, year=year)\n",
    "print(f\"The state of {state} has {G._k} districts.\")\n",
    "G._ideal_population = sum(G.nodes[i]['TOTPOP'] for i in G.nodes) / G._k"
   ]
  },
  {
   "cell_type": "code",
   "execution_count": 5,
   "id": "44678338",
   "metadata": {},
   "outputs": [
    {
     "name": "stdout",
     "output_type": "stream",
     "text": [
      "Loaded 0 plans from file.\n"
     ]
    }
   ],
   "source": [
    "#import warm starts\n",
    "sys.path.append(os.path.abspath('../heuristic'))\n",
    "\n",
    "from WV_plans_2010 import plans\n",
    "print(f\"Loaded {len(plans)} plans from file.\")\n",
    "warm_starts = plans"
   ]
  },
  {
   "cell_type": "code",
   "execution_count": 6,
   "id": "0f2a367b",
   "metadata": {},
   "outputs": [
    {
     "name": "stdout",
     "output_type": "stream",
     "text": [
      "Selected 0 nondominated warm start plans\n"
     ]
    }
   ],
   "source": [
    "from pareto import filter_and_sort_pareto\n",
    "from metrics import scores\n",
    "\n",
    "plans_scores = [scores(G, plan, G._ideal_population, obj_type) for plan in warm_starts]\n",
    "_,_,nondominated_warm_starts_plans = filter_and_sort_pareto(plans=warm_starts, upper_bounds=plans_scores, obj_type=obj_type)\n",
    "print(f\"Selected {len(nondominated_warm_starts_plans)} nondominated warm start plans\")"
   ]
  },
  {
   "cell_type": "code",
   "execution_count": null,
   "id": "79f334ee",
   "metadata": {},
   "outputs": [
    {
     "name": "stdout",
     "output_type": "stream",
     "text": [
      "Initially, L = 611489 and U = 623841 and k = 3.\n",
      "\n",
      "****************************************\n",
      "Trying deviation = 6176.6466666666665\n",
      "****************************************\n",
      "No valid warm start used.\n",
      "\n",
      "****************************************\n",
      "Running labeling model!\n",
      "****************************************\n",
      "L = 611489 and U = 623841\n",
      "Set parameter Username\n",
      "Set parameter LicenseID to value 2608266\n",
      "Academic license - for non-commercial use only - expires 2026-01-09\n",
      "sizes =  [1, 1, 1]\n",
      "Solving the max B problem (as MIP) for use in the vertex ordering...\n",
      "Set parameter LogToConsole to value 0\n",
      "Set parameter LazyConstraints to value 1\n",
      "Set parameter MIPGap to value 0\n",
      "Set parameter FeasibilityTol to value 1e-07\n",
      "Set parameter TimeLimit to value 7200\n",
      "Set parameter IntFeasTol to value 1e-07\n",
      "Gurobi Optimizer version 12.0.0 build v12.0.0rc1 (win64 - Windows 10.0 (19045.2))\n",
      "\n",
      "CPU model: Intel(R) Xeon(R) CPU E5-2630 v4 @ 2.20GHz, instruction set [SSE2|AVX|AVX2]\n",
      "Thread count: 10 physical cores, 20 logical processors, using up to 20 threads\n",
      "\n",
      "Non-default parameters:\n",
      "TimeLimit  7200\n",
      "FeasibilityTol  1e-07\n",
      "IntFeasTol  1e-07\n",
      "MIPGap  0\n",
      "LazyConstraints  1\n",
      "\n",
      "Optimize a model with 2177 rows, 1835 columns and 8015 nonzeros\n",
      "Model fingerprint: 0x0b5bf03f\n",
      "Model has 3 quadratic constraints\n",
      "Variable types: 505 continuous, 1330 integer (1330 binary)\n",
      "Coefficient statistics:\n",
      "  Matrix range     [3e-04, 2e+05]\n",
      "  QMatrix range    [1e+00, 1e+01]\n",
      "  Objective range  [1e+00, 1e+00]\n",
      "  Bounds range     [1e+00, 1e+00]\n",
      "  RHS range        [1e+00, 6e+05]\n",
      "Presolve removed 1133 rows and 833 columns\n",
      "Presolve time: 0.03s\n",
      "Presolved: 1044 rows, 1002 columns, 4484 nonzeros\n",
      "Presolved model has 3 quadratic constraint(s)\n",
      "Variable types: 10 continuous, 992 integer (989 binary)\n",
      "\n",
      "Root relaxation: objective 9.724789e-04, 314 iterations, 0.00 seconds (0.00 work units)\n",
      "\n",
      "    Nodes    |    Current Node    |     Objective Bounds      |     Work\n",
      " Expl Unexpl |  Obj  Depth IntInf | Incumbent    BestBd   Gap | It/Node Time\n",
      "\n",
      "     0     0    0.00097    0    -          -    0.00097      -     -    0s\n",
      "     0     0    2.72945    0  197          -    2.72945      -     -    0s\n",
      "     0     0    2.88774    0  204          -    2.88774      -     -    0s\n",
      "     0     0    2.89053    0  204          -    2.89053      -     -    0s\n",
      "     0     0    2.91528    0  203          -    2.91528      -     -    1s\n",
      "     0     0    2.92958    0  210          -    2.92958      -     -    1s\n",
      "     0     0    2.93066    0  210          -    2.93066      -     -    1s\n",
      "     0     0    2.93296    0  210          -    2.93296      -     -    1s\n",
      "     0     2    2.95067    0  210          -    2.95067      -     -    2s\n",
      "H  161   170                       9.6746821    3.52248  63.6%   168    4s\n",
      "H  177   185                       9.0090221    3.52248  60.9%   159    4s\n",
      "   279   289    5.65189    8  206    9.00902    3.52248  60.9%   145    5s\n",
      "H  576   511                       8.5521256    3.92899  54.1%   132    7s\n",
      "   709   564    5.90092   10  210    8.55213    4.03753  52.8%   123   15s\n",
      "  1235   842    6.71613   25  166    8.55213    4.35551  49.1%   139   20s\n",
      "  3052  1665     cutoff   39         8.55213    4.93212  42.3%   109   25s\n",
      "H 3534  1206                       5.8098506    4.93212  15.1%   103   26s\n",
      "H 3725  1041                       5.6915774    4.93217  13.3%   100   26s\n",
      "H 3729  1041                       5.4385621    4.93217  9.31%   100   26s\n",
      "H 4290   234                       5.4385621    5.10533  6.13%  91.8   27s\n",
      "* 5060     0              36       5.4223136    5.42231  0.00%  79.7   27s\n",
      "\n",
      "Cutting planes:\n",
      "  Zero half: 6\n",
      "  Lazy constraints: 32\n",
      "\n",
      "Explored 5074 nodes (405151 simplex iterations) in 28.40 seconds (5.65 work units)\n",
      "Thread count was 20 (of 20 available processors)\n",
      "\n",
      "Solution count 7: 5.42231 5.43856 5.69158 ... 9.67468\n",
      "\n",
      "Optimal solution found (tolerance 0.00e+00)\n",
      "Best objective 5.422313557661e+00, best bound 5.422313557661e+00, gap 0.0000%\n",
      "\n",
      "User-callback calls 11043, time in user-callback 1.83 sec\n",
      "\n",
      "****************************************\n",
      "Optimal solution found! Gurobi status: 2\n",
      "****************************************\n",
      "plan = [[2, 4, 6, 11, 16, 17, 20, 28, 29, 30, 31, 32, 33, 41, 44, 48, 49, 50, 51], [0, 3, 5, 9, 10, 13, 21, 22, 23, 24, 26, 27, 35, 37, 39, 45, 47, 52], [1, 7, 8, 12, 14, 15, 18, 19, 25, 34, 36, 38, 40, 42, 43, 46, 53, 54]]\n",
      "\n",
      "****************************************\n",
      "Trying deviation = 1605.1666666667054\n",
      "****************************************\n",
      "No valid warm start used.\n",
      "\n",
      "****************************************\n",
      "Running labeling model!\n",
      "****************************************\n",
      "L = 616060 and U = 619269\n",
      "sizes =  [1, 1, 1]\n",
      "Solving the max B problem (as MIP) for use in the vertex ordering...\n",
      "Set parameter LogToConsole to value 0\n",
      "Set parameter LazyConstraints to value 1\n",
      "Set parameter MIPGap to value 0\n",
      "Set parameter FeasibilityTol to value 1e-07\n",
      "Set parameter TimeLimit to value 7200\n",
      "Set parameter IntFeasTol to value 1e-07\n",
      "Gurobi Optimizer version 12.0.0 build v12.0.0rc1 (win64 - Windows 10.0 (19045.2))\n",
      "\n",
      "CPU model: Intel(R) Xeon(R) CPU E5-2630 v4 @ 2.20GHz, instruction set [SSE2|AVX|AVX2]\n",
      "Thread count: 10 physical cores, 20 logical processors, using up to 20 threads\n",
      "\n",
      "Non-default parameters:\n",
      "TimeLimit  7200\n",
      "FeasibilityTol  1e-07\n",
      "IntFeasTol  1e-07\n",
      "MIPGap  0\n",
      "LazyConstraints  1\n",
      "\n",
      "Optimize a model with 2177 rows, 1835 columns and 8015 nonzeros\n",
      "Model fingerprint: 0x237d71ef\n",
      "Model has 3 quadratic constraints\n",
      "Variable types: 505 continuous, 1330 integer (1330 binary)\n",
      "Coefficient statistics:\n",
      "  Matrix range     [3e-04, 2e+05]\n",
      "  QMatrix range    [1e+00, 1e+01]\n",
      "  Objective range  [1e+00, 1e+00]\n",
      "  Bounds range     [1e+00, 1e+00]\n",
      "  RHS range        [1e+00, 6e+05]\n",
      "Presolve removed 1133 rows and 833 columns\n",
      "Presolve time: 0.08s\n",
      "Presolved: 1044 rows, 1002 columns, 4484 nonzeros\n",
      "Presolved model has 3 quadratic constraint(s)\n",
      "Variable types: 10 continuous, 992 integer (989 binary)\n",
      "\n",
      "Root relaxation: objective 9.777999e-04, 299 iterations, 0.00 seconds (0.00 work units)\n",
      "\n",
      "    Nodes    |    Current Node    |     Objective Bounds      |     Work\n",
      " Expl Unexpl |  Obj  Depth IntInf | Incumbent    BestBd   Gap | It/Node Time\n",
      "\n",
      "     0     0    0.00098    0    -          -    0.00098      -     -    0s\n",
      "     0     0    2.73414    0  196          -    2.73414      -     -    0s\n",
      "     0     0    2.89644    0  197          -    2.89644      -     -    0s\n",
      "     0     0    2.89983    0  197          -    2.89983      -     -    0s\n",
      "     0     0    2.90267    0  197          -    2.90267      -     -    1s\n",
      "     0     2    2.90698    0  197          -    2.90698      -     -    1s\n",
      "   409   434    7.13342   22  156          -    3.42600      -   144    5s\n",
      "  1041   900    5.62734   21  265          -    3.60864      -   140   10s\n",
      "  2578  1714    8.39393   44  118          -    3.83751      -   109   15s\n"
     ]
    }
   ],
   "source": [
    "from epsilon_constraint import epsilon_constraint_method\n",
    "\n",
    "(plans, obj_bounds, deviations) = epsilon_constraint_method(\n",
    "            G,                 \n",
    "            obj_type,          \n",
    "            contiguity = 'lcut',                                             # {'lcut', 'scf', 'shir'} \n",
    "            cutoff=None,       \n",
    "            verbose= True,\n",
    "            warm_start_mode = 'user',                                        # {'None', 'user', 'refinement'}\n",
    "            warm_starts=warm_starts,                                         # if you have user define warm starts else it is None\n",
    "            starting_deviation=starting_deviation, \n",
    "            time_limit=7200, \n",
    "            sizes=None,      \n",
    "            max_B=True,                                                      # If symmetry_breaking is 'orbitope' or you have warm_start, max_B should be True   \n",
    "            symmetry_breaking='orbitope',                                    # {None, 'orbitope', 'rsum'} \n",
    "            state=state,\n",
    "            year=year\n",
    "        )"
   ]
  },
  {
   "cell_type": "code",
   "execution_count": null,
   "id": "6a4c605e",
   "metadata": {},
   "outputs": [],
   "source": [
    "result = list(zip(plans, obj_bounds , deviations))"
   ]
  },
  {
   "cell_type": "code",
   "execution_count": null,
   "id": "304d16c7",
   "metadata": {},
   "outputs": [],
   "source": [
    "epsilon = 1 / (2 * G._k)\n",
    "min_deviation = min(round(r[2], 1) for r in result)\n",
    "\n",
    "if min_deviation < epsilon:\n",
    "    no_solution_region = None\n",
    "else:\n",
    "    no_solution_region = [0, min_deviation]\n",
    "\n",
    "if no_solution_region is not None:\n",
    "    print(f\"No feasible solution was found within the region: {no_solution_region}\")"
   ]
  },
  {
   "cell_type": "code",
   "execution_count": null,
   "id": "2a4ab6e1",
   "metadata": {},
   "outputs": [],
   "source": [
    "from pareto import plot_pareto_frontiers\n",
    "\n",
    "plot_pareto_frontiers(\n",
    "                G,\n",
    "                method='epsilon_constraint_method',\n",
    "                plans=None,                                   #if method ='epsilon_constraint_method' is None \n",
    "                obj_types=obj_type,                               \n",
    "                ideal_population=G._ideal_population,\n",
    "                state=state,\n",
    "                filepath=filepath,\n",
    "                filename2=filename2,\n",
    "                no_solution_region=no_solution_region,\n",
    "                year=year,\n",
    "                result=result                               #if method ='heuristic' is None \n",
    "             )"
   ]
  },
  {
   "cell_type": "code",
   "execution_count": null,
   "id": "87f2e465",
   "metadata": {},
   "outputs": [],
   "source": [
    "from draw import draw_plan\n",
    "from metrics import observed_deviation_persons, compute_obj\n",
    "\n",
    "print(f\"\\n{'#' * 100}\\nPareto maps for state {state}, objective {obj_type}\\n{'#' * 100}\\n\")\n",
    "\n",
    "format_obj = {\n",
    "    'bottleneck_Polsby_Popper': lambda x: round(1 /x, 4),\n",
    "    'cut_edges': lambda x: int(x)}\n",
    "G._L = 0\n",
    "G._U = G._k * G._ideal_population\n",
    "\n",
    "for plan, obj_bound, dev in result:\n",
    "    obs_dev = observed_deviation_persons(G, plan, G._ideal_population)\n",
    "    obj = compute_obj(G, plan, obj_type)\n",
    "    obj_val = format_obj.get(obj_type, lambda x: round(x, 4))(obj)\n",
    "    deviation_percentage = round(100 * dev / G._ideal_population, 4)\n",
    "    title = f\"{round(obs_dev, 2)}-person deviation ({deviation_percentage}%), with {obj_val} {obj_type}\"\n",
    "    draw_plan(filepath, filename2, G, plan, title=title, year=year)"
   ]
  }
 ],
 "metadata": {
  "kernelspec": {
   "display_name": "Python 3 (ipykernel)",
   "language": "python",
   "name": "python3"
  },
  "language_info": {
   "codemirror_mode": {
    "name": "ipython",
    "version": 3
   },
   "file_extension": ".py",
   "mimetype": "text/x-python",
   "name": "python",
   "nbconvert_exporter": "python",
   "pygments_lexer": "ipython3",
   "version": "3.11.5"
  }
 },
 "nbformat": 4,
 "nbformat_minor": 5
}
