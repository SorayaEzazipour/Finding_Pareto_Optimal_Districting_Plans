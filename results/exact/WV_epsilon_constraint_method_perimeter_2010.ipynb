{
 "cells": [
  {
   "cell_type": "code",
   "execution_count": 1,
   "id": "43d991cb",
   "metadata": {},
   "outputs": [],
   "source": [
    "state = 'WV' \n",
    "year = 2010"
   ]
  },
  {
   "cell_type": "code",
   "execution_count": 2,
   "id": "26cc4606",
   "metadata": {},
   "outputs": [],
   "source": [
    "import sys, os\n",
    "src_path = os.path.abspath(os.path.join('..', '..', 'src'))\n",
    "sys.path.append(src_path)"
   ]
  },
  {
   "cell_type": "code",
   "execution_count": 3,
   "id": "fcd321c0",
   "metadata": {},
   "outputs": [],
   "source": [
    "filepath = '../../dat/' + str(year) + '/'\n",
    "filename = state + '_county.json'\n",
    "filename2 = state + '_county.shp'"
   ]
  },
  {
   "cell_type": "code",
   "execution_count": 4,
   "id": "14860fda",
   "metadata": {},
   "outputs": [
    {
     "name": "stdout",
     "output_type": "stream",
     "text": [
      "The state of WV has 3 districts.\n"
     ]
    }
   ],
   "source": [
    "from read import read_graph_from_json\n",
    "from epsilon_constraint import*\n",
    "import networkx as nx\n",
    "\n",
    "G = read_graph_from_json(state, filepath + filename, year=year)\n",
    "print(f\"The state of {state} has {G._k} districts.\")\n",
    "G._ideal_population = sum(G.nodes[i]['TOTPOP'] for i in G.nodes) / G._k"
   ]
  },
  {
   "cell_type": "code",
   "execution_count": 5,
   "id": "44678338",
   "metadata": {},
   "outputs": [
    {
     "name": "stdout",
     "output_type": "stream",
     "text": [
      "Loaded 0 plans from file.\n"
     ]
    }
   ],
   "source": [
    "#import warm starts\n",
    "sys.path.append(os.path.abspath('../heuristic'))\n",
    "\n",
    "from WV_plans import plans\n",
    "print(f\"Loaded {len(plans)} plans from file.\")\n",
    "warm_starts = plans"
   ]
  },
  {
   "cell_type": "code",
   "execution_count": null,
   "id": "7b130363",
   "metadata": {},
   "outputs": [],
   "source": [
    "obj_type = 'perimeter'\n",
    "starting_deviation = 0.01 \n",
    "verbose = True\n",
    "contiguity = 'lcut'               # {'lcut', 'scf', 'shir'}\n",
    "warm_start_mode = 'user'          # {'None', 'user', 'refinement'}\n",
    "warm_starts = None                # if you have user define warm strats else it is None\n",
    "time_limit = 7200                 # Time limit in seconds, adjust as needed\n",
    "multiplier = 0                    # Adjust multiplier as needed\n",
    "max_B = True                      # If symmetry_breaking is 'orbitope' or you have warm_start, max_B should be True\n",
    "symmetry_breaking = 'orbitope'    # {None, 'orbitope', 'rsum'}              \n",
    "sizes = None"
   ]
  },
  {
   "cell_type": "code",
   "execution_count": null,
   "id": "79f334ee",
   "metadata": {},
   "outputs": [],
   "source": [
    "print(f\"Running epsilon constraint method for state {state}, objective {obj_type}\")\n",
    "print(f\"{'#' * 100}\\n\")\n",
    "(plans, obj_bounds, deviations) = epsilon_constraint_method(\n",
    "            G,                 \n",
    "            obj_type,          \n",
    "            contiguity,        \n",
    "            cutoff=None,       \n",
    "            verbose=verbose,\n",
    "            warm_start_mode = warm_start_mode,\n",
    "            warm_starts=warm_starts,  \n",
    "            starting_deviation=starting_deviation, \n",
    "            time_limit=time_limit, \n",
    "            sizes=sizes,      \n",
    "            max_B=max_B,      \n",
    "            symmetry_breaking=symmetry_breaking, \n",
    "        )"
   ]
  },
  {
   "cell_type": "code",
   "execution_count": null,
   "id": "6a4c605e",
   "metadata": {},
   "outputs": [],
   "source": [
    "result = list(zip(plans, obj_bounds , deviations))"
   ]
  },
  {
   "cell_type": "code",
   "execution_count": null,
   "id": "304d16c7",
   "metadata": {},
   "outputs": [],
   "source": [
    "# Determine the senses for the Pareto frontier\n",
    "# Minimize the first objective ('deviation').\n",
    "# Maximize the second objective for compactness types, otherwise minimize it.\n",
    "senses = ['min', 'max' if obj_type in ['average_Polsby_Popper','bottleneck_Polsby_Popper'] else 'min']\n",
    "obj_names = ['deviation_persons', obj_type]\n",
    "infeasible_region = [0, min(round(r[2],1) for r in result)]"
   ]
  },
  {
   "cell_type": "code",
   "execution_count": null,
   "id": "2a4ab6e1",
   "metadata": {},
   "outputs": [],
   "source": [
    "from pareto import ParetoFrontier\n",
    "\n",
    "print(f\"\\n{'#' * 100}\\nPareto Frontier for state {state},  objective {obj_type}\\n{'#' * 100}\\n\")\n",
    "pareto = ParetoFrontier(senses, obj_names, state=state, level='county')\n",
    "\n",
    "if not  plans:\n",
    "    print(\"No plan found!\")\n",
    "else:\n",
    "    for plan, obj_bound, dev in result:\n",
    "        upper_bound = [dev,  1/obj_bound[0] if  obj_type == 'bottleneck_Polsby_Popper' else obj_bound[0]]\n",
    "        lower_bound = [dev,  1/obj_bound[1] if  obj_type == 'bottleneck_Polsby_Popper' else obj_bound[1]]\n",
    "        \n",
    "        pareto.add_plan(plan, upper_bound, lower_bound)\n",
    "            \n",
    "print(\"Pareto front plans:\", pareto.plans)\n",
    "print(\"Pareto front upper bounds:\", pareto.upper_bounds)\n",
    "print(\"Pareto front lower bounds:\", pareto.lower_bounds)\n",
    "    \n",
    "#extra_points: list of tuples, each containing (deviation, objective_value, label)\n",
    "if  year == 2010:\n",
    "    \n",
    "    #2010 enacted map scores\n",
    "    enacted_map_deviation = 3197.333333333372\n",
    "    enacted_map_scores = {'inverse_Polsby_Popper': 7.75, 'cut_edges': 34.00, \n",
    "                                      'perimeter': 42.12, 'average_Polsby_Popper': 0.14,'bottleneck_Polsby_Popper': 0.10}\n",
    "    # Cooper plan 1\n",
    "    Cooper_plan_1_deviation = 323.66666666662786\n",
    "    Cooper_plan_1_scores = {'inverse_Polsby_Popper': 7.31, 'cut_edges': 34.00, \n",
    "                                      'perimeter': 40.53, 'average_Polsby_Popper': 0.17,'bottleneck_Polsby_Popper': 0.10}\n",
    "    # Cooper plan 2\n",
    "    Cooper_plan_2_deviation = 232.66666666662786\n",
    "    Cooper_plan_2_scores = {'inverse_Polsby_Popper': 8.18, 'cut_edges': 36.00, \n",
    "                                      'perimeter': 43.36, 'average_Polsby_Popper': 0.16,'bottleneck_Polsby_Popper': 0.09}\n",
    "    # Cooper plan 3\n",
    "    Cooper_plan_3_deviation = 115.66666666662786\n",
    "    Cooper_plan_3_scores = {'inverse_Polsby_Popper': 7.25, 'cut_edges': 35.00, \n",
    "                                      'perimeter': 40.65, 'average_Polsby_Popper': 0.16,'bottleneck_Polsby_Popper': 0.09}\n",
    "    extra_points = [\n",
    "                (enacted_map_deviation,  enacted_map_scores[obj_type], 'Enacted Map'),\n",
    "                (Cooper_plan_1_deviation,  Cooper_plan_1_scores[obj_type] , 'Cooper plan 1'),\n",
    "                (Cooper_plan_2_deviation,  Cooper_plan_2_scores[obj_type], 'Cooper plan 2'),\n",
    "                (Cooper_plan_3_deviation, Cooper_plan_3_scores[obj_type], 'Cooper plan 3'),\n",
    "                        ]\n",
    "    \n",
    "    #extra_colors: list of colors corresponding to the points in extra_points\n",
    "    extra_colors = ['r', 'g', 'c', 'y']  # Red, Green, Cyan, Yellow for each of the extra points\n",
    "    \n",
    "    for ep in extra_points:\n",
    "        print(f\"The {ep[2]} has an objective value of {ep[1]} and a deviation of {ep[0]}.\")\n",
    "else:\n",
    "    extra_points = None\n",
    "    extra_colors = None\n",
    "        \n",
    "pareto.tighten_lower_bounds()\n",
    "    \n",
    "if infeasible_region[1] > 0.5:\n",
    "    max_dev = max(upper_bound[0] for upper_bound in pareto.upper_bounds)\n",
    "    max_ce = max(upper_bound[1] for upper_bound in pareto.upper_bounds)\n",
    "    o1lim=[-1, max_dev+100]\n",
    "    o2lim=[-2, max_ce*(1.1)]\n",
    "else:\n",
    "    o1lim = None\n",
    "    o2lim = None\n",
    "\n",
    "pareto.plot_with_custom_x_ranges(method = 'epsilon_constraint_method', splits=None, \n",
    "                                 o1lim=o1lim, o2lim=o2lim, infeasible_region = infeasible_region,\n",
    "                                 extra_points=extra_points, extra_colors=extra_colors)"
   ]
  },
  {
   "cell_type": "code",
   "execution_count": null,
   "id": "87f2e465",
   "metadata": {},
   "outputs": [],
   "source": [
    "from pareto import ParetoFrontier\n",
    "\n",
    "print(f\"\\n{'#' * 100}\\nPareto Frontier for state {state},  objective {obj_type}\\n{'#' * 100}\\n\")\n",
    "pareto = ParetoFrontier(senses, obj_names, state=state, level='county')\n",
    "\n",
    "if not  plans:\n",
    "    print(\"No plan found!\")\n",
    "else:\n",
    "    for plan, obj_bound, dev in result:\n",
    "        upper_bound = [dev,  1/obj_bound[0] if  obj_type == 'bottleneck_Polsby_Popper' else obj_bound[0]]\n",
    "        lower_bound = [dev,  1/obj_bound[1] if  obj_type == 'bottleneck_Polsby_Popper' else obj_bound[1]]\n",
    "        \n",
    "        pareto.add_plan(plan, upper_bound, lower_bound)\n",
    "            \n",
    "print(\"Pareto front plans:\", pareto.plans)\n",
    "print(\"Pareto front upper bounds:\", pareto.upper_bounds)\n",
    "print(\"Pareto front lower bounds:\", pareto.lower_bounds)\n",
    "    \n",
    "#extra_points: list of tuples, each containing (deviation, objective_value, label)\n",
    "if  year == 2010:\n",
    "    \n",
    "    #2010 enacted map scores\n",
    "    enacted_map_deviation = 3197.333333333372\n",
    "    enacted_map_scores = {'inverse_Polsby_Popper': 7.75, 'cut_edges': 34.00, \n",
    "                                      'perimeter': 42.12, 'average_Polsby_Popper': 0.14,'bottleneck_Polsby_Popper': 0.10}\n",
    "    # Cooper plan 1\n",
    "    Cooper_plan_1_deviation = 323.66666666662786\n",
    "    Cooper_plan_1_scores = {'inverse_Polsby_Popper': 7.31, 'cut_edges': 34.00, \n",
    "                                      'perimeter': 40.53, 'average_Polsby_Popper': 0.17,'bottleneck_Polsby_Popper': 0.10}\n",
    "    # Cooper plan 2\n",
    "    Cooper_plan_2_deviation = 232.66666666662786\n",
    "    Cooper_plan_2_scores = {'inverse_Polsby_Popper': 8.18, 'cut_edges': 36.00, \n",
    "                                      'perimeter': 43.36, 'average_Polsby_Popper': 0.16,'bottleneck_Polsby_Popper': 0.09}\n",
    "    # Cooper plan 3\n",
    "    Cooper_plan_3_deviation = 115.66666666662786\n",
    "    Cooper_plan_3_scores = {'inverse_Polsby_Popper': 7.25, 'cut_edges': 35.00, \n",
    "                                      'perimeter': 40.65, 'average_Polsby_Popper': 0.16,'bottleneck_Polsby_Popper': 0.09}\n",
    "    extra_points = [\n",
    "                (enacted_map_deviation,  enacted_map_scores[obj_type], 'Enacted Map'),\n",
    "                (Cooper_plan_1_deviation,  Cooper_plan_1_scores[obj_type] , 'Cooper plan 1'),\n",
    "                (Cooper_plan_2_deviation,  Cooper_plan_2_scores[obj_type], 'Cooper plan 2'),\n",
    "                (Cooper_plan_3_deviation, Cooper_plan_3_scores[obj_type], 'Cooper plan 3'),\n",
    "                        ]\n",
    "    \n",
    "    #extra_colors: list of colors corresponding to the points in extra_points\n",
    "    extra_colors = ['r', 'g', 'c', 'y']  # Red, Green, Cyan, Yellow for each of the extra points\n",
    "    \n",
    "    for ep in extra_points:\n",
    "        print(f\"The {ep[2]} has an objective value of {ep[1]} and a deviation of {ep[0]}.\")\n",
    "else:\n",
    "    extra_points = None\n",
    "    extra_colors = None\n",
    "        \n",
    "pareto.tighten_lower_bounds()\n",
    "    \n",
    "if infeasible_region[1] > 0.5:\n",
    "    max_dev = max(upper_bound[0] for upper_bound in pareto.upper_bounds)\n",
    "    max_ce = max(upper_bound[1] for upper_bound in pareto.upper_bounds)\n",
    "    o1lim=[-1, max_dev+100]\n",
    "    o2lim=[-2, max_ce*(1.1)]\n",
    "else:\n",
    "    o1lim = None\n",
    "    o2lim = None\n",
    "\n",
    "pareto.plot_with_custom_x_ranges(method = 'epsilon_constraint_method', splits=None, \n",
    "                                 o1lim=o1lim, o2lim=o2lim, infeasible_region = infeasible_region,\n",
    "                                 extra_points=extra_points, extra_colors=extra_colors)"
   ]
  }
 ],
 "metadata": {
  "kernelspec": {
   "display_name": "Python 3 (ipykernel)",
   "language": "python",
   "name": "python3"
  },
  "language_info": {
   "codemirror_mode": {
    "name": "ipython",
    "version": 3
   },
   "file_extension": ".py",
   "mimetype": "text/x-python",
   "name": "python",
   "nbconvert_exporter": "python",
   "pygments_lexer": "ipython3",
   "version": "3.11.5"
  }
 },
 "nbformat": 4,
 "nbformat_minor": 5
}
