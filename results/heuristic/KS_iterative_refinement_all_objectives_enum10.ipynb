{
 "cells": [
  {
   "cell_type": "code",
   "execution_count": 1,
   "id": "ebc9ef86",
   "metadata": {},
   "outputs": [],
   "source": [
    "# only adjust settings in this cell\n",
    "state = 'KS' \n",
    "year = 2020\n",
    "enumeration_limit = 10"
   ]
  },
  {
   "cell_type": "code",
   "execution_count": 2,
   "id": "cf43a02c",
   "metadata": {},
   "outputs": [],
   "source": [
    "import sys, os\n",
    "src_path = os.path.abspath(os.path.join('..', '..', 'src'))\n",
    "sys.path.append(src_path)"
   ]
  },
  {
   "cell_type": "code",
   "execution_count": 3,
   "id": "40b8e2ef",
   "metadata": {},
   "outputs": [],
   "source": [
    "filepath = '../../dat/' + str(year) + '/'\n",
    "filename = state + '_county.json'\n",
    "filename2 = state + '_county.shp'"
   ]
  },
  {
   "cell_type": "code",
   "execution_count": 4,
   "id": "3aaa21d7",
   "metadata": {},
   "outputs": [
    {
     "name": "stdout",
     "output_type": "stream",
     "text": [
      "The state of KS has 4 districts.\n"
     ]
    }
   ],
   "source": [
    "from read import read_graph_from_json\n",
    "from epsilon_constraint import*\n",
    "import networkx as nx\n",
    "\n",
    "G = read_graph_from_json(state, filepath + filename, year=year)\n",
    "print(f\"The state of {state} has {G._k} districts.\")\n",
    "ideal_population = sum(G.nodes[i]['TOTPOP'] for i in G.nodes) / G._k"
   ]
  },
  {
   "cell_type": "code",
   "execution_count": null,
   "id": "a712f667-f3df-40b8-81b1-2024091aa6be",
   "metadata": {},
   "outputs": [
    {
     "name": "stdout",
     "output_type": "stream",
     "text": [
      "*****************************************\n",
      "Trying deviation = 0.5.\n",
      "*****************************************\n",
      "Set parameter Username\n",
      "Set parameter LicenseID to value 2608266\n",
      "Academic license - for non-commercial use only - expires 2026-01-09\n"
     ]
    }
   ],
   "source": [
    "from optimization import iterative_refinement\n",
    "from math import ceil, floor\n",
    "import time\n",
    "\n",
    "deviation = 1/2\n",
    "max_deviation = 0.01 * ideal_population\n",
    "plans = list()\n",
    "\n",
    "while True:\n",
    "\n",
    "    print(\"*****************************************\")\n",
    "    print(f\"Trying deviation = {deviation}.\")\n",
    "    print(\"*****************************************\")\n",
    "    \n",
    "    L = ceil( ideal_population - deviation )\n",
    "    U = floor( ideal_population + deviation )\n",
    "\n",
    "    start_time = time.perf_counter()\n",
    "    plans += iterative_refinement(G, L, U, G._k, state, enumeration_limit=enumeration_limit, verbose=False)\n",
    "    print(\"Total time =\",round(time.perf_counter() - start_time,2))\n",
    "\n",
    "    if deviation == max_deviation:\n",
    "        break\n",
    "    \n",
    "    deviation *= 2\n",
    "    deviation = min( deviation, max_deviation )"
   ]
  },
  {
   "cell_type": "code",
   "execution_count": null,
   "id": "3b9c9b91-e12d-4b32-8d22-e57b6a9d94b5",
   "metadata": {},
   "outputs": [],
   "source": [
    "from pareto import ParetoFrontier\n",
    "from metrics import *\n",
    "from draw import draw_plan\n",
    "\n",
    "# set dummy values... (because compute_obj checks plan feasibility...)\n",
    "G._L = 0 \n",
    "G._U = G._k * ideal_population\n",
    "pareto = dict()\n",
    "\n",
    "obj_types = ['cut_edges', 'perimeter', 'inverse_Polsby_Popper', 'average_Polsby_Popper', 'bottleneck_Polsby_Popper']\n",
    "\n",
    "for obj_type in obj_types:\n",
    "\n",
    "    print(\"***************************************\")\n",
    "    print(\"obj_type =\", obj_type)\n",
    "    print(\"***************************************\")\n",
    "    \n",
    "    senses = ['min', 'max' if obj_type in ['average_Polsby_Popper', 'bottleneck_Polsby_Popper'] else 'min']\n",
    "    obj_names = ['deviation_persons', obj_type]\n",
    "    pareto[obj_type] = ParetoFrontier(senses, obj_names, state=state, level='county')\n",
    "    \n",
    "    for plan in plans:  \n",
    "        dev = observed_deviation_persons(G, plan, ideal_population)\n",
    "        obj = compute_obj(G, plan, obj_type)\n",
    "        objs_val = [dev, obj]\n",
    "        pareto[obj_type].add_plan(plan, upper_bound=objs_val)\n",
    "                \n",
    "    print(\"Pareto front objective values:\", pareto[obj_type].upper_bounds)\n",
    "    pareto[obj_type].tighten_lower_bounds()    \n",
    "    pareto[obj_type].plot()   \n",
    "    pareto[obj_type].plot_with_custom_x_ranges(method = 'heuristic', splits=None)\n",
    "    \n",
    "    \n",
    "    pareto[obj_type].draw_plans()"
   ]
  },
  {
   "cell_type": "code",
   "execution_count": null,
   "id": "7af30389-a40c-489b-9b59-0087de749064",
   "metadata": {},
   "outputs": [],
   "source": [
    "len(plans)"
   ]
  },
  {
   "cell_type": "code",
   "execution_count": null,
   "id": "978c6e2a-9a3f-4440-8c4a-9c53e0e33616",
   "metadata": {},
   "outputs": [],
   "source": [
    "for obj_type in obj_types:\n",
    "\n",
    "    print(\"***************************************\")\n",
    "    print(\"obj_type =\", obj_type)\n",
    "    print(\"***************************************\")\n",
    "    print(\"Pareto front plans:\", pareto[obj_type].plans)"
   ]
  }
 ],
 "metadata": {
  "kernelspec": {
   "display_name": "Python 3 (ipykernel)",
   "language": "python",
   "name": "python3"
  },
  "language_info": {
   "codemirror_mode": {
    "name": "ipython",
    "version": 3
   },
   "file_extension": ".py",
   "mimetype": "text/x-python",
   "name": "python",
   "nbconvert_exporter": "python",
   "pygments_lexer": "ipython3",
   "version": "3.11.5"
  }
 },
 "nbformat": 4,
 "nbformat_minor": 5
}
