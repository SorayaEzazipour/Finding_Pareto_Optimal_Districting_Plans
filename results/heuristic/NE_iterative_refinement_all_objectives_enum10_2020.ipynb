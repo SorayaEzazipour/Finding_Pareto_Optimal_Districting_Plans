{
 "cells": [
  {
   "cell_type": "code",
   "execution_count": 1,
   "id": "ebc9ef86",
   "metadata": {},
   "outputs": [],
   "source": [
    "# only adjust settings in this cell\n",
    "state = 'NE' \n",
    "year = 2020\n",
    "enumeration_limit = 10"
   ]
  },
  {
   "cell_type": "code",
   "execution_count": 2,
   "id": "40b8e2ef",
   "metadata": {},
   "outputs": [],
   "source": [
    "import sys, os\n",
    "src_path = os.path.abspath(os.path.join('..', '..', 'src'))\n",
    "sys.path.append(src_path)"
   ]
  },
  {
   "cell_type": "code",
   "execution_count": 3,
   "id": "3aaa21d7",
   "metadata": {},
   "outputs": [],
   "source": [
    "filepath = '../../dat/' + str(year) + '/'\n",
    "filename = state + '_county.json'\n",
    "filename2 = state + '_county.shp'"
   ]
  },
  {
   "cell_type": "code",
   "execution_count": 4,
   "id": "f4d714fe",
   "metadata": {},
   "outputs": [
    {
     "name": "stdout",
     "output_type": "stream",
     "text": [
      "The state of NE has 3 districts.\n"
     ]
    }
   ],
   "source": [
    "from read import read_graph_from_json\n",
    "import networkx as nx\n",
    "\n",
    "G = read_graph_from_json(state, filepath + filename, year=year)\n",
    "print(f\"The state of {state} has {G._k} districts.\")\n",
    "ideal_population = sum(G.nodes[i]['TOTPOP'] for i in G.nodes) / G._k"
   ]
  },
  {
   "cell_type": "code",
   "execution_count": null,
   "id": "a712f667-f3df-40b8-81b1-2024091aa6be",
   "metadata": {},
   "outputs": [
    {
     "name": "stdout",
     "output_type": "stream",
     "text": [
      "\n",
      "*****************************************\n",
      "Trying deviation = 0.5.\n",
      "*****************************************\n",
      "Set parameter Username\n",
      "Set parameter LicenseID to value 2608266\n",
      "Academic license - for non-commercial use only - expires 2026-01-09\n",
      "Total time = 0.1\n",
      "\n",
      "*****************************************\n",
      "Trying deviation = 1.0.\n",
      "*****************************************\n"
     ]
    }
   ],
   "source": [
    "from optimization import generate_plans_with_refinement\n",
    "\n",
    "plans, first_feasible_dev = generate_plans_with_refinement(G, ideal_population, state, year, enumeration_limit)"
   ]
  },
  {
   "cell_type": "code",
   "execution_count": null,
   "id": "bac27d47",
   "metadata": {},
   "outputs": [],
   "source": [
    "no_solution_region = [0, first_feasible_dev] if first_feasible_dev > 0.5 else None\n",
    "print(f\"No feasible solution was found within the region: {no_solution_region}\")"
   ]
  },
  {
   "cell_type": "code",
   "execution_count": null,
   "id": "3b9c9b91-e12d-4b32-8d22-e57b6a9d94b5",
   "metadata": {},
   "outputs": [],
   "source": [
    "from pareto import plot_pareto_frontiers\n",
    "\n",
    "obj_types = ['cut_edges', 'perimeter', 'inverse_Polsby_Popper', 'average_Polsby_Popper', 'bottleneck_Polsby_Popper']\n",
    "\n",
    "pareto_plans = plot_pareto_frontiers(\n",
    "                G,\n",
    "                method='heuristic',\n",
    "                plans=plans,                                   #if method ='epsilon_constraint_method' is None \n",
    "                obj_types=obj_types,                           #if method ='epsilon_constraint_method' is obj_type\n",
    "                ideal_population=ideal_population,\n",
    "                state=state,\n",
    "                filepath=filepath,\n",
    "                filename2=filename2,\n",
    "                no_solution_region=no_solution_region,\n",
    "                year=year,\n",
    "                result=None,                                   #if method ='heuristic' is None \n",
    "             )"
   ]
  },
  {
   "cell_type": "code",
   "execution_count": null,
   "id": "7af30389-a40c-489b-9b59-0087de749064",
   "metadata": {},
   "outputs": [],
   "source": [
    "len(plans)"
   ]
  },
  {
   "cell_type": "code",
   "execution_count": null,
   "id": "24606a6a-c0aa-407a-bed3-025ec92adcd3",
   "metadata": {},
   "outputs": [],
   "source": [
    "for obj_type in obj_types:\n",
    "    print(\"***************************************\")\n",
    "    print(\"obj_type =\", obj_type)\n",
    "    print(\"***************************************\")\n",
    "    print(\"Pareto front plans:\", pareto_plans[obj_type])"
   ]
  }
 ],
 "metadata": {
  "kernelspec": {
   "display_name": "Python 3 (ipykernel)",
   "language": "python",
   "name": "python3"
  },
  "language_info": {
   "codemirror_mode": {
    "name": "ipython",
    "version": 3
   },
   "file_extension": ".py",
   "mimetype": "text/x-python",
   "name": "python",
   "nbconvert_exporter": "python",
   "pygments_lexer": "ipython3",
   "version": "3.11.5"
  }
 },
 "nbformat": 4,
 "nbformat_minor": 5
}
